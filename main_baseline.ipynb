{
 "cells": [
  {
   "cell_type": "markdown",
   "id": "66487ede",
   "metadata": {},
   "source": [
    "# 睿抗 2025 智海人工智能算法应用赛\n",
    "**语音情绪识别**：官网基线代码  \n",
    "跑完官方基线：线上测试分数 约 0.677"
   ]
  },
  {
   "cell_type": "markdown",
   "id": "a3631346",
   "metadata": {},
   "source": [
    "# 音频情绪分析"
   ]
  },
  {
   "cell_type": "markdown",
   "id": "34eda2ca",
   "metadata": {},
   "source": [
    "## 1. 赛项背景"
   ]
  },
  {
   "cell_type": "markdown",
   "id": "c8d171a7",
   "metadata": {},
   "source": [
    "### 1.1 引言和背景介绍：\n",
    "  音频情绪分析是一项涉及音频信号处理和情感识别的任务，旨在从音频数据中自动识别和分析情感状态。随着音频数据的快速增长和情感智能识别的应用需求增加，音频情绪分析成为了一个备受关注的研究领域。通过对音频信号的分析和建模，我们可以深入了解音频中的情感表达和语义信息，为实现情感驱动的应用和音频内容的智能推荐提供重要支持。  \n",
    "  在音频情绪分析领域，已有大量的研究工作和技术方法。从传统的基于信号处理和机器学习的方法到现代的基于深度学习的方法，研究者们不断探索和改进情感识别的技术手段。传统方法主要依赖于手工设计的特征提取和分类器，而深度学习方法通过端到端的学习从原始音频数据中学习特征表示和情感分类模型。然而，音频情绪分析仍面临着诸多挑战，如音频数据的多样性、情感表达的主观性和多样性、数据标注的困难等。"
   ]
  },
  {
   "cell_type": "markdown",
   "id": "2021e543",
   "metadata": {},
   "source": [
    "### 1.2 项目目标和意义：\n",
    "   本赛题旨在利用音频情绪分析技术，开发一个高效准确的语音情绪分类模型，为实际应用中的情感驱动系统和情感智能识别提供可靠的解决方案。  \n",
    "   通过该赛题能够改进情感识别的准确性和鲁棒性，探索新的特征表示和模型结构，以满足不同应用场景对音频情绪分析的需求。这将有助于实现更加智能和个性化的客户服务、音乐推荐和情感监测等应用。"
   ]
  },
  {
   "cell_type": "markdown",
   "id": "75e9b633",
   "metadata": {},
   "source": [
    "## 2. 数据集介绍\n",
    "\n",
    "数据集包含多语种的音频文件，涵盖了 5 种情感类别的音频样本，包括 anger、fear、happy、neutral、sad，文件类型均为 `wav` 格式。  \n",
    "音频文件统一处理为 44100 Hz，进行单位范数归一化处理，防止音量过大或过小，并采用简易降噪。  \n",
    "数据集路径为 `datasets/67fc7ccbb88b01da6626732d-momodel/train`\n",
    "\n",
    "数据集结构  \n",
    "``` \n",
    "train\n",
    "├── anger/  \n",
    "│   ├── 1.wav  \n",
    "│   ├── 2.wav  \n",
    "│   ├── ...   \n",
    "├── fear/\n",
    "│   ├── 1.wav\n",
    "│   ├── 2.wav\n",
    "│   ├── ... \n",
    "├── happy/\n",
    "│   ├── 1.wav\n",
    "│   ├── 2.wav\n",
    "│   ├── ... \n",
    "├── netural/\n",
    "│   ├── 1.wav\n",
    "│   ├── 2.wav\n",
    "│   ├── ... \n",
    "└── sad/\n",
    "    ├── 1.wav\n",
    "    ├── 2.wav\n",
    "    ├── ... ``` "
   ]
  },
  {
   "cell_type": "markdown",
   "id": "ef5350f4",
   "metadata": {},
   "source": [
    "`PyTorch`是一个开源的深度学习框架，具有以下特点和优势：\n",
    "\n",
    "- 强大的计算能力：`PyTorch` 提供了高效的张量计算和自动求导功能，可以处理大规模的音频数据集和复杂的神经网络模型。\n",
    "- 灵活的模型构建：`PyTorch` 采用了动态图的编程模式，可以根据需要灵活选择使用动态图进行快速原型设计和调试。\n",
    "- 易于使用的接口：`PyTorch` 提供了简洁、直观的API和模型组件，使模型构建、训练和评估过程更加简单和可控。\n",
    "\n",
    "下面使用 `PyTorch` 搭建模型，并逐步实现音频情绪分类任务。  \n",
    "主要流程包括数据预处理、特征提取、模型构建和训练、性能评估等。"
   ]
  },
  {
   "cell_type": "markdown",
   "id": "a849cfa6",
   "metadata": {},
   "source": [
    "## 3. 数据处理"
   ]
  },
  {
   "cell_type": "markdown",
   "id": "669d4253",
   "metadata": {},
   "source": [
    "### 3.1 处理步骤:\n",
    "\n",
    "1. 提取音频特征，包括 MFCC 特征、谱质心和谱带宽特征 : \n",
    "\n",
    "\n",
    "- MFCC 能够反映音频信号的谐波结构和频谱包络，还能够能够捕捉音频信号的频率分布，包括基频和谐波成分;\n",
    "- 谱带宽指信号的频谱分布的宽度，可以用来反映音频信号在频率轴上的波动程度或频谱的宽窄程度；\n",
    "- 谱质心指信号的频谱分布在频率轴上的中心位置，可以用来反映音频的音调或音色特征。它代表了频谱分布的平均频率，可以用来描述音频信号的整体音高。\n",
    "\n",
    "\n",
    "2. 将特征在特征维度进行标准化，利用零填充的方式对各特征处理，使其维度同一为 300。\n",
    "\n",
    "\n",
    "- 不同特征往往具有不同的度量单位，这导致特征值的范围差异很大。标准化可以消除这些差异，使得不同特征具有相同的尺度，有利于模型的收敛和优化过程。\n",
    "\n",
    "\n",
    "\n",
    "3. 将处理后的特征进行合并，不同类型的特征融合在一起，综合利用多个信息源的信息，以更全面地表达音频中的情绪信息。"
   ]
  },
  {
   "cell_type": "code",
   "execution_count": 1,
   "id": "e03964b2",
   "metadata": {},
   "outputs": [],
   "source": [
    "import torch\n",
    "import random\n",
    "import numpy as np"
   ]
  },
  {
   "cell_type": "code",
   "execution_count": 2,
   "id": "82847ded",
   "metadata": {},
   "outputs": [],
   "source": [
    "def set_seed(seed=42):\n",
    "    random.seed(seed)  # Python 内置随机数\n",
    "    np.random.seed(seed)  # NumPy 随机数\n",
    "    torch.manual_seed(seed)  # CPU 上的随机数\n",
    "    torch.cuda.manual_seed(seed)  # GPU 上的随机数\n",
    "    torch.cuda.manual_seed_all(seed)  # 多 GPU 情况下的随机数\n",
    "    torch.backends.cudnn.deterministic = True  # 确保每次卷积结果一致\n",
    "    torch.backends.cudnn.benchmark = False     # 禁用自动优化\n",
    "\n",
    "set_seed()"
   ]
  },
  {
   "cell_type": "code",
   "execution_count": 3,
   "id": "31643d69",
   "metadata": {},
   "outputs": [],
   "source": [
    "import torchaudio.transforms as T\n",
    "import torchaudio"
   ]
  },
  {
   "cell_type": "code",
   "execution_count": 4,
   "id": "144c9ff3",
   "metadata": {},
   "outputs": [],
   "source": [
    "def compute_feature(audio, sample_rate = 44100, n_fft = 2048, win_length = 2048, hop_length = 512, p = 2):\n",
    "    # 计算音频的谱质心和 谱带宽\n",
    "    window = torch.hann_window(win_length)\n",
    "\n",
    "    stft = torch.stft(audio, n_fft=n_fft, hop_length=hop_length, win_length=win_length, window = window, return_complex=True)\n",
    "    magnitude = stft.abs().squeeze(0) # [freq_bins, time_frames]\n",
    "    # 计算频率 bin 对应的频率\n",
    "    freq_bins = magnitude.size(0)\n",
    "    freqs = torch.linspace(0, sample_rate / 2, steps=freq_bins).unsqueeze(1)  # [freq_bins, 1]\n",
    "    # 计算谱质心\n",
    "    centroid = (freqs * magnitude).sum(dim=0) / (magnitude.sum(dim=0) + 1e-10)  # [time_frames]\n",
    "    # 计算谱带宽\n",
    "    deviation = (freqs - centroid.unsqueeze(0)).abs() ** p\n",
    "    bandwidth = (magnitude * deviation).sum(dim=0) / (magnitude.sum(dim=0) + 1e-10)\n",
    "    bandwidth = bandwidth ** (1 / p)  # [time_frames]\n",
    "\n",
    "    return centroid.unsqueeze(0), bandwidth.unsqueeze(0)"
   ]
  },
  {
   "cell_type": "code",
   "execution_count": 5,
   "id": "ddafa68f",
   "metadata": {},
   "outputs": [],
   "source": [
    "import os\n",
    "import torch\n",
    "from torch.utils.data import Dataset\n",
    "import torchaudio\n",
    "import torchaudio.transforms as T\n",
    "import numpy as np\n",
    "\n",
    "class AudioEmotionDataset(Dataset):\n",
    "    def __init__(self, root_dir, n_mfcc=10, max_len=300, sr=44100, n_fft=2048, hop_length=512, win_length=2048, p=2):\n",
    "        self.root_dir = root_dir\n",
    "        self.sr = sr\n",
    "        self.n_mfcc = n_mfcc\n",
    "        self.max_len = max_len\n",
    "        self.n_fft = n_fft\n",
    "        self.hop_length = hop_length\n",
    "        self.win_length = win_length\n",
    "        self.p = p\n",
    "\n",
    "        self.data = []\n",
    "        self.labels = []\n",
    "        self.label2idx = {}\n",
    "\n",
    "        self._load_dataset()\n",
    "        self.file_list = self.data  # ✅ 添加用于外部分层抽样\n",
    "\n",
    "    def _load_dataset(self):\n",
    "        label_names = sorted(os.listdir(self.root_dir))\n",
    "        self.label2idx = {label: idx for idx, label in enumerate(label_names)}\n",
    "\n",
    "        for label in label_names:\n",
    "            label_path = os.path.join(self.root_dir, label)\n",
    "            if not os.path.isdir(label_path):\n",
    "                continue\n",
    "            for fname in os.listdir(label_path):\n",
    "                if fname.endswith(\".wav\"):\n",
    "                    file_path = os.path.join(label_path, fname)\n",
    "                    self.data.append(file_path)\n",
    "                    self.labels.append(self.label2idx[label])\n",
    "\n",
    "    def __len__(self):\n",
    "        return len(self.data)\n",
    "\n",
    "    def __getitem__(self, idx):\n",
    "        file_path = self.data[idx]\n",
    "        label = self.labels[idx]\n",
    "\n",
    "        audio, sr = torchaudio.load(file_path)\n",
    "\n",
    "        # 重采样\n",
    "        resampler = T.Resample(orig_freq=sr, new_freq=self.sr)\n",
    "        audio = resampler(audio).float()\n",
    "\n",
    "        # === MFCC ===\n",
    "        mfcc_transform = T.MFCC(\n",
    "            sample_rate=self.sr,\n",
    "            n_mfcc=self.n_mfcc,\n",
    "            melkwargs={'n_fft': self.n_fft, 'hop_length': self.hop_length}\n",
    "        )\n",
    "        mfcc = mfcc_transform(audio)  # shape: [1, n_mfcc, T]\n",
    "\n",
    "        # === 自定义谱特征 ===\n",
    "        centroid, bandwidth = compute_feature(\n",
    "            audio,\n",
    "            sample_rate=self.sr,\n",
    "            n_fft=self.n_fft,\n",
    "            win_length=self.win_length,\n",
    "            hop_length=self.hop_length,\n",
    "            p=self.p\n",
    "        )\n",
    "\n",
    "        # 合并特征\n",
    "        feature = torch.cat([mfcc.squeeze(0), centroid, bandwidth], dim=0)\n",
    "\n",
    "        # 标准化\n",
    "        feature = (feature - feature.mean(dim=1, keepdim=True)) / (feature.std(dim=1, keepdim=True) + 1e-6)\n",
    "\n",
    "        # 填充或裁剪\n",
    "        if feature.shape[1] < self.max_len:\n",
    "            pad_width = self.max_len - feature.shape[1]\n",
    "            feature = torch.nn.functional.pad(feature, (0, pad_width), mode='constant', value=0)\n",
    "        else:\n",
    "            feature = feature[:, :self.max_len]\n",
    "\n",
    "        # 转为 [T, feature_dim]\n",
    "        feature = feature.transpose(0, 1)\n",
    "\n",
    "        return feature, torch.tensor(label, dtype=torch.long)\n"
   ]
  },
  {
   "cell_type": "markdown",
   "id": "36494c82",
   "metadata": {},
   "source": [
    "下列代码创建 dataloader 实例"
   ]
  },
  {
   "cell_type": "markdown",
   "id": "de43f821",
   "metadata": {},
   "source": [
    "可视化某个音频文件中提取的特征曲线"
   ]
  },
  {
   "cell_type": "code",
   "execution_count": 6,
   "id": "173e4693",
   "metadata": {},
   "outputs": [],
   "source": [
    "# import matplotlib.pyplot as plt\n",
    "\n",
    "# for x, y in train_loader:\n",
    "#     plt.figure(figsize=(10, 6))\n",
    "#     sample = x[0, : ,:].T\n",
    "#     for i in range(sample.shape[0]):\n",
    "#         plt.plot(sample[i], label=f\"con_feature {i+1}\")\n",
    "#     plt.xlabel(\"Time\")\n",
    "#     plt.ylabel(\"feature\")\n",
    "#     plt.legend(loc=\"upper right\")\n",
    "#     plt.title(\"feature\")\n",
    "#     plt.show()\n",
    "#     break"
   ]
  },
  {
   "cell_type": "markdown",
   "id": "1d6afb78",
   "metadata": {},
   "source": [
    "- 特征融合使特征表达更全面：MFCC 主要反映音色与语音内容，谱质心描述频谱能量集中程度，谱带宽则衡量频率分布范围。融合后能提供更完整、立体的音频描述。  \n",
    "- 不同特征对噪声的敏感性不同，融合后可以互相补充、弱化噪声影响，增强模型对复杂背景环境的适应能力。  \n",
    "- 多维度特征融合为模型提供更多判别信息，提升模型对情绪、说话人或环境类型的识别效果。  \n",
    "- 单一特征在某些场景下可能失效，而多特征融合能在不同场景中保持稳定表现，减少模型对特定特征的依赖。  \n",
    "\n"
   ]
  },
  {
   "cell_type": "markdown",
   "id": "3868197a",
   "metadata": {},
   "source": [
    "## 4. 模型构建"
   ]
  },
  {
   "cell_type": "code",
   "execution_count": 7,
   "id": "f241d843",
   "metadata": {},
   "outputs": [],
   "source": [
    "import torch\n",
    "import torch.nn as nn\n",
    "import torch.nn.functional as F"
   ]
  },
  {
   "cell_type": "code",
   "execution_count": 8,
   "id": "aec85f27",
   "metadata": {},
   "outputs": [],
   "source": [
    "class SERModel(nn.Module):\n",
    "    def __init__(self, input_dim=12, num_classes=5, cnn_out_channels=64, lstm_hidden=128, lstm_layers=2):\n",
    "        super(SERModel, self).__init__()\n",
    "\n",
    "        self.cnn = nn.Sequential(\n",
    "            nn.Conv2d(1, cnn_out_channels, kernel_size=(3, 3), padding=1),\n",
    "            nn.BatchNorm2d(cnn_out_channels),\n",
    "            nn.ReLU(),\n",
    "            nn.MaxPool2d(kernel_size=(2, 2))  # (T/2, F/2)\n",
    "        )\n",
    "\n",
    "        # BiLSTM to capture temporal dependencies\n",
    "        self.bilstm = nn.LSTM(\n",
    "            input_size=(input_dim // 2) * cnn_out_channels,\n",
    "            hidden_size=lstm_hidden,\n",
    "            num_layers=lstm_layers,\n",
    "            batch_first=True,\n",
    "            bidirectional=True\n",
    "        )\n",
    "\n",
    "        # Attention mechanism\n",
    "        self.attention = nn.Linear(2 * lstm_hidden, 1)\n",
    "\n",
    "        # Final classifier\n",
    "        self.fc = nn.Sequential(\n",
    "            nn.Linear(2 * lstm_hidden, 64),\n",
    "            nn.ReLU(),\n",
    "            nn.Dropout(0.5),\n",
    "            nn.Linear(64, num_classes)\n",
    "        )\n",
    "\n",
    "    def forward(self, x):\n",
    "        # x: (B, T, F) => (B, 1, T, F)\n",
    "        x = x.unsqueeze(1)\n",
    "        x = self.cnn(x)  # (B, C, T', F')\n",
    "        B, C, T, F = x.size()\n",
    "        x = x.permute(0, 2, 1, 3).contiguous().view(B, T, C * F)  # (B, T, C*F)\n",
    "\n",
    "        x, _ = self.bilstm(x)  # (B, T, 2*H)\n",
    "        attn_weights = torch.softmax(self.attention(x), dim=1)  # (B, T, 1)\n",
    "        x = torch.sum(attn_weights * x, dim=1)  # (B, 2*H) 根据注意力权重计算加权值\n",
    "        out = self.fc(x)\n",
    "        return out"
   ]
  },
  {
   "cell_type": "markdown",
   "id": "d3fa146c",
   "metadata": {},
   "source": [
    "## 5. 模型训练\n",
    "\n",
    "使用`Adam`优化器对网络模型的可训练参数进行优化，并使用`CrossEntropyLoss`交叉熵损失函数计算模型的损失。  \n",
    "\n",
    "``` python\n",
    "batch_size = 32  \n",
    "lr = 0.001   \n",
    "```\n",
    "\n",
    "将训练得到的的模型储存到`result/`路径下。  \n",
    "notebook 环境只能使用 cpu 进行训练，因此将训练代码转为 .py 格式，并在 gpu 环境中训练，具体可参照 `train.py` 文件。\n",
    "\n",
    "\n",
    "\n"
   ]
  },
  {
   "cell_type": "code",
   "execution_count": 9,
   "id": "82814eb1-4472-435f-b0d9-4d84e147244a",
   "metadata": {},
   "outputs": [
    {
     "name": "stdout",
     "output_type": "stream",
     "text": [
      "📊 类别数量统计：\n",
      "    anger : 1642 个样本\n",
      "     fear : 1350 个样本\n",
      "    happy : 1622 个样本\n",
      "  neutral : 1467 个样本\n",
      "      sad : 1675 个样本\n",
      "\n",
      "🎧 音频时长统计：\n",
      "  平均时长: 2.67 秒\n",
      "  最短时长: 1.25 秒\n",
      "  最长时长: 7.13 秒\n",
      "\n",
      "📈 每个类别的平均时长：\n",
      "    anger : 2.71 秒\n",
      "     fear : 2.47 秒\n",
      "    happy : 2.58 秒\n",
      "  neutral : 2.64 秒\n",
      "      sad : 2.88 秒\n"
     ]
    }
   ],
   "source": [
    "import os\n",
    "import librosa\n",
    "from collections import defaultdict, Counter\n",
    "import matplotlib.pyplot as plt\n",
    "\n",
    "data_path = 'datasets/67fc7ccbb88b01da6626732d-momodel/train/'\n",
    "\n",
    "emotion_counts = Counter()\n",
    "durations_per_class = defaultdict(list)\n",
    "all_durations = []\n",
    "all_labels = []\n",
    "\n",
    "# 遍历每个类别文件夹\n",
    "for emotion in os.listdir(data_path):\n",
    "    emotion_dir = os.path.join(data_path, emotion)\n",
    "    if not os.path.isdir(emotion_dir):\n",
    "        continue\n",
    "\n",
    "    wav_files = [f for f in os.listdir(emotion_dir) if f.endswith('.wav')]\n",
    "    emotion_counts[emotion] += len(wav_files)\n",
    "\n",
    "    for wav_file in wav_files:\n",
    "        file_path = os.path.join(emotion_dir, wav_file)\n",
    "        try:\n",
    "            y, sr = librosa.load(file_path, sr=None)\n",
    "            duration = librosa.get_duration(y=y, sr=sr)\n",
    "            durations_per_class[emotion].append(duration)\n",
    "            all_durations.append(duration)\n",
    "            all_labels.append(emotion)\n",
    "        except Exception as e:\n",
    "            print(f\"读取失败: {file_path}，原因: {e}\")\n",
    "\n",
    "# === 打印统计信息 ===\n",
    "print(\"📊 类别数量统计：\")\n",
    "for emotion, count in emotion_counts.items():\n",
    "    print(f\"  {emotion:>7} : {count} 个样本\")\n",
    "\n",
    "print(\"\\n🎧 音频时长统计：\")\n",
    "print(f\"  平均时长: {sum(all_durations)/len(all_durations):.2f} 秒\")\n",
    "print(f\"  最短时长: {min(all_durations):.2f} 秒\")\n",
    "print(f\"  最长时长: {max(all_durations):.2f} 秒\")\n",
    "\n",
    "# 每类平均时长\n",
    "print(\"\\n📈 每个类别的平均时长：\")\n",
    "for emotion, durations in durations_per_class.items():\n",
    "    avg_dur = sum(durations) / len(durations)\n",
    "    print(f\"  {emotion:>7} : {avg_dur:.2f} 秒\")"
   ]
  },
  {
   "cell_type": "code",
   "execution_count": 10,
   "id": "5bd6b3b1-6a67-4d51-bc64-af9458e1d8fd",
   "metadata": {},
   "outputs": [
    {
     "data": {
      "image/png": "[encoded data removed]",
      "text/plain": [
       "<Figure size 1000x400 with 2 Axes>"
      ]
     },
     "metadata": {},
     "output_type": "display_data"
    }
   ],
   "source": [
    "# === 可视化 ===\n",
    "plt.figure(figsize=(10, 4))\n",
    "\n",
    "# 类别分布条形图\n",
    "plt.subplot(1, 2, 1)\n",
    "plt.bar(emotion_counts.keys(), emotion_counts.values(), color='skyblue')\n",
    "plt.title(\"class distribution\")\n",
    "plt.xlabel(\"emotion\")\n",
    "plt.ylabel(\"num samples\")\n",
    "\n",
    "# 时长分布直方图\n",
    "plt.subplot(1, 2, 2)\n",
    "plt.hist(all_durations, bins=30, color='lightcoral', edgecolor='black')\n",
    "plt.title(\"time distribution\")\n",
    "plt.xlabel(\"time\")\n",
    "plt.ylabel(\"num samples\")\n",
    "\n",
    "plt.tight_layout()\n",
    "plt.show()"
   ]
  },
  {
   "cell_type": "code",
   "execution_count": 11,
   "id": "aef8a254-8000-4077-bb7f-53faaff54bec",
   "metadata": {},
   "outputs": [],
   "source": [
    "import torch\n",
    "import torch.nn as nn\n",
    "import torch.optim as optim\n",
    "from torch.utils.data import DataLoader\n",
    "from sklearn.metrics import f1_score, accuracy_score\n",
    "import numpy as np\n",
    "from tqdm import tqdm\n",
    "from torch.utils.data import DataLoader\n",
    "from sklearn.model_selection import train_test_split\n",
    "from torch.utils.data import Subset, DataLoader\n",
    "\n",
    "data_path = 'datasets/67fc7ccbb88b01da6626732d-momodel/train/'\n",
    "dataset = AudioEmotionDataset(data_path)\n",
    "\n",
    "all_indices = list(range(len(dataset)))\n",
    "all_labels = dataset.labels  # ✔️ 可以直接用于 stratify\n",
    "\n",
    "train_idx, val_idx = train_test_split(\n",
    "    all_indices,\n",
    "    test_size=0.2,\n",
    "    stratify=all_labels,\n",
    "    shuffle=True,\n",
    "    random_state=42\n",
    ")\n",
    "\n",
    "train_set = Subset(dataset, train_idx)\n",
    "val_set   = Subset(dataset, val_idx)\n",
    "\n",
    "train_loader = DataLoader(train_set, batch_size=32, shuffle=True, drop_last=True)\n",
    "val_loader   = DataLoader(val_set,   batch_size=32, shuffle=False)"
   ]
  },
  {
   "cell_type": "code",
   "execution_count": 12,
   "id": "cf995b83-1092-469e-8917-153f16b49e4b",
   "metadata": {},
   "outputs": [
    {
     "name": "stdout",
     "output_type": "stream",
     "text": [
      "特征 shape: torch.Size([32, 300, 12])\n",
      "标签 shape: torch.Size([32])\n"
     ]
    }
   ],
   "source": [
    "# 查看一个 batch 的数据形状\n",
    "for batch in train_loader:\n",
    "    features, labels = batch\n",
    "    print(f\"特征 shape: {features.shape}\")  # 通常是 [B, T, D]\n",
    "    print(f\"标签 shape: {labels.shape}\")    # 通常是 [B]\n",
    "    break  # 只看第一个 batch 就行"
   ]
  },
  {
   "cell_type": "code",
   "execution_count": 13,
   "id": "cdf2cfae-1ce6-4334-9918-f1bfee52f0b2",
   "metadata": {},
   "outputs": [
    {
     "name": "stderr",
     "output_type": "stream",
     "text": [
      "Epoch 1/30: 100%|██████████| 193/193 [00:28<00:00,  6.84it/s]\n"
     ]
    },
    {
     "name": "stdout",
     "output_type": "stream",
     "text": [
      "[Epoch 1] Train Loss: 1.5695 | Train F1: 0.2694\n"
     ]
    },
    {
     "ename": "TypeError",
     "evalue": "autocast.__init__() missing 1 required positional argument: 'device_type'",
     "output_type": "error",
     "traceback": [
      "\u001b[0;31m---------------------------------------------------------------------------\u001b[0m",
      "\u001b[0;31mTypeError\u001b[0m                                 Traceback (most recent call last)",
      "Cell \u001b[0;32mIn[13], line 45\u001b[0m\n\u001b[1;32m     43\u001b[0m model\u001b[38;5;241m.\u001b[39meval()\n\u001b[1;32m     44\u001b[0m val_preds, val_labels \u001b[38;5;241m=\u001b[39m [], []\n\u001b[0;32m---> 45\u001b[0m \u001b[38;5;28;01mwith\u001b[39;00m torch\u001b[38;5;241m.\u001b[39mno_grad(), \u001b[43mtorch\u001b[49m\u001b[38;5;241;43m.\u001b[39;49m\u001b[43mamp\u001b[49m\u001b[38;5;241;43m.\u001b[39;49m\u001b[43mautocast\u001b[49m\u001b[43m(\u001b[49m\u001b[43menabled\u001b[49m\u001b[38;5;241;43m=\u001b[39;49m\u001b[43mtorch\u001b[49m\u001b[38;5;241;43m.\u001b[39;49m\u001b[43mcuda\u001b[49m\u001b[38;5;241;43m.\u001b[39;49m\u001b[43mis_available\u001b[49m\u001b[43m(\u001b[49m\u001b[43m)\u001b[49m\u001b[43m)\u001b[49m:\n\u001b[1;32m     46\u001b[0m     \u001b[38;5;28;01mfor\u001b[39;00m inputs, labels \u001b[38;5;129;01min\u001b[39;00m tqdm(val_loader):\n\u001b[1;32m     47\u001b[0m         inputs, labels \u001b[38;5;241m=\u001b[39m inputs\u001b[38;5;241m.\u001b[39mto(device), labels\u001b[38;5;241m.\u001b[39mto(device)\n",
      "\u001b[0;31mTypeError\u001b[0m: autocast.__init__() missing 1 required positional argument: 'device_type'"
     ]
    }
   ],
   "source": [
    "# === 2. 模型、损失、优化器 ===\n",
    "device = torch.device(\"cuda\" if torch.cuda.is_available() else \"cpu\")\n",
    "model  = SERModel().to(device)\n",
    "\n",
    "criterion = nn.CrossEntropyLoss()\n",
    "optimizer = optim.AdamW(model.parameters(), lr=1e-4, weight_decay=1e-3)\n",
    "\n",
    "# 混合精度\n",
    "scaler = torch.amp.GradScaler('cuda' if torch.cuda.is_available() else 'cpu')\n",
    "\n",
    "# === 3. 训练循环 ===\n",
    "num_epochs   = 30\n",
    "best_val_f1  = 0.0\n",
    "save_path    = \"./results/best_model.pth\"\n",
    "\n",
    "for epoch in range(1, num_epochs + 1):\n",
    "    # ---- 3.1 训练 ----\n",
    "    model.train()\n",
    "    train_loss, train_preds, train_labels = 0.0, [], []\n",
    "\n",
    "    for inputs, labels in tqdm(train_loader, desc=f\"Epoch {epoch}/{num_epochs}\"):\n",
    "        inputs, labels = inputs.to(device), labels.to(device)\n",
    "\n",
    "        optimizer.zero_grad(set_to_none=True)\n",
    "        with torch.amp.autocast(device_type=\"cuda\"):\n",
    "            outputs = model(inputs)\n",
    "            loss    = criterion(outputs, labels)\n",
    "\n",
    "        # 反向传播-混合精度\n",
    "        scaler.scale(loss).backward()\n",
    "        scaler.step(optimizer)\n",
    "        scaler.update()\n",
    "\n",
    "        train_loss += loss.item() * inputs.size(0)   # 按样本数累加更准确\n",
    "        train_preds.extend(outputs.argmax(dim=1).cpu().numpy())\n",
    "        train_labels.extend(labels.cpu().numpy())\n",
    "\n",
    "    train_f1 = f1_score(train_labels, train_preds, average='micro')\n",
    "    train_loss /= len(train_set)\n",
    "    print(f\"[Epoch {epoch}] Train Loss: {train_loss:.4f} | Train F1: {train_f1:.4f}\")\n",
    "\n",
    "    # ---- 3.2 验证 ----\n",
    "    model.eval()\n",
    "    val_preds, val_labels = [], []\n",
    "    with torch.no_grad(), torch.amp.autocast(device_type=\"cuda\"):\n",
    "        for inputs, labels in tqdm(val_loader):\n",
    "            inputs, labels = inputs.to(device), labels.to(device)\n",
    "            outputs = model(inputs)\n",
    "            val_preds.extend(outputs.argmax(dim=1).cpu().numpy())\n",
    "            val_labels.extend(labels.cpu().numpy())\n",
    "\n",
    "    val_f1 = f1_score(val_labels, val_preds, average='micro')\n",
    "    print(f\"[Epoch {epoch}] Validation F1: {val_f1:.4f}\")\n",
    "\n",
    "    # ---- 3.3 保存最佳模型 ----\n",
    "    if val_f1 > best_val_f1:\n",
    "        best_val_f1 = val_f1\n",
    "        torch.save(model.state_dict(), save_path)\n",
    "        print(f\"  🔥 New best model saved (F1 = {best_val_f1:.4f})\")\n",
    "\n",
    "print(f\"Training finished. Best Validation F1 = {best_val_f1:.4f}\")"
   ]
  },
  {
   "cell_type": "markdown",
   "id": "2004dcb3",
   "metadata": {},
   "source": [
    "## 6. 模型评估\n",
    "\n",
    "对训练好的模型，可以测试其在数据集上的评分。  \n",
    "本样例代码没有将数据集划分为训练集与验证集，因此测试所得分数不能准确体现模型的性能。  \n",
    "同学们可以将数据集进行划分以实现更准确的性能评估。  \n"
   ]
  },
  {
   "cell_type": "code",
   "execution_count": null,
   "id": "054d72b8",
   "metadata": {},
   "outputs": [],
   "source": [
    "import torch\n",
    "from sklearn.metrics import f1_score, accuracy_score\n",
    "from tqdm import tqdm\n",
    "\n",
    "# 加载模型\n",
    "device = torch.device(\"cuda\" if torch.cuda.is_available() else \"cpu\")\n",
    "model = SERModel().to(device)\n",
    "model.load_state_dict(torch.load(\"./results/best_model.pth\", map_location=device))\n",
    "model.eval()\n",
    "\n",
    "all_preds = []\n",
    "all_labels = []\n",
    "\n",
    "with torch.no_grad():\n",
    "    for inputs, labels in tqdm(val_loader, desc=\"Evaluating\"):\n",
    "        inputs, labels = inputs.to(device), labels.to(device)\n",
    "\n",
    "        outputs = model(inputs)\n",
    "        preds = torch.argmax(outputs, dim=1)\n",
    "\n",
    "        all_preds.extend(preds.cpu().numpy())\n",
    "        all_labels.extend(labels.cpu().numpy())\n",
    "\n",
    "# 计算评估指标\n",
    "acc = accuracy_score(all_labels, all_preds)\n",
    "f1 = f1_score(all_labels, all_preds, average='micro')\n",
    "\n",
    "print(f\"Accuracy: {acc:.4f}\")\n",
    "print(f\"F1 Score: {f1:.4f}\")"
   ]
  },
  {
   "cell_type": "markdown",
   "id": "52b9351e",
   "metadata": {},
   "source": [
    "## 7. 评分"
   ]
  },
  {
   "cell_type": "markdown",
   "id": "17c8db97",
   "metadata": {},
   "source": [
    "**注意：**\n",
    "\n",
    "通过对以上步骤流程的了解，相信大家对该任务有了深刻的认识，但是模型比较简单，各超参数也没有调试      \n",
    "评分指标也不高，大家可以试着写自己的模型，并将其调到最佳状态。   \n",
    "\n",
    "1. 你可以在我们准好的接口中实现模型（若使用可以修改函数接口），也可以自己实现深度学习模型，写好代码后可以在 Py 文件中使用 GPU 进行模型训练。\n",
    "2. 在训练模型等过程中如果需要**保存数据、模型**等请写到 **results** 文件夹，如果采用 [离线任务](https://momodel.cn/docs/#/zh-cn/%E5%9C%A8GPU%E6%88%96CPU%E8%B5%84%E6%BA%90%E4%B8%8A%E8%AE%AD%E7%BB%83%E6%9C%BA%E5%99%A8%E5%AD%A6%E4%B9%A0%E6%A8%A1%E5%9E%8B) 请务必将模型保存在 **results** 文件夹下。\n",
    "3. 训练出自己最好的模型后，先按照下列 cell 操作方式实现 NoteBook 加载模型测试；请测试通过再进行【系统测试】。\n",
    "4. 请填写你的模型路径及名称并补充 `predict()` 函数以实现预测。\n",
    "5. 点击左侧栏提交结果后点击生成文件则需勾选 `predict()` 函数的 cell。\n",
    "6. 请导入必要的包和第三方库 (包括此文件中曾经导入过的)。\n",
    "7. 请加载你认为训练最佳的模型，即请按要求填写模型路径。\n",
    "8. 测试提交时服务端会调用 `predict()` 函数，请不要修改该函数的输入输出及其数据类型。\n",
    "9. 最终评分为 F1-score 指标。"
   ]
  },
  {
   "cell_type": "markdown",
   "id": "9bedd812",
   "metadata": {},
   "source": [
    "===============  **模型预测代码答题区域**  =============  \n",
    "在下方的代码块中编写 **模型预测 predict()** 部分的代码，请勿在别的位置作答。  \n",
    "提交文件 `main.py` 中需要包含 `predict()` 函数，提交文件样例参考 `main.py`"
   ]
  },
  {
   "cell_type": "code",
   "execution_count": null,
   "id": "d540914b",
   "metadata": {},
   "outputs": [],
   "source": [
    "# -------------------------- 请加载最满意的模型 ---------------------------\n",
    "# 加载模型(请加载你认为的最佳模型)\n",
    "# 加载模型,加载请注意 model_path 是相对路径, 与当前文件同级。\n",
    "# 如果你的模型是在 results 文件夹下的 my_model.m 模型，则 model_path = './results/my_model.m'\n",
    "path = None\n",
    "\n",
    "# 加载模型\n",
    "model = None\n",
    "\n",
    "def predict(audio, sr):\n",
    "    \"\"\"\n",
    "    模型预测\n",
    "    param：\n",
    "        audio : np.ndarray，由 torchaudio.load 读取的音频数据数据。\n",
    "        sr: int, 由 torchaudio.load 读取的音频采样率。\n",
    "        读取样例 audio, sr = torchaudio.load('./datasets/67fc7ccbb88b01da6626732d-momodel/train/neutral/1111.wav')\n",
    "    return：\n",
    "        y_predict : str, 数据label。\n",
    "    \"\"\"\n",
    "\n",
    "    # -------------------------- 实现模型预测部分的代码 ---------------------------\n",
    "    # 获取输入的类别\n",
    "    y_predict = None\n",
    "\n",
    "    # -------------------------------------------------------------------------\n",
    "\n",
    "    # 返回类别\n",
    "    return y_predict\n"
   ]
  },
  {
   "cell_type": "markdown",
   "id": "9ae2bafe",
   "metadata": {},
   "source": [
    "========================================  **测试提交函数示例**  =========================================== "
   ]
  },
  {
   "cell_type": "code",
   "execution_count": null,
   "id": "31e2d33e",
   "metadata": {},
   "outputs": [],
   "source": [
    "import os\n",
    "import torch\n",
    "from torch.utils.data import Dataset\n",
    "import torchaudio\n",
    "import torchaudio.transforms as T\n",
    "import torchaudio.functional as audiof\n",
    "import numpy as np\n",
    "\n",
    "\n",
    "device = torch.device(\"cuda\" if torch.cuda.is_available() else \"cpu\")\n",
    "model = SERModel().to(device)\n",
    "model.load_state_dict(torch.load(\"./results/best_model.pth\", map_location=device))\n",
    "model.eval()\n",
    "\n",
    "label = ['anger', 'fear', 'happy', 'neutral', 'sad']\n",
    "\n",
    "class config:\n",
    "    sr = 44100\n",
    "    n_mfcc = 10\n",
    "    n_fft = 2048\n",
    "    hop_length = 512\n",
    "    win_length = 2048\n",
    "    p = 2\n",
    "    max_len = 300\n",
    "\n",
    "\n",
    "mfcc_transform = T.MFCC(sample_rate=config.sr, n_mfcc=config.n_mfcc, melkwargs={'n_fft': config.n_fft, 'hop_length': config.hop_length})\n",
    "\n",
    "def predict(audio, sr):\n",
    "    # 1) 重采样\n",
    "    resampler = T.Resample(orig_freq=sr, new_freq=config.sr)\n",
    "    audio = resampler(audio).float()\n",
    "\n",
    "    # 2) 特征：MFCC + centroid + bandwidth\n",
    "    mfcc = mfcc_transform(audio)\n",
    "    centroid, bandwidth = compute_feature(\n",
    "        audio, sample_rate=config.sr,\n",
    "        n_fft=config.n_fft, win_length=config.win_length,\n",
    "        hop_length=config.hop_length, p=config.p\n",
    "    )\n",
    "    feature = torch.cat([mfcc.squeeze(0), centroid, bandwidth], dim=0)\n",
    "\n",
    "    # 3) 标准化 & 补／裁长\n",
    "    feature = (feature - feature.mean(dim=1, keepdim=True)) / (feature.std(dim=1, keepdim=True) + 1e-6)\n",
    "    if feature.shape[1] < config.max_len:\n",
    "        pad = config.max_len - feature.shape[1]\n",
    "        feature = torch.nn.functional.pad(feature, (0, pad))\n",
    "    else:\n",
    "        feature = feature[:, :config.max_len]\n",
    "\n",
    "    feature = feature.transpose(0, 1).unsqueeze(0)  # [1, T, F]\n",
    "\n",
    "    # === 关键：把特征搬到同一 device ===\n",
    "    feature = feature.to(device)\n",
    "\n",
    "    # 4) 推理\n",
    "    with torch.no_grad():\n",
    "        logits = model(feature)\n",
    "        pred   = torch.argmax(logits, dim=1).item()\n",
    "\n",
    "    return label[pred]"
   ]
  },
  {
   "cell_type": "code",
   "execution_count": null,
   "id": "0ea475e2",
   "metadata": {},
   "outputs": [],
   "source": [
    "predict_x, sr = torchaudio.load('./datasets/67fc7ccbb88b01da6626732d-momodel/train/neutral/1111.wav')\n",
    "predict(predict_x, sr)"
   ]
  }
 ],
 "metadata": {
  "kernelspec": {
   "display_name": "Python 3 (ipykernel)",
   "language": "python",
   "name": "python3"
  },
  "language_info": {
   "codemirror_mode": {
    "name": "ipython",
    "version": 3
   },
   "file_extension": ".py",
   "mimetype": "text/x-python",
   "name": "python",
   "nbconvert_exporter": "python",
   "pygments_lexer": "ipython3",
   "version": "3.12.3"
  }
 },
 "nbformat": 4,
 "nbformat_minor": 5
}
