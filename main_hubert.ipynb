{
 "cells": [
  {
   "cell_type": "markdown",
   "id": "a3631346",
   "metadata": {},
   "source": [
    "# 睿抗 2025 智海人工智能算法应用赛\n",
    "**语音情绪识别**：使用 hubert-base 预训练模型 + 分类头\n",
    "- 核心思想：\n",
    "- 使用预训练模型作为特征提取器，效果显著优于手工提取\n",
    "- 单模线上 0.87 3折 0.89 5折推理超时，但应该大于 0.9 推理没做太多优化"
   ]
  },
  {
   "cell_type": "code",
   "execution_count": 2,
   "id": "e03964b2",
   "metadata": {},
   "outputs": [],
   "source": [
    "import torch\n",
    "import random\n",
    "import numpy as np"
   ]
  },
  {
   "cell_type": "code",
   "execution_count": 3,
   "id": "82847ded",
   "metadata": {},
   "outputs": [],
   "source": [
    "def set_seed(seed=42):\n",
    "    random.seed(seed)  # Python 内置随机数\n",
    "    np.random.seed(seed)  # NumPy 随机数\n",
    "    torch.manual_seed(seed)  # CPU 上的随机数\n",
    "    torch.cuda.manual_seed(seed)  # GPU 上的随机数\n",
    "    torch.cuda.manual_seed_all(seed)  # 多 GPU 情况下的随机数\n",
    "    torch.backends.cudnn.deterministic = True  # 确保每次卷积结果一致\n",
    "    torch.backends.cudnn.benchmark = False     # 禁用自动优化\n",
    "\n",
    "set_seed()"
   ]
  },
  {
   "cell_type": "code",
   "execution_count": 4,
   "id": "31643d69",
   "metadata": {},
   "outputs": [],
   "source": [
    "import torchaudio.transforms as T\n",
    "import torchaudio"
   ]
  },
  {
   "cell_type": "code",
   "execution_count": 5,
   "id": "ddafa68f",
   "metadata": {},
   "outputs": [],
   "source": [
    "import os, glob, random, torch, torchaudio\n",
    "import torch.nn.functional as F\n",
    "from torch.utils.data import Dataset\n",
    "from torch_audiomentations import Compose, AddColoredNoise, PitchShift, Gain\n",
    "\n",
    "class WavDataset(Dataset):\n",
    "    def __init__(\n",
    "        self,\n",
    "        root: str,\n",
    "        sr_t: int = 16_000,\n",
    "        max_sec: int = 3,\n",
    "        training: bool = True,\n",
    "        aug_prob: float = 0.4,        # 整体执行增强的概率\n",
    "    ):\n",
    "        self.wavs, self.lbl = [], []\n",
    "        for idx, emo in enumerate(sorted(os.listdir(root))):\n",
    "            for f in glob.glob(f\"{root}/{emo}/*.wav\"):\n",
    "                self.wavs.append(f)\n",
    "                self.lbl.append(idx)\n",
    "\n",
    "        # 基本配置\n",
    "        self.sr_t = sr_t\n",
    "        self.max_len = max_sec * sr_t\n",
    "        self.training = training\n",
    "        self.aug_prob = aug_prob\n",
    "\n",
    "        # -------- 数据增强管道，仅训练用 --------\n",
    "        if self.training:\n",
    "            self.augment = Compose(\n",
    "                transforms=[\n",
    "                    PitchShift(\n",
    "                        min_transpose_semitones=-1,\n",
    "                        max_transpose_semitones=1,\n",
    "                        sample_rate=self.sr_t,       # ← 必填\n",
    "                        output_type=\"tensor\",        # ← 推荐手动写死\n",
    "                        p=0.5,\n",
    "                    ),\n",
    "                    Gain(\n",
    "                        min_gain_in_db=-3,\n",
    "                        max_gain_in_db=3,\n",
    "                        sample_rate=self.sr_t,\n",
    "                        output_type=\"tensor\",\n",
    "                        p=0.5,\n",
    "                    ),\n",
    "                ],\n",
    "                shuffle=True,\n",
    "                p=self.aug_prob,\n",
    "                output_type=\"tensor\",               # 给 Compose 也加一份，防未来破坏性变更\n",
    "            )\n",
    "        else:\n",
    "            self.augment = None\n",
    "\n",
    "    def __len__(self):\n",
    "        return len(self.wavs)\n",
    "\n",
    "    def __getitem__(self, idx):\n",
    "        wav, sr = torchaudio.load(self.wavs[idx])        # [1, L]\n",
    "        if sr != self.sr_t:\n",
    "            wav = torchaudio.functional.resample(wav, sr, self.sr_t)\n",
    "\n",
    "        wav = wav.mean(0)                                # → [L]\n",
    "        L = wav.numel()\n",
    "\n",
    "        # --- 随机截取 / 填充 ---\n",
    "        if L > self.max_len:\n",
    "            start = random.randint(0, L - self.max_len) if self.training else 0\n",
    "            wav = wav[start : start + self.max_len]\n",
    "        else:\n",
    "            wav = F.pad(wav, (0, self.max_len - L))\n",
    "\n",
    "        # --- 数据增强 ---\n",
    "        if self.augment is not None:\n",
    "            # torch-audiomentations 期望形状 [B, 1, T]\n",
    "            wav = self.augment(wav.unsqueeze(0).unsqueeze(0)).squeeze()\n",
    "\n",
    "        return wav, self.lbl[idx]"
   ]
  },
  {
   "cell_type": "markdown",
   "id": "08360774-7616-4a47-8f0c-6568fe5ecc60",
   "metadata": {},
   "source": [
    "## 模型构建"
   ]
  },
  {
   "cell_type": "code",
   "execution_count": 1,
   "id": "238f4a81-5473-4718-8bef-d8d490926c05",
   "metadata": {},
   "outputs": [],
   "source": [
    "# ! pip install tokenizers==0.21.0"
   ]
  },
  {
   "cell_type": "code",
   "execution_count": 3,
   "id": "69597793-ee8a-495e-98c6-3a9ca87f265b",
   "metadata": {},
   "outputs": [
    {
     "name": "stdout",
     "output_type": "stream",
     "text": [
      "Found existing installation: tokenizers 0.21.0\n",
      "Uninstalling tokenizers-0.21.0:\n",
      "  Successfully uninstalled tokenizers-0.21.0\n",
      "\u001b[33mWARNING: Running pip as the 'root' user can result in broken permissions and conflicting behaviour with the system package manager. It is recommended to use a virtual environment instead: https://pip.pypa.io/warnings/venv\u001b[0m\u001b[33m\n",
      "\u001b[0mLooking in indexes: http://mirrors.aliyun.com/pypi/simple\n",
      "Collecting tokenizers==0.21.1\n",
      "  Downloading http://mirrors.aliyun.com/pypi/packages/8a/63/38be071b0c8e06840bc6046991636bcb30c27f6bb1e670f4f4bc87cf49cc/tokenizers-0.21.1-cp39-abi3-manylinux_2_17_x86_64.manylinux2014_x86_64.whl (3.0 MB)\n",
      "\u001b[2K     \u001b[90m━━━━━━━━━━━━━━━━━━━━━━━━━━━━━━━━━━━━━━━━\u001b[0m \u001b[32m3.0/3.0 MB\u001b[0m \u001b[31m47.6 MB/s\u001b[0m eta \u001b[36m0:00:00\u001b[0ma \u001b[36m0:00:01\u001b[0m\n",
      "\u001b[?25hRequirement already satisfied: huggingface-hub<1.0,>=0.16.4 in /root/miniconda3/lib/python3.12/site-packages (from tokenizers==0.21.1) (0.30.2)\n",
      "Requirement already satisfied: filelock in /root/miniconda3/lib/python3.12/site-packages (from huggingface-hub<1.0,>=0.16.4->tokenizers==0.21.1) (3.16.1)\n",
      "Requirement already satisfied: fsspec>=2023.5.0 in /root/miniconda3/lib/python3.12/site-packages (from huggingface-hub<1.0,>=0.16.4->tokenizers==0.21.1) (2024.10.0)\n",
      "Requirement already satisfied: packaging>=20.9 in /root/miniconda3/lib/python3.12/site-packages (from huggingface-hub<1.0,>=0.16.4->tokenizers==0.21.1) (23.2)\n",
      "Requirement already satisfied: pyyaml>=5.1 in /root/miniconda3/lib/python3.12/site-packages (from huggingface-hub<1.0,>=0.16.4->tokenizers==0.21.1) (6.0.2)\n",
      "Requirement already satisfied: requests in /root/miniconda3/lib/python3.12/site-packages (from huggingface-hub<1.0,>=0.16.4->tokenizers==0.21.1) (2.31.0)\n",
      "Requirement already satisfied: tqdm>=4.42.1 in /root/miniconda3/lib/python3.12/site-packages (from huggingface-hub<1.0,>=0.16.4->tokenizers==0.21.1) (4.66.2)\n",
      "Requirement already satisfied: typing-extensions>=3.7.4.3 in /root/miniconda3/lib/python3.12/site-packages (from huggingface-hub<1.0,>=0.16.4->tokenizers==0.21.1) (4.12.2)\n",
      "Requirement already satisfied: charset-normalizer<4,>=2 in /root/miniconda3/lib/python3.12/site-packages (from requests->huggingface-hub<1.0,>=0.16.4->tokenizers==0.21.1) (2.0.4)\n",
      "Requirement already satisfied: idna<4,>=2.5 in /root/miniconda3/lib/python3.12/site-packages (from requests->huggingface-hub<1.0,>=0.16.4->tokenizers==0.21.1) (3.7)\n",
      "Requirement already satisfied: urllib3<3,>=1.21.1 in /root/miniconda3/lib/python3.12/site-packages (from requests->huggingface-hub<1.0,>=0.16.4->tokenizers==0.21.1) (2.1.0)\n",
      "Requirement already satisfied: certifi>=2017.4.17 in /root/miniconda3/lib/python3.12/site-packages (from requests->huggingface-hub<1.0,>=0.16.4->tokenizers==0.21.1) (2024.2.2)\n",
      "Installing collected packages: tokenizers\n",
      "Successfully installed tokenizers-0.21.1\n",
      "\u001b[33mWARNING: Running pip as the 'root' user can result in broken permissions and conflicting behaviour with the system package manager. It is recommended to use a virtual environment instead: https://pip.pypa.io/warnings/venv\u001b[0m\u001b[33m\n",
      "\u001b[0m"
     ]
    }
   ],
   "source": [
    "! pip uninstall -y tokenizers\n",
    "! pip install tokenizers==0.21.1"
   ]
  },
  {
   "cell_type": "markdown",
   "id": "494aeb65",
   "metadata": {},
   "source": [
    "普通的分类头，懒得改"
   ]
  },
  {
   "cell_type": "code",
   "execution_count": null,
   "id": "0b2f1996-6aee-4c7b-9bae-4c7b17f166fd",
   "metadata": {},
   "outputs": [],
   "source": [
    "import torch, torch.nn as nn\n",
    "from transformers import AutoFeatureExtractor\n",
    "\n",
    "PRETRAINED = \"./hubert-base-ls960\"\n",
    "feature_extractor = AutoFeatureExtractor.from_pretrained(PRETRAINED)\n",
    "\n",
    "class HF_HuBERT_SER(nn.Module):\n",
    "    def __init__(self, num_cls=5, freeze_feat=True, pool=\"mean\"):\n",
    "        super().__init__()\n",
    "        self.encoder = HubertModel.from_pretrained(PRETRAINED)\n",
    "        if freeze_feat:\n",
    "            self.encoder.feature_extractor.requires_grad_(False)\n",
    "        hid = self.encoder.config.hidden_size\n",
    "        self.pool = (lambda h: h.mean(1)) if pool==\"mean\" else (lambda h: h[:,0])\n",
    "        self.classifier = nn.Sequential(\n",
    "            nn.Linear(hid, 256),\n",
    "            nn.ReLU(),\n",
    "            nn.Dropout(0.3),\n",
    "            nn.Linear(256, num_cls)\n",
    "        )\n",
    "    def forward(self, wav, attn):\n",
    "        h = self.encoder(wav, attention_mask=attn, return_dict=True).last_hidden_state\n",
    "        return self.classifier(self.pool(h))"
   ]
  },
  {
   "cell_type": "code",
   "execution_count": 8,
   "id": "d5c46163-c771-4e33-b889-dc61e77b7f8f",
   "metadata": {},
   "outputs": [],
   "source": [
    "def collate_hf(batch):\n",
    "    wavs, labels = zip(*batch)          # wavs: List[Tensor(L)]\n",
    "    inputs = feature_extractor(\n",
    "        [w.numpy() for w in wavs],\n",
    "        sampling_rate=16_000,\n",
    "        padding=True,\n",
    "        return_tensors=\"pt\",\n",
    "        return_attention_mask=True        # 显式要求生成 mask\n",
    "    )\n",
    "    return inputs.input_values, inputs.attention_mask, torch.tensor(labels)"
   ]
  },
  {
   "cell_type": "markdown",
   "id": "45af28e8-1509-481b-b59f-3ec4cb7bb08d",
   "metadata": {},
   "source": [
    "## 数据处理"
   ]
  },
  {
   "cell_type": "code",
   "execution_count": 9,
   "id": "12281583-a235-4db9-82e5-0326cb944c57",
   "metadata": {},
   "outputs": [],
   "source": [
    "import torch\n",
    "import torch.nn as nn\n",
    "import torch.optim as optim\n",
    "from torch.utils.data import DataLoader\n",
    "from sklearn.metrics import f1_score, accuracy_score\n",
    "import numpy as np\n",
    "from tqdm import tqdm\n",
    "from torch.utils.data import DataLoader\n",
    "from sklearn.model_selection import train_test_split\n",
    "from torch.utils.data import Subset, DataLoader\n",
    "import torch.nn.functional as F\n",
    "\n",
    "data_path = 'datasets/67fc7ccbb88b01da6626732d-momodel/train/'\n",
    "dataset = WavDataset(data_path)\n",
    "\n",
    "all_indices = list(range(len(dataset)))\n",
    "all_labels = dataset.lbl\n",
    "\n",
    "train_idx, val_idx = train_test_split(\n",
    "    all_indices,\n",
    "    test_size=0.2,\n",
    "    stratify=all_labels,\n",
    "    shuffle=True,\n",
    "    random_state=42\n",
    ")\n",
    "\n",
    "train_set = Subset(dataset, train_idx)\n",
    "val_set   = Subset(dataset, val_idx)\n",
    "\n",
    "train_loader = DataLoader(train_set, batch_size=32, shuffle=True, drop_last=True, collate_fn=collate_hf)\n",
    "val_loader   = DataLoader(val_set,   batch_size=32, shuffle=False, collate_fn=collate_hf)"
   ]
  },
  {
   "cell_type": "markdown",
   "id": "21178b00-d5c1-4401-be86-614e60c1101e",
   "metadata": {},
   "source": [
    "## 模型训练"
   ]
  },
  {
   "cell_type": "code",
   "execution_count": 10,
   "id": "62f46148-48f4-4e59-aadb-d614b3c398e2",
   "metadata": {},
   "outputs": [],
   "source": [
    "train_mode = 'holdout' # 'full' 'fivefold'"
   ]
  },
  {
   "cell_type": "markdown",
   "id": "203060f5-100d-4a6d-8995-9631ade00688",
   "metadata": {},
   "source": [
    "### hold-out "
   ]
  },
  {
   "cell_type": "code",
   "execution_count": 12,
   "id": "343eb694-e9f3-4358-9152-94f7ee04cf07",
   "metadata": {},
   "outputs": [
    {
     "name": "stderr",
     "output_type": "stream",
     "text": [
      "                                                                                             "
     ]
    },
    {
     "name": "stdout",
     "output_type": "stream",
     "text": [
      "Epoch 01 | Train Loss: 1.5917\n"
     ]
    },
    {
     "name": "stderr",
     "output_type": "stream",
     "text": [
      "                                                                "
     ]
    },
    {
     "name": "stdout",
     "output_type": "stream",
     "text": [
      "Epoch 01 | Val F1: 0.4162 | Best: 0.0000\n",
      "New best model saved!\n"
     ]
    },
    {
     "name": "stderr",
     "output_type": "stream",
     "text": [
      "                                                                                             "
     ]
    },
    {
     "name": "stdout",
     "output_type": "stream",
     "text": [
      "Epoch 02 | Train Loss: 1.3873\n"
     ]
    },
    {
     "name": "stderr",
     "output_type": "stream",
     "text": [
      "                                                                "
     ]
    },
    {
     "name": "stdout",
     "output_type": "stream",
     "text": [
      "Epoch 02 | Val F1: 0.5490 | Best: 0.4162\n",
      "New best model saved!\n"
     ]
    },
    {
     "name": "stderr",
     "output_type": "stream",
     "text": [
      "                                                                                             "
     ]
    },
    {
     "name": "stdout",
     "output_type": "stream",
     "text": [
      "Epoch 03 | Train Loss: 1.0690\n"
     ]
    },
    {
     "name": "stderr",
     "output_type": "stream",
     "text": [
      "                                                                "
     ]
    },
    {
     "name": "stdout",
     "output_type": "stream",
     "text": [
      "Epoch 03 | Val F1: 0.6707 | Best: 0.5490\n",
      "New best model saved!\n"
     ]
    },
    {
     "name": "stderr",
     "output_type": "stream",
     "text": [
      "                                                                                             "
     ]
    },
    {
     "name": "stdout",
     "output_type": "stream",
     "text": [
      "Epoch 04 | Train Loss: 0.8536\n"
     ]
    },
    {
     "name": "stderr",
     "output_type": "stream",
     "text": [
      "                                                                "
     ]
    },
    {
     "name": "stdout",
     "output_type": "stream",
     "text": [
      "Epoch 04 | Val F1: 0.7455 | Best: 0.6707\n",
      "New best model saved!\n"
     ]
    },
    {
     "name": "stderr",
     "output_type": "stream",
     "text": [
      "                                                                                             "
     ]
    },
    {
     "name": "stdout",
     "output_type": "stream",
     "text": [
      "Epoch 05 | Train Loss: 0.7256\n"
     ]
    },
    {
     "name": "stderr",
     "output_type": "stream",
     "text": [
      "                                                                "
     ]
    },
    {
     "name": "stdout",
     "output_type": "stream",
     "text": [
      "Epoch 05 | Val F1: 0.7861 | Best: 0.7455\n",
      "New best model saved!\n"
     ]
    },
    {
     "name": "stderr",
     "output_type": "stream",
     "text": [
      "                                                                                             "
     ]
    },
    {
     "name": "stdout",
     "output_type": "stream",
     "text": [
      "Epoch 06 | Train Loss: 0.6149\n"
     ]
    },
    {
     "name": "stderr",
     "output_type": "stream",
     "text": [
      "                                                                "
     ]
    },
    {
     "name": "stdout",
     "output_type": "stream",
     "text": [
      "Epoch 06 | Val F1: 0.7854 | Best: 0.7861\n",
      "No improve (1/10)\n"
     ]
    },
    {
     "name": "stderr",
     "output_type": "stream",
     "text": [
      "                                                                                             "
     ]
    },
    {
     "name": "stdout",
     "output_type": "stream",
     "text": [
      "Epoch 07 | Train Loss: 0.5139\n"
     ]
    },
    {
     "name": "stderr",
     "output_type": "stream",
     "text": [
      "                                                                "
     ]
    },
    {
     "name": "stdout",
     "output_type": "stream",
     "text": [
      "Epoch 07 | Val F1: 0.8241 | Best: 0.7861\n",
      "New best model saved!\n"
     ]
    },
    {
     "name": "stderr",
     "output_type": "stream",
     "text": [
      "                                                                                             "
     ]
    },
    {
     "name": "stdout",
     "output_type": "stream",
     "text": [
      "Epoch 08 | Train Loss: 0.4474\n"
     ]
    },
    {
     "name": "stderr",
     "output_type": "stream",
     "text": [
      "                                                                "
     ]
    },
    {
     "name": "stdout",
     "output_type": "stream",
     "text": [
      "Epoch 08 | Val F1: 0.8215 | Best: 0.8241\n",
      "No improve (1/10)\n"
     ]
    },
    {
     "name": "stderr",
     "output_type": "stream",
     "text": [
      "                                                                                             "
     ]
    },
    {
     "name": "stdout",
     "output_type": "stream",
     "text": [
      "Epoch 09 | Train Loss: 0.3868\n"
     ]
    },
    {
     "name": "stderr",
     "output_type": "stream",
     "text": [
      "                                                                "
     ]
    },
    {
     "name": "stdout",
     "output_type": "stream",
     "text": [
      "Epoch 09 | Val F1: 0.8370 | Best: 0.8241\n",
      "New best model saved!\n"
     ]
    },
    {
     "name": "stderr",
     "output_type": "stream",
     "text": [
      "                                                                                             "
     ]
    },
    {
     "name": "stdout",
     "output_type": "stream",
     "text": [
      "Epoch 10 | Train Loss: 0.3423\n"
     ]
    },
    {
     "name": "stderr",
     "output_type": "stream",
     "text": [
      "                                                                "
     ]
    },
    {
     "name": "stdout",
     "output_type": "stream",
     "text": [
      "Epoch 10 | Val F1: 0.8383 | Best: 0.8370\n",
      "New best model saved!\n"
     ]
    },
    {
     "name": "stderr",
     "output_type": "stream",
     "text": [
      "                                                                                             "
     ]
    },
    {
     "name": "stdout",
     "output_type": "stream",
     "text": [
      "Epoch 11 | Train Loss: 0.2850\n"
     ]
    },
    {
     "name": "stderr",
     "output_type": "stream",
     "text": [
      "                                                                "
     ]
    },
    {
     "name": "stdout",
     "output_type": "stream",
     "text": [
      "Epoch 11 | Val F1: 0.8260 | Best: 0.8383\n",
      "No improve (1/10)\n"
     ]
    },
    {
     "name": "stderr",
     "output_type": "stream",
     "text": [
      "                                                                                             "
     ]
    },
    {
     "name": "stdout",
     "output_type": "stream",
     "text": [
      "Epoch 12 | Train Loss: 0.2565\n"
     ]
    },
    {
     "name": "stderr",
     "output_type": "stream",
     "text": [
      "                                                                "
     ]
    },
    {
     "name": "stdout",
     "output_type": "stream",
     "text": [
      "Epoch 12 | Val F1: 0.8576 | Best: 0.8383\n",
      "New best model saved!\n"
     ]
    },
    {
     "name": "stderr",
     "output_type": "stream",
     "text": [
      "                                                                                             "
     ]
    },
    {
     "name": "stdout",
     "output_type": "stream",
     "text": [
      "Epoch 13 | Train Loss: 0.2170\n"
     ]
    },
    {
     "name": "stderr",
     "output_type": "stream",
     "text": [
      "                                                                "
     ]
    },
    {
     "name": "stdout",
     "output_type": "stream",
     "text": [
      "Epoch 13 | Val F1: 0.8615 | Best: 0.8576\n",
      "New best model saved!\n"
     ]
    },
    {
     "name": "stderr",
     "output_type": "stream",
     "text": [
      "                                                                                             "
     ]
    },
    {
     "name": "stdout",
     "output_type": "stream",
     "text": [
      "Epoch 14 | Train Loss: 0.1891\n"
     ]
    },
    {
     "name": "stderr",
     "output_type": "stream",
     "text": [
      "                                                                "
     ]
    },
    {
     "name": "stdout",
     "output_type": "stream",
     "text": [
      "Epoch 14 | Val F1: 0.8486 | Best: 0.8615\n",
      "No improve (1/10)\n"
     ]
    },
    {
     "name": "stderr",
     "output_type": "stream",
     "text": [
      "                                                                                             "
     ]
    },
    {
     "name": "stdout",
     "output_type": "stream",
     "text": [
      "Epoch 15 | Train Loss: 0.1735\n"
     ]
    },
    {
     "name": "stderr",
     "output_type": "stream",
     "text": [
      "                                                                "
     ]
    },
    {
     "name": "stdout",
     "output_type": "stream",
     "text": [
      "Epoch 15 | Val F1: 0.8524 | Best: 0.8615\n",
      "No improve (2/10)\n"
     ]
    },
    {
     "name": "stderr",
     "output_type": "stream",
     "text": [
      "                                                                                             "
     ]
    },
    {
     "name": "stdout",
     "output_type": "stream",
     "text": [
      "Epoch 16 | Train Loss: 0.1427\n"
     ]
    },
    {
     "name": "stderr",
     "output_type": "stream",
     "text": [
      "                                                                "
     ]
    },
    {
     "name": "stdout",
     "output_type": "stream",
     "text": [
      "Epoch 16 | Val F1: 0.8576 | Best: 0.8615\n",
      "No improve (3/10)\n"
     ]
    },
    {
     "name": "stderr",
     "output_type": "stream",
     "text": [
      "                                                                                             "
     ]
    },
    {
     "name": "stdout",
     "output_type": "stream",
     "text": [
      "Epoch 17 | Train Loss: 0.1343\n"
     ]
    },
    {
     "name": "stderr",
     "output_type": "stream",
     "text": [
      "                                                                "
     ]
    },
    {
     "name": "stdout",
     "output_type": "stream",
     "text": [
      "Epoch 17 | Val F1: 0.8666 | Best: 0.8615\n",
      "New best model saved!\n"
     ]
    },
    {
     "name": "stderr",
     "output_type": "stream",
     "text": [
      "                                                                                             "
     ]
    },
    {
     "name": "stdout",
     "output_type": "stream",
     "text": [
      "Epoch 18 | Train Loss: 0.1164\n"
     ]
    },
    {
     "name": "stderr",
     "output_type": "stream",
     "text": [
      "                                                                "
     ]
    },
    {
     "name": "stdout",
     "output_type": "stream",
     "text": [
      "Epoch 18 | Val F1: 0.8615 | Best: 0.8666\n",
      "No improve (1/10)\n"
     ]
    },
    {
     "name": "stderr",
     "output_type": "stream",
     "text": [
      "                                                                                             "
     ]
    },
    {
     "name": "stdout",
     "output_type": "stream",
     "text": [
      "Epoch 19 | Train Loss: 0.1110\n"
     ]
    },
    {
     "name": "stderr",
     "output_type": "stream",
     "text": [
      "                                                                "
     ]
    },
    {
     "name": "stdout",
     "output_type": "stream",
     "text": [
      "Epoch 19 | Val F1: 0.8563 | Best: 0.8666\n",
      "No improve (2/10)\n"
     ]
    },
    {
     "name": "stderr",
     "output_type": "stream",
     "text": [
      "                                                                                             "
     ]
    },
    {
     "name": "stdout",
     "output_type": "stream",
     "text": [
      "Epoch 20 | Train Loss: 0.1134\n"
     ]
    },
    {
     "name": "stderr",
     "output_type": "stream",
     "text": [
      "                                                                "
     ]
    },
    {
     "name": "stdout",
     "output_type": "stream",
     "text": [
      "Epoch 20 | Val F1: 0.8647 | Best: 0.8666\n",
      "No improve (3/10)\n"
     ]
    },
    {
     "name": "stderr",
     "output_type": "stream",
     "text": []
    }
   ],
   "source": [
    "import torch, torch.nn.functional as F\n",
    "from tqdm import tqdm\n",
    "from sklearn.metrics import f1_score\n",
    "import torch\n",
    "import torch.nn as nn\n",
    "import torch.optim as optim\n",
    "from torch.utils.data import DataLoader\n",
    "from sklearn.metrics import f1_score, accuracy_score\n",
    "import numpy as np\n",
    "from tqdm import tqdm\n",
    "from torch.utils.data import DataLoader\n",
    "from sklearn.model_selection import train_test_split\n",
    "from torch.utils.data import Subset, DataLoader\n",
    "import torch.nn.functional as F\n",
    "\n",
    "if train_mode == 'holdout': # 'fivefold'\n",
    "    # ------------------- 数据处理 ---------------------\n",
    "    data_path = 'datasets/67fc7ccbb88b01da6626732d-momodel/train/'\n",
    "    dataset = WavDataset(data_path)\n",
    "    \n",
    "    all_indices = list(range(len(dataset)))\n",
    "    all_labels = dataset.lbl\n",
    "    \n",
    "    train_idx, val_idx = train_test_split(\n",
    "        all_indices,\n",
    "        test_size=0.2,\n",
    "        stratify=all_labels,\n",
    "        shuffle=True,\n",
    "        random_state=42\n",
    "    )\n",
    "    \n",
    "    train_set = Subset(dataset, train_idx)\n",
    "    val_set   = Subset(dataset, val_idx)\n",
    "    \n",
    "    train_loader = DataLoader(train_set, batch_size=32, shuffle=True, drop_last=True, collate_fn=collate_hf)\n",
    "    val_loader   = DataLoader(val_set,   batch_size=32, shuffle=False, collate_fn=collate_hf)\n",
    "    \n",
    "    # ------------------- 模型训练 ---------------------\n",
    "    device  = \"cuda\" if torch.cuda.is_available() else \"cpu\"\n",
    "    model   = HF_HuBERT_SER(num_cls=5, freeze_feat=True).to(device)\n",
    "\n",
    "        \n",
    "    EPOCHS   = 20\n",
    "    patience = 10              # 早停耐心\n",
    "    best_f1  = 0.0\n",
    "    wait     = 0\n",
    "    \n",
    "    optimizer = torch.optim.AdamW(filter(lambda p: p.requires_grad, model.parameters()), lr=3e-5)\n",
    "    steps_per_epoch = len(train_loader)         # ← 每个 epoch 的 batch 数\n",
    "    scheduler = torch.optim.lr_scheduler.OneCycleLR(\n",
    "        optimizer,\n",
    "        max_lr=5e-5,             # 峰值 LR，可比原 base lr 高 1.5~2 倍\n",
    "        epochs=EPOCHS,\n",
    "        steps_per_epoch=steps_per_epoch,\n",
    "        pct_start=0.3,           # 前 30% 逐步升 LR\n",
    "        anneal_strategy='cos',   # 后 70% 余弦下降\n",
    "        div_factor=25,           # 初始 lr = max_lr / 25\n",
    "        final_div_factor=1e4     # 末 lr = max_lr / 1e4\n",
    "    )\n",
    "    scaler    = torch.amp.GradScaler()\n",
    "\n",
    "    \n",
    "    for epoch in range(1, EPOCHS + 1):\n",
    "        model.train()\n",
    "        total_loss = 0\n",
    "        prog = tqdm(train_loader, desc=f\"Epoch {epoch:02d} [Train]\", leave=False)\n",
    "    \n",
    "        for wav, attn, y in prog:\n",
    "            wav, attn, y = wav.to(device), attn.to(device), y.to(device)\n",
    "    \n",
    "            optimizer.zero_grad(set_to_none=True)\n",
    "            with torch.amp.autocast(device_type=device):\n",
    "                logits = model(wav, attn)\n",
    "                loss   = F.cross_entropy(logits, y)\n",
    "    \n",
    "            scaler.scale(loss).backward()\n",
    "            scaler.step(optimizer)\n",
    "            scaler.update()\n",
    "    \n",
    "            scheduler.step()                 # ← 每个 batch 调用\n",
    "            total_loss += loss.item()\n",
    "            prog.set_postfix(\n",
    "                loss=f\"{loss.item():.4f}\",\n",
    "                lr=f\"{scheduler.get_last_lr()[0]:.2e}\"\n",
    "            )\n",
    "    \n",
    "        avg_loss = total_loss / len(train_loader)\n",
    "        print(f\"Epoch {epoch:02d} | Train Loss: {avg_loss:.4f}\")\n",
    "    \n",
    "        # -------- 验证 -------- #\n",
    "        model.eval()\n",
    "        va_pred, va_lab = [], []\n",
    "        with torch.no_grad(), torch.amp.autocast(device_type=device):\n",
    "            for wav, attn, y in tqdm(val_loader, desc=f\"Epoch {epoch:02d} [Eval]\", leave=False):\n",
    "                wav, attn = wav.to(device), attn.to(device)\n",
    "                out = model(wav, attn)\n",
    "                va_pred += out.argmax(1).cpu().tolist()\n",
    "                va_lab  += y.tolist()\n",
    "    \n",
    "        f1 = f1_score(va_lab, va_pred, average=\"micro\")\n",
    "        print(f\"Epoch {epoch:02d} | Val F1: {f1:.4f} | Best: {best_f1:.4f}\")\n",
    "    \n",
    "        # -------- 早停 & 保存 -------- #\n",
    "        if f1 > best_f1:\n",
    "            best_f1 = f1\n",
    "            wait = 0\n",
    "            torch.save(model.state_dict(), \"best_hubert_model_1.pt\")\n",
    "            print(\"New best model saved!\")\n",
    "        else:\n",
    "            wait += 1\n",
    "            print(f\"No improve ({wait}/{patience})\")\n",
    "    \n",
    "        if wait >= patience:\n",
    "            ## 3s 3e-5\n",
    "            print(f\"\\n Early-stopping triggered! Best Val F1 = {best_f1:.4f}\")\n",
    "            break"
   ]
  },
  {
   "cell_type": "markdown",
   "id": "8dbc89d7-04ce-4b86-a690-da5bb59966d4",
   "metadata": {},
   "source": [
    "### 全量训练"
   ]
  },
  {
   "cell_type": "code",
   "execution_count": null,
   "id": "c4d60787-323f-48d7-a990-b2b09f1d37e1",
   "metadata": {},
   "outputs": [],
   "source": [
    "import torch, torch.nn.functional as F\n",
    "from tqdm import tqdm\n",
    "from sklearn.metrics import f1_score\n",
    "import torch\n",
    "import torch.nn as nn\n",
    "import torch.optim as optim\n",
    "from torch.utils.data import DataLoader\n",
    "from sklearn.metrics import f1_score, accuracy_score\n",
    "import numpy as np\n",
    "from tqdm import tqdm\n",
    "from torch.utils.data import DataLoader\n",
    "from sklearn.model_selection import train_test_split\n",
    "from torch.utils.data import Subset, DataLoader\n",
    "import torch.nn.functional as F\n",
    "\n",
    "if train_mode == 'full': # 'fivefold'\n",
    "    # ------------------- 数据处理 ---------------------\n",
    "    data_path = 'datasets/67fc7ccbb88b01da6626732d-momodel/train/'\n",
    "    dataset = WavDataset(data_path)\n",
    "    \n",
    "    all_indices = list(range(len(dataset)))\n",
    "    all_labels = dataset.lbl\n",
    "    \n",
    "    train_idx, val_idx = train_test_split(\n",
    "        all_indices,\n",
    "        test_size=0.2,\n",
    "        stratify=all_labels,\n",
    "        shuffle=True,\n",
    "        random_state=42\n",
    "    )\n",
    "    \n",
    "    train_set = Subset(dataset, train_idx)\n",
    "    val_set   = Subset(dataset, val_idx)\n",
    "    \n",
    "    train_loader = DataLoader(train_set, batch_size=32, shuffle=True, drop_last=True, collate_fn=collate_hf)\n",
    "    val_loader   = DataLoader(val_set,   batch_size=32, shuffle=False, collate_fn=collate_hf)\n",
    "    \n",
    "    # ------------------- 模型训练 ---------------------\n",
    "    device  = \"cuda\" if torch.cuda.is_available() else \"cpu\"\n",
    "    model   = HF_Wav2Vec2SER(num_cls=5, freeze_feat=True).to(device)\n",
    "    \n",
    "    optimizer = torch.optim.AdamW(filter(lambda p: p.requires_grad, model.parameters()), lr=4e-5)\n",
    "    scheduler = torch.optim.lr_scheduler.OneCycleLR(\n",
    "        optimizer,\n",
    "        max_lr=5e-5,             # 峰值 LR，可比原 base lr 高 1.5~2 倍\n",
    "        epochs=EPOCHS,\n",
    "        steps_per_epoch=steps_per_epoch,\n",
    "        pct_star3=0.3,           # 前 30% 逐步升 LR\n",
    "        anneal_strategy='cos',   # 后 70% 余弦下降\n",
    "        div_factor=25,           # 初始 lr = max_lr / 25\n",
    "        final_div_factor=1e4     # 末 lr = max_lr / 1e4\n",
    "    )\n",
    "    scaler    = torch.amp.GradScaler()\n",
    "    \n",
    "    EPOCHS   = 50\n",
    "    patience = 10              # 早停耐心\n",
    "    best_f1  = 0.0\n",
    "    wait     = 0\n",
    "    \n",
    "    for epoch in range(1, EPOCHS + 1):\n",
    "        # -------- 训练 -------- #\n",
    "        model.train()\n",
    "        total_loss = 0\n",
    "        prog = tqdm(train_loader, desc=f\"Epoch {epoch:02d} [Train]\", leave=False)\n",
    "        for wav, attn, y in prog:\n",
    "            wav, attn, y = wav.to(device), attn.to(device), y.to(device)\n",
    "    \n",
    "            optimizer.zero_grad(set_to_none=True)\n",
    "            with torch.amp.autocast(device_type=device):\n",
    "                logits = model(wav, attn)\n",
    "                loss   = F.cross_entropy(logits, y)\n",
    "    \n",
    "            scaler.scale(loss).backward()\n",
    "            scaler.step(optimizer)\n",
    "            scaler.update()\n",
    "    \n",
    "            total_loss += loss.item()\n",
    "            prog.set_postfix(loss=f\"{loss.item():.4f}\")\n",
    "    \n",
    "        scheduler.step()\n",
    "        avg_loss = total_loss / len(train_loader)\n",
    "        print(f\"Epoch {epoch:02d} | Train Loss: {avg_loss:.4f} | LR: {scheduler.get_last_lr()[0]:.2e}\")\n",
    "    \n",
    "        # -------- 验证 -------- #\n",
    "        model.eval()\n",
    "        va_pred, va_lab = [], []\n",
    "        with torch.no_grad(), torch.amp.autocast(device_type=device):\n",
    "            for wav, attn, y in tqdm(val_loader, desc=f\"Epoch {epoch:02d} [Eval]\", leave=False):\n",
    "                wav, attn = wav.to(device), attn.to(device)\n",
    "                out = model(wav, attn)\n",
    "                va_pred += out.argmax(1).cpu().tolist()\n",
    "                va_lab  += y.tolist()\n",
    "    \n",
    "        f1 = f1_score(va_lab, va_pred, average=\"micro\")\n",
    "        print(f\"Epoch {epoch:02d} | Val F1: {f1:.4f} | Best: {best_f1:.4f}\")\n",
    "    \n",
    "        # -------- 早停 & 保存 -------- #\n",
    "        if f1 > best_f1:\n",
    "            best_f1 = f1\n",
    "            wait = 0\n",
    "            torch.save(model.state_dict(), \"best_w2w_model.pt\")\n",
    "            print(\"New best model saved!\")\n",
    "        else:\n",
    "            wait += 1\n",
    "            print(f\"No improve ({wait}/{patience})\")\n",
    "    \n",
    "        if wait >= patience:\n",
    "            print(f\"\\n Early-stopping triggered! Best Val F1 = {best_f1:.4f}\")\n",
    "            break"
   ]
  },
  {
   "cell_type": "markdown",
   "id": "3f6e6b6c-15ef-4e34-b131-94aac6840944",
   "metadata": {},
   "source": [
    "### 5折训练"
   ]
  },
  {
   "cell_type": "code",
   "execution_count": 13,
   "id": "173e4693",
   "metadata": {},
   "outputs": [
    {
     "name": "stdout",
     "output_type": "stream",
     "text": [
      "2025-06-27 16:09:44 | ===== 5-Fold Training start — total samples 7756 =====\n",
      "2025-06-27 16:09:44 | \n",
      "=== Fold 1/5 | train 6204 | val 1552 ===\n"
     ]
    },
    {
     "name": "stderr",
     "output_type": "stream",
     "text": [
      "                                                                "
     ]
    },
    {
     "name": "stdout",
     "output_type": "stream",
     "text": [
      "2025-06-27 16:10:15 | Fold 1 Ep01 |Train loss 1.5984 | Valid F1 0.3235 | best F1 0.0000 | LR 2.52e-06\n",
      "2025-06-27 16:10:16 | saved best model of this fold\n"
     ]
    },
    {
     "name": "stderr",
     "output_type": "stream",
     "text": [
      "                                                                "
     ]
    },
    {
     "name": "stdout",
     "output_type": "stream",
     "text": [
      "2025-06-27 16:10:47 | Fold 1 Ep02 |Train loss 1.5187 | Valid F1 0.4665 | best F1 0.3235 | LR 4.08e-06\n",
      "2025-06-27 16:10:47 | saved best model of this fold\n"
     ]
    },
    {
     "name": "stderr",
     "output_type": "stream",
     "text": [
      "                                                                "
     ]
    },
    {
     "name": "stdout",
     "output_type": "stream",
     "text": [
      "2025-06-27 16:11:18 | Fold 1 Ep03 |Train loss 1.2471 | Valid F1 0.6108 | best F1 0.4665 | LR 6.59e-06\n",
      "2025-06-27 16:11:19 | saved best model of this fold\n"
     ]
    },
    {
     "name": "stderr",
     "output_type": "stream",
     "text": [
      "                                                                "
     ]
    },
    {
     "name": "stdout",
     "output_type": "stream",
     "text": [
      "2025-06-27 16:11:50 | Fold 1 Ep04 |Train loss 1.0407 | Valid F1 0.6843 | best F1 0.6108 | LR 9.95e-06\n",
      "2025-06-27 16:11:51 | saved best model of this fold\n"
     ]
    },
    {
     "name": "stderr",
     "output_type": "stream",
     "text": [
      "                                                                "
     ]
    },
    {
     "name": "stdout",
     "output_type": "stream",
     "text": [
      "2025-06-27 16:12:22 | Fold 1 Ep05 |Train loss 0.9141 | Valid F1 0.7423 | best F1 0.6843 | LR 1.40e-05\n",
      "2025-06-27 16:12:22 | saved best model of this fold\n"
     ]
    },
    {
     "name": "stderr",
     "output_type": "stream",
     "text": [
      "                                                                "
     ]
    },
    {
     "name": "stdout",
     "output_type": "stream",
     "text": [
      "2025-06-27 16:12:53 | Fold 1 Ep06 |Train loss 0.8141 | Valid F1 0.7603 | best F1 0.7423 | LR 1.86e-05\n",
      "2025-06-27 16:12:53 | saved best model of this fold\n"
     ]
    },
    {
     "name": "stderr",
     "output_type": "stream",
     "text": [
      "                                                                "
     ]
    },
    {
     "name": "stdout",
     "output_type": "stream",
     "text": [
      "2025-06-27 16:13:24 | Fold 1 Ep07 |Train loss 0.7212 | Valid F1 0.7957 | best F1 0.7603 | LR 2.35e-05\n",
      "2025-06-27 16:13:24 | saved best model of this fold\n"
     ]
    },
    {
     "name": "stderr",
     "output_type": "stream",
     "text": [
      "                                                                "
     ]
    },
    {
     "name": "stdout",
     "output_type": "stream",
     "text": [
      "2025-06-27 16:13:56 | Fold 1 Ep08 |Train loss 0.6339 | Valid F1 0.7912 | best F1 0.7957 | LR 2.85e-05\n"
     ]
    },
    {
     "name": "stderr",
     "output_type": "stream",
     "text": [
      "                                                                "
     ]
    },
    {
     "name": "stdout",
     "output_type": "stream",
     "text": [
      "2025-06-27 16:14:26 | Fold 1 Ep09 |Train loss 0.5734 | Valid F1 0.8112 | best F1 0.7957 | LR 3.34e-05\n",
      "2025-06-27 16:14:27 | saved best model of this fold\n"
     ]
    },
    {
     "name": "stderr",
     "output_type": "stream",
     "text": [
      "                                                                 "
     ]
    },
    {
     "name": "stdout",
     "output_type": "stream",
     "text": [
      "2025-06-27 16:14:59 | Fold 1 Ep10 |Train loss 0.5321 | Valid F1 0.7726 | best F1 0.8112 | LR 3.80e-05\n"
     ]
    },
    {
     "name": "stderr",
     "output_type": "stream",
     "text": [
      "                                                                 "
     ]
    },
    {
     "name": "stdout",
     "output_type": "stream",
     "text": [
      "2025-06-27 16:15:31 | Fold 1 Ep11 |Train loss 0.4875 | Valid F1 0.8267 | best F1 0.8112 | LR 4.21e-05\n",
      "2025-06-27 16:15:31 | saved best model of this fold\n"
     ]
    },
    {
     "name": "stderr",
     "output_type": "stream",
     "text": [
      "                                                                 "
     ]
    },
    {
     "name": "stdout",
     "output_type": "stream",
     "text": [
      "2025-06-27 16:16:02 | Fold 1 Ep12 |Train loss 0.4215 | Valid F1 0.8035 | best F1 0.8267 | LR 4.54e-05\n"
     ]
    },
    {
     "name": "stderr",
     "output_type": "stream",
     "text": [
      "                                                                 "
     ]
    },
    {
     "name": "stdout",
     "output_type": "stream",
     "text": [
      "2025-06-27 16:16:33 | Fold 1 Ep13 |Train loss 0.3987 | Valid F1 0.8273 | best F1 0.8267 | LR 4.79e-05\n",
      "2025-06-27 16:16:33 | saved best model of this fold\n"
     ]
    },
    {
     "name": "stderr",
     "output_type": "stream",
     "text": [
      "                                                                 "
     ]
    },
    {
     "name": "stdout",
     "output_type": "stream",
     "text": [
      "2025-06-27 16:17:05 | Fold 1 Ep14 |Train loss 0.3617 | Valid F1 0.8383 | best F1 0.8273 | LR 4.95e-05\n",
      "2025-06-27 16:17:06 | saved best model of this fold\n"
     ]
    },
    {
     "name": "stderr",
     "output_type": "stream",
     "text": [
      "                                                                 "
     ]
    },
    {
     "name": "stdout",
     "output_type": "stream",
     "text": [
      "2025-06-27 16:17:37 | Fold 1 Ep15 |Train loss 0.3513 | Valid F1 0.8209 | best F1 0.8383 | LR 5.00e-05\n"
     ]
    },
    {
     "name": "stderr",
     "output_type": "stream",
     "text": [
      "                                                                 "
     ]
    },
    {
     "name": "stdout",
     "output_type": "stream",
     "text": [
      "2025-06-27 16:18:09 | Fold 1 Ep16 |Train loss 0.2993 | Valid F1 0.7983 | best F1 0.8383 | LR 4.99e-05\n"
     ]
    },
    {
     "name": "stderr",
     "output_type": "stream",
     "text": [
      "                                                                 "
     ]
    },
    {
     "name": "stdout",
     "output_type": "stream",
     "text": [
      "2025-06-27 16:18:39 | Fold 1 Ep17 |Train loss 0.2947 | Valid F1 0.8299 | best F1 0.8383 | LR 4.96e-05\n"
     ]
    },
    {
     "name": "stderr",
     "output_type": "stream",
     "text": [
      "                                                                 "
     ]
    },
    {
     "name": "stdout",
     "output_type": "stream",
     "text": [
      "2025-06-27 16:19:08 | Fold 1 Ep18 |Train loss 0.2538 | Valid F1 0.8363 | best F1 0.8383 | LR 4.91e-05\n"
     ]
    },
    {
     "name": "stderr",
     "output_type": "stream",
     "text": [
      "                                                                 "
     ]
    },
    {
     "name": "stdout",
     "output_type": "stream",
     "text": [
      "2025-06-27 16:19:40 | Fold 1 Ep19 |Train loss 0.2342 | Valid F1 0.8421 | best F1 0.8383 | LR 4.84e-05\n",
      "2025-06-27 16:19:41 | saved best model of this fold\n"
     ]
    },
    {
     "name": "stderr",
     "output_type": "stream",
     "text": [
      "                                                                 "
     ]
    },
    {
     "name": "stdout",
     "output_type": "stream",
     "text": [
      "2025-06-27 16:20:16 | Fold 1 Ep20 |Train loss 0.2153 | Valid F1 0.8537 | best F1 0.8421 | LR 4.75e-05\n",
      "2025-06-27 16:20:16 | saved best model of this fold\n"
     ]
    },
    {
     "name": "stderr",
     "output_type": "stream",
     "text": [
      "                                                                 "
     ]
    },
    {
     "name": "stdout",
     "output_type": "stream",
     "text": [
      "2025-06-27 16:20:51 | Fold 1 Ep21 |Train loss 0.2090 | Valid F1 0.8653 | best F1 0.8537 | LR 4.65e-05\n",
      "2025-06-27 16:20:52 | saved best model of this fold\n"
     ]
    },
    {
     "name": "stderr",
     "output_type": "stream",
     "text": [
      "                                                                 "
     ]
    },
    {
     "name": "stdout",
     "output_type": "stream",
     "text": [
      "2025-06-27 16:21:29 | Fold 1 Ep22 |Train loss 0.1899 | Valid F1 0.8634 | best F1 0.8653 | LR 4.52e-05\n"
     ]
    },
    {
     "name": "stderr",
     "output_type": "stream",
     "text": [
      "                                                                 "
     ]
    },
    {
     "name": "stdout",
     "output_type": "stream",
     "text": [
      "2025-06-27 16:22:07 | Fold 1 Ep23 |Train loss 0.1761 | Valid F1 0.8576 | best F1 0.8653 | LR 4.38e-05\n"
     ]
    },
    {
     "name": "stderr",
     "output_type": "stream",
     "text": [
      "                                                                 "
     ]
    },
    {
     "name": "stdout",
     "output_type": "stream",
     "text": [
      "2025-06-27 16:22:43 | Fold 1 Ep24 |Train loss 0.1484 | Valid F1 0.8512 | best F1 0.8653 | LR 4.23e-05\n"
     ]
    },
    {
     "name": "stderr",
     "output_type": "stream",
     "text": [
      "                                                                 "
     ]
    },
    {
     "name": "stdout",
     "output_type": "stream",
     "text": [
      "2025-06-27 16:23:18 | Fold 1 Ep25 |Train loss 0.1696 | Valid F1 0.8415 | best F1 0.8653 | LR 4.06e-05\n"
     ]
    },
    {
     "name": "stderr",
     "output_type": "stream",
     "text": [
      "                                                                 "
     ]
    },
    {
     "name": "stdout",
     "output_type": "stream",
     "text": [
      "2025-06-27 16:23:53 | Fold 1 Ep26 |Train loss 0.1575 | Valid F1 0.8692 | best F1 0.8653 | LR 3.88e-05\n",
      "2025-06-27 16:23:53 | saved best model of this fold\n"
     ]
    },
    {
     "name": "stderr",
     "output_type": "stream",
     "text": [
      "                                                                 "
     ]
    },
    {
     "name": "stdout",
     "output_type": "stream",
     "text": [
      "2025-06-27 16:24:29 | Fold 1 Ep27 |Train loss 0.1243 | Valid F1 0.8595 | best F1 0.8692 | LR 3.68e-05\n"
     ]
    },
    {
     "name": "stderr",
     "output_type": "stream",
     "text": [
      "                                                                 "
     ]
    },
    {
     "name": "stdout",
     "output_type": "stream",
     "text": [
      "2025-06-27 16:25:07 | Fold 1 Ep28 |Train loss 0.0994 | Valid F1 0.8628 | best F1 0.8692 | LR 3.48e-05\n"
     ]
    },
    {
     "name": "stderr",
     "output_type": "stream",
     "text": [
      "                                                                 "
     ]
    },
    {
     "name": "stdout",
     "output_type": "stream",
     "text": [
      "2025-06-27 16:25:45 | Fold 1 Ep29 |Train loss 0.0916 | Valid F1 0.8640 | best F1 0.8692 | LR 3.27e-05\n"
     ]
    },
    {
     "name": "stderr",
     "output_type": "stream",
     "text": [
      "                                                                 "
     ]
    },
    {
     "name": "stdout",
     "output_type": "stream",
     "text": [
      "2025-06-27 16:26:21 | Fold 1 Ep30 |Train loss 0.1257 | Valid F1 0.8499 | best F1 0.8692 | LR 3.06e-05\n"
     ]
    },
    {
     "name": "stderr",
     "output_type": "stream",
     "text": [
      "                                                                 "
     ]
    },
    {
     "name": "stdout",
     "output_type": "stream",
     "text": [
      "2025-06-27 16:26:55 | Fold 1 Ep31 |Train loss 0.0895 | Valid F1 0.8415 | best F1 0.8692 | LR 2.83e-05\n"
     ]
    },
    {
     "name": "stderr",
     "output_type": "stream",
     "text": [
      "                                                                 "
     ]
    },
    {
     "name": "stdout",
     "output_type": "stream",
     "text": [
      "2025-06-27 16:27:29 | Fold 1 Ep32 |Train loss 0.0994 | Valid F1 0.8518 | best F1 0.8692 | LR 2.61e-05\n"
     ]
    },
    {
     "name": "stderr",
     "output_type": "stream",
     "text": [
      "                                                                 "
     ]
    },
    {
     "name": "stdout",
     "output_type": "stream",
     "text": [
      "2025-06-27 16:28:07 | Fold 1 Ep33 |Train loss 0.0761 | Valid F1 0.8512 | best F1 0.8692 | LR 2.39e-05\n"
     ]
    },
    {
     "name": "stderr",
     "output_type": "stream",
     "text": [
      "                                                                 "
     ]
    },
    {
     "name": "stdout",
     "output_type": "stream",
     "text": [
      "2025-06-27 16:28:46 | Fold 1 Ep34 |Train loss 0.0686 | Valid F1 0.8383 | best F1 0.8692 | LR 2.16e-05\n"
     ]
    },
    {
     "name": "stderr",
     "output_type": "stream",
     "text": [
      "                                                                 "
     ]
    },
    {
     "name": "stdout",
     "output_type": "stream",
     "text": [
      "2025-06-27 16:29:23 | Fold 1 Ep35 |Train loss 0.0625 | Valid F1 0.8634 | best F1 0.8692 | LR 1.94e-05\n"
     ]
    },
    {
     "name": "stderr",
     "output_type": "stream",
     "text": [
      "                                                                 "
     ]
    },
    {
     "name": "stdout",
     "output_type": "stream",
     "text": [
      "2025-06-27 16:30:00 | Fold 1 Ep36 |Train loss 0.0600 | Valid F1 0.8486 | best F1 0.8692 | LR 1.73e-05\n",
      "2025-06-27 16:30:00 | early-stop\n",
      "2025-06-27 16:30:00 | \n",
      "=== Fold 2/5 | train 6205 | val 1551 ===\n"
     ]
    },
    {
     "name": "stderr",
     "output_type": "stream",
     "text": [
      "                                                                "
     ]
    },
    {
     "name": "stdout",
     "output_type": "stream",
     "text": [
      "2025-06-27 16:30:34 | Fold 2 Ep01 |Train loss 1.6009 | Valid F1 0.4417 | best F1 0.0000 | LR 2.52e-06\n",
      "2025-06-27 16:30:35 | saved best model of this fold\n"
     ]
    },
    {
     "name": "stderr",
     "output_type": "stream",
     "text": [
      "                                                                "
     ]
    },
    {
     "name": "stdout",
     "output_type": "stream",
     "text": [
      "2025-06-27 16:31:09 | Fold 2 Ep02 |Train loss 1.5233 | Valid F1 0.4584 | best F1 0.4417 | LR 4.08e-06\n",
      "2025-06-27 16:31:10 | saved best model of this fold\n"
     ]
    },
    {
     "name": "stderr",
     "output_type": "stream",
     "text": [
      "                                                                "
     ]
    },
    {
     "name": "stdout",
     "output_type": "stream",
     "text": [
      "2025-06-27 16:31:46 | Fold 2 Ep03 |Train loss 1.3069 | Valid F1 0.6125 | best F1 0.4584 | LR 6.59e-06\n",
      "2025-06-27 16:31:46 | saved best model of this fold\n"
     ]
    },
    {
     "name": "stderr",
     "output_type": "stream",
     "text": [
      "                                                                "
     ]
    },
    {
     "name": "stdout",
     "output_type": "stream",
     "text": [
      "2025-06-27 16:32:26 | Fold 2 Ep04 |Train loss 1.1071 | Valid F1 0.6628 | best F1 0.6125 | LR 9.95e-06\n",
      "2025-06-27 16:32:26 | saved best model of this fold\n"
     ]
    },
    {
     "name": "stderr",
     "output_type": "stream",
     "text": [
      "                                                                "
     ]
    },
    {
     "name": "stdout",
     "output_type": "stream",
     "text": [
      "2025-06-27 16:33:05 | Fold 2 Ep05 |Train loss 0.9194 | Valid F1 0.7163 | best F1 0.6628 | LR 1.40e-05\n",
      "2025-06-27 16:33:05 | saved best model of this fold\n"
     ]
    },
    {
     "name": "stderr",
     "output_type": "stream",
     "text": [
      "                                                                "
     ]
    },
    {
     "name": "stdout",
     "output_type": "stream",
     "text": [
      "2025-06-27 16:33:42 | Fold 2 Ep06 |Train loss 0.7972 | Valid F1 0.7466 | best F1 0.7163 | LR 1.86e-05\n",
      "2025-06-27 16:33:43 | saved best model of this fold\n"
     ]
    },
    {
     "name": "stderr",
     "output_type": "stream",
     "text": [
      "                                                                "
     ]
    },
    {
     "name": "stdout",
     "output_type": "stream",
     "text": [
      "2025-06-27 16:34:18 | Fold 2 Ep07 |Train loss 0.7180 | Valid F1 0.7550 | best F1 0.7466 | LR 2.35e-05\n",
      "2025-06-27 16:34:19 | saved best model of this fold\n"
     ]
    },
    {
     "name": "stderr",
     "output_type": "stream",
     "text": [
      "                                                                "
     ]
    },
    {
     "name": "stdout",
     "output_type": "stream",
     "text": [
      "2025-06-27 16:34:53 | Fold 2 Ep08 |Train loss 0.6366 | Valid F1 0.7602 | best F1 0.7550 | LR 2.85e-05\n",
      "2025-06-27 16:34:54 | saved best model of this fold\n"
     ]
    },
    {
     "name": "stderr",
     "output_type": "stream",
     "text": [
      "                                                                "
     ]
    },
    {
     "name": "stdout",
     "output_type": "stream",
     "text": [
      "2025-06-27 16:35:29 | Fold 2 Ep09 |Train loss 0.5728 | Valid F1 0.8079 | best F1 0.7602 | LR 3.34e-05\n",
      "2025-06-27 16:35:30 | saved best model of this fold\n"
     ]
    },
    {
     "name": "stderr",
     "output_type": "stream",
     "text": [
      "                                                                 "
     ]
    },
    {
     "name": "stdout",
     "output_type": "stream",
     "text": [
      "2025-06-27 16:36:06 | Fold 2 Ep10 |Train loss 0.5254 | Valid F1 0.7866 | best F1 0.8079 | LR 3.80e-05\n"
     ]
    },
    {
     "name": "stderr",
     "output_type": "stream",
     "text": [
      "                                                                 "
     ]
    },
    {
     "name": "stdout",
     "output_type": "stream",
     "text": [
      "2025-06-27 16:36:45 | Fold 2 Ep11 |Train loss 0.5033 | Valid F1 0.8143 | best F1 0.8079 | LR 4.21e-05\n",
      "2025-06-27 16:36:45 | saved best model of this fold\n"
     ]
    },
    {
     "name": "stderr",
     "output_type": "stream",
     "text": [
      "                                                                 "
     ]
    },
    {
     "name": "stdout",
     "output_type": "stream",
     "text": [
      "2025-06-27 16:37:24 | Fold 2 Ep12 |Train loss 0.4220 | Valid F1 0.8208 | best F1 0.8143 | LR 4.54e-05\n",
      "2025-06-27 16:37:24 | saved best model of this fold\n"
     ]
    },
    {
     "name": "stderr",
     "output_type": "stream",
     "text": [
      "                                                                 "
     ]
    },
    {
     "name": "stdout",
     "output_type": "stream",
     "text": [
      "2025-06-27 16:38:00 | Fold 2 Ep13 |Train loss 0.4450 | Valid F1 0.8092 | best F1 0.8208 | LR 4.79e-05\n"
     ]
    },
    {
     "name": "stderr",
     "output_type": "stream",
     "text": [
      "                                                                 "
     ]
    },
    {
     "name": "stdout",
     "output_type": "stream",
     "text": [
      "2025-06-27 16:38:35 | Fold 2 Ep14 |Train loss 0.3714 | Valid F1 0.8382 | best F1 0.8208 | LR 4.95e-05\n",
      "2025-06-27 16:38:35 | saved best model of this fold\n"
     ]
    },
    {
     "name": "stderr",
     "output_type": "stream",
     "text": [
      "                                                                 "
     ]
    },
    {
     "name": "stdout",
     "output_type": "stream",
     "text": [
      "2025-06-27 16:39:11 | Fold 2 Ep15 |Train loss 0.3236 | Valid F1 0.8233 | best F1 0.8382 | LR 5.00e-05\n"
     ]
    },
    {
     "name": "stderr",
     "output_type": "stream",
     "text": [
      "                                                                 "
     ]
    },
    {
     "name": "stdout",
     "output_type": "stream",
     "text": [
      "2025-06-27 16:39:46 | Fold 2 Ep16 |Train loss 0.2965 | Valid F1 0.8349 | best F1 0.8382 | LR 4.99e-05\n"
     ]
    },
    {
     "name": "stderr",
     "output_type": "stream",
     "text": [
      "                                                                 "
     ]
    },
    {
     "name": "stdout",
     "output_type": "stream",
     "text": [
      "2025-06-27 16:40:25 | Fold 2 Ep17 |Train loss 0.2452 | Valid F1 0.8414 | best F1 0.8382 | LR 4.96e-05\n",
      "2025-06-27 16:40:25 | saved best model of this fold\n"
     ]
    },
    {
     "name": "stderr",
     "output_type": "stream",
     "text": [
      "                                                                 "
     ]
    },
    {
     "name": "stdout",
     "output_type": "stream",
     "text": [
      "2025-06-27 16:41:04 | Fold 2 Ep18 |Train loss 0.2536 | Valid F1 0.8285 | best F1 0.8414 | LR 4.91e-05\n"
     ]
    },
    {
     "name": "stderr",
     "output_type": "stream",
     "text": [
      "                                                                 "
     ]
    },
    {
     "name": "stdout",
     "output_type": "stream",
     "text": [
      "2025-06-27 16:41:41 | Fold 2 Ep19 |Train loss 0.2369 | Valid F1 0.8427 | best F1 0.8414 | LR 4.84e-05\n",
      "2025-06-27 16:41:41 | saved best model of this fold\n"
     ]
    },
    {
     "name": "stderr",
     "output_type": "stream",
     "text": [
      "                                                                 "
     ]
    },
    {
     "name": "stdout",
     "output_type": "stream",
     "text": [
      "2025-06-27 16:42:17 | Fold 2 Ep20 |Train loss 0.1956 | Valid F1 0.8401 | best F1 0.8427 | LR 4.75e-05\n"
     ]
    },
    {
     "name": "stderr",
     "output_type": "stream",
     "text": [
      "                                                                 "
     ]
    },
    {
     "name": "stdout",
     "output_type": "stream",
     "text": [
      "2025-06-27 16:42:52 | Fold 2 Ep21 |Train loss 0.1956 | Valid F1 0.8285 | best F1 0.8427 | LR 4.65e-05\n"
     ]
    },
    {
     "name": "stderr",
     "output_type": "stream",
     "text": [
      "                                                                 "
     ]
    },
    {
     "name": "stdout",
     "output_type": "stream",
     "text": [
      "2025-06-27 16:43:27 | Fold 2 Ep22 |Train loss 0.1801 | Valid F1 0.8459 | best F1 0.8427 | LR 4.52e-05\n",
      "2025-06-27 16:43:28 | saved best model of this fold\n"
     ]
    },
    {
     "name": "stderr",
     "output_type": "stream",
     "text": [
      "                                                                 "
     ]
    },
    {
     "name": "stdout",
     "output_type": "stream",
     "text": [
      "2025-06-27 16:44:05 | Fold 2 Ep23 |Train loss 0.1636 | Valid F1 0.8453 | best F1 0.8459 | LR 4.38e-05\n"
     ]
    },
    {
     "name": "stderr",
     "output_type": "stream",
     "text": [
      "                                                                 "
     ]
    },
    {
     "name": "stdout",
     "output_type": "stream",
     "text": [
      "2025-06-27 16:44:44 | Fold 2 Ep24 |Train loss 0.1634 | Valid F1 0.8472 | best F1 0.8459 | LR 4.23e-05\n",
      "2025-06-27 16:44:44 | saved best model of this fold\n"
     ]
    },
    {
     "name": "stderr",
     "output_type": "stream",
     "text": [
      "                                                                 "
     ]
    },
    {
     "name": "stdout",
     "output_type": "stream",
     "text": [
      "2025-06-27 16:45:21 | Fold 2 Ep25 |Train loss 0.1485 | Valid F1 0.8498 | best F1 0.8472 | LR 4.06e-05\n",
      "2025-06-27 16:45:22 | saved best model of this fold\n"
     ]
    },
    {
     "name": "stderr",
     "output_type": "stream",
     "text": [
      "                                                                 "
     ]
    },
    {
     "name": "stdout",
     "output_type": "stream",
     "text": [
      "2025-06-27 16:45:57 | Fold 2 Ep26 |Train loss 0.1250 | Valid F1 0.8543 | best F1 0.8498 | LR 3.88e-05\n",
      "2025-06-27 16:45:58 | saved best model of this fold\n"
     ]
    },
    {
     "name": "stderr",
     "output_type": "stream",
     "text": [
      "                                                                 "
     ]
    },
    {
     "name": "stdout",
     "output_type": "stream",
     "text": [
      "2025-06-27 16:46:34 | Fold 2 Ep27 |Train loss 0.1343 | Valid F1 0.8446 | best F1 0.8543 | LR 3.68e-05\n"
     ]
    },
    {
     "name": "stderr",
     "output_type": "stream",
     "text": [
      "                                                                 "
     ]
    },
    {
     "name": "stdout",
     "output_type": "stream",
     "text": [
      "2025-06-27 16:47:08 | Fold 2 Ep28 |Train loss 0.1131 | Valid F1 0.8446 | best F1 0.8543 | LR 3.48e-05\n"
     ]
    },
    {
     "name": "stderr",
     "output_type": "stream",
     "text": [
      "                                                                 "
     ]
    },
    {
     "name": "stdout",
     "output_type": "stream",
     "text": [
      "2025-06-27 16:47:45 | Fold 2 Ep29 |Train loss 0.0928 | Valid F1 0.8536 | best F1 0.8543 | LR 3.27e-05\n"
     ]
    },
    {
     "name": "stderr",
     "output_type": "stream",
     "text": [
      "                                                                 "
     ]
    },
    {
     "name": "stdout",
     "output_type": "stream",
     "text": [
      "2025-06-27 16:48:24 | Fold 2 Ep30 |Train loss 0.1070 | Valid F1 0.8685 | best F1 0.8543 | LR 3.06e-05\n",
      "2025-06-27 16:48:24 | saved best model of this fold\n"
     ]
    },
    {
     "name": "stderr",
     "output_type": "stream",
     "text": [
      "                                                                 "
     ]
    },
    {
     "name": "stdout",
     "output_type": "stream",
     "text": [
      "2025-06-27 16:49:03 | Fold 2 Ep31 |Train loss 0.0778 | Valid F1 0.8349 | best F1 0.8685 | LR 2.83e-05\n"
     ]
    },
    {
     "name": "stderr",
     "output_type": "stream",
     "text": [
      "                                                                 "
     ]
    },
    {
     "name": "stdout",
     "output_type": "stream",
     "text": [
      "2025-06-27 16:49:39 | Fold 2 Ep32 |Train loss 0.0618 | Valid F1 0.8498 | best F1 0.8685 | LR 2.61e-05\n"
     ]
    },
    {
     "name": "stderr",
     "output_type": "stream",
     "text": [
      "                                                                 "
     ]
    },
    {
     "name": "stdout",
     "output_type": "stream",
     "text": [
      "2025-06-27 16:50:15 | Fold 2 Ep33 |Train loss 0.0792 | Valid F1 0.8524 | best F1 0.8685 | LR 2.39e-05\n"
     ]
    },
    {
     "name": "stderr",
     "output_type": "stream",
     "text": [
      "                                                                 "
     ]
    },
    {
     "name": "stdout",
     "output_type": "stream",
     "text": [
      "2025-06-27 16:50:48 | Fold 2 Ep34 |Train loss 0.0587 | Valid F1 0.8646 | best F1 0.8685 | LR 2.16e-05\n"
     ]
    },
    {
     "name": "stderr",
     "output_type": "stream",
     "text": [
      "                                                                 "
     ]
    },
    {
     "name": "stdout",
     "output_type": "stream",
     "text": [
      "2025-06-27 16:51:25 | Fold 2 Ep35 |Train loss 0.0522 | Valid F1 0.8575 | best F1 0.8685 | LR 1.94e-05\n"
     ]
    },
    {
     "name": "stderr",
     "output_type": "stream",
     "text": [
      "                                                                 "
     ]
    },
    {
     "name": "stdout",
     "output_type": "stream",
     "text": [
      "2025-06-27 16:52:04 | Fold 2 Ep36 |Train loss 0.0531 | Valid F1 0.8414 | best F1 0.8685 | LR 1.73e-05\n"
     ]
    },
    {
     "name": "stderr",
     "output_type": "stream",
     "text": [
      "                                                                 "
     ]
    },
    {
     "name": "stdout",
     "output_type": "stream",
     "text": [
      "2025-06-27 16:52:42 | Fold 2 Ep37 |Train loss 0.0517 | Valid F1 0.8575 | best F1 0.8685 | LR 1.52e-05\n"
     ]
    },
    {
     "name": "stderr",
     "output_type": "stream",
     "text": [
      "                                                                 "
     ]
    },
    {
     "name": "stdout",
     "output_type": "stream",
     "text": [
      "2025-06-27 16:53:18 | Fold 2 Ep38 |Train loss 0.0434 | Valid F1 0.8556 | best F1 0.8685 | LR 1.31e-05\n"
     ]
    },
    {
     "name": "stderr",
     "output_type": "stream",
     "text": [
      "                                                                 "
     ]
    },
    {
     "name": "stdout",
     "output_type": "stream",
     "text": [
      "2025-06-27 16:53:53 | Fold 2 Ep39 |Train loss 0.0436 | Valid F1 0.8569 | best F1 0.8685 | LR 1.12e-05\n"
     ]
    },
    {
     "name": "stderr",
     "output_type": "stream",
     "text": [
      "                                                                 "
     ]
    },
    {
     "name": "stdout",
     "output_type": "stream",
     "text": [
      "2025-06-27 16:54:27 | Fold 2 Ep40 |Train loss 0.0477 | Valid F1 0.8665 | best F1 0.8685 | LR 9.40e-06\n",
      "2025-06-27 16:54:27 | early-stop\n",
      "2025-06-27 16:54:27 | \n",
      "=== Fold 3/5 | train 6205 | val 1551 ===\n"
     ]
    },
    {
     "name": "stderr",
     "output_type": "stream",
     "text": [
      "                                                                "
     ]
    },
    {
     "name": "stdout",
     "output_type": "stream",
     "text": [
      "2025-06-27 16:55:04 | Fold 3 Ep01 |Train loss 1.5912 | Valid F1 0.4152 | best F1 0.0000 | LR 2.52e-06\n",
      "2025-06-27 16:55:04 | saved best model of this fold\n"
     ]
    },
    {
     "name": "stderr",
     "output_type": "stream",
     "text": [
      "                                                                "
     ]
    },
    {
     "name": "stdout",
     "output_type": "stream",
     "text": [
      "2025-06-27 16:55:44 | Fold 3 Ep02 |Train loss 1.4952 | Valid F1 0.4475 | best F1 0.4152 | LR 4.08e-06\n",
      "2025-06-27 16:55:44 | saved best model of this fold\n"
     ]
    },
    {
     "name": "stderr",
     "output_type": "stream",
     "text": [
      "                                                                "
     ]
    },
    {
     "name": "stdout",
     "output_type": "stream",
     "text": [
      "2025-06-27 16:56:22 | Fold 3 Ep03 |Train loss 1.2758 | Valid F1 0.6344 | best F1 0.4475 | LR 6.59e-06\n",
      "2025-06-27 16:56:22 | saved best model of this fold\n"
     ]
    },
    {
     "name": "stderr",
     "output_type": "stream",
     "text": [
      "                                                                "
     ]
    },
    {
     "name": "stdout",
     "output_type": "stream",
     "text": [
      "2025-06-27 16:56:58 | Fold 3 Ep04 |Train loss 1.1003 | Valid F1 0.6828 | best F1 0.6344 | LR 9.95e-06\n",
      "2025-06-27 16:56:59 | saved best model of this fold\n"
     ]
    },
    {
     "name": "stderr",
     "output_type": "stream",
     "text": [
      "                                                                "
     ]
    },
    {
     "name": "stdout",
     "output_type": "stream",
     "text": [
      "2025-06-27 16:57:34 | Fold 3 Ep05 |Train loss 0.9510 | Valid F1 0.7253 | best F1 0.6828 | LR 1.40e-05\n",
      "2025-06-27 16:57:34 | saved best model of this fold\n"
     ]
    },
    {
     "name": "stderr",
     "output_type": "stream",
     "text": [
      "                                                                "
     ]
    },
    {
     "name": "stdout",
     "output_type": "stream",
     "text": [
      "2025-06-27 16:58:09 | Fold 3 Ep06 |Train loss 0.8063 | Valid F1 0.7672 | best F1 0.7253 | LR 1.86e-05\n",
      "2025-06-27 16:58:09 | saved best model of this fold\n"
     ]
    },
    {
     "name": "stderr",
     "output_type": "stream",
     "text": [
      "                                                                "
     ]
    },
    {
     "name": "stdout",
     "output_type": "stream",
     "text": [
      "2025-06-27 16:58:45 | Fold 3 Ep07 |Train loss 0.7278 | Valid F1 0.7453 | best F1 0.7672 | LR 2.35e-05\n"
     ]
    },
    {
     "name": "stderr",
     "output_type": "stream",
     "text": [
      "                                                                "
     ]
    },
    {
     "name": "stdout",
     "output_type": "stream",
     "text": [
      "2025-06-27 16:59:24 | Fold 3 Ep08 |Train loss 0.6338 | Valid F1 0.7988 | best F1 0.7672 | LR 2.85e-05\n",
      "2025-06-27 16:59:24 | saved best model of this fold\n"
     ]
    },
    {
     "name": "stderr",
     "output_type": "stream",
     "text": [
      "                                                                "
     ]
    },
    {
     "name": "stdout",
     "output_type": "stream",
     "text": [
      "2025-06-27 17:00:03 | Fold 3 Ep09 |Train loss 0.5859 | Valid F1 0.8079 | best F1 0.7988 | LR 3.34e-05\n",
      "2025-06-27 17:00:03 | saved best model of this fold\n"
     ]
    },
    {
     "name": "stderr",
     "output_type": "stream",
     "text": [
      "                                                                 "
     ]
    },
    {
     "name": "stdout",
     "output_type": "stream",
     "text": [
      "2025-06-27 17:00:39 | Fold 3 Ep10 |Train loss 0.5246 | Valid F1 0.7834 | best F1 0.8079 | LR 3.80e-05\n"
     ]
    },
    {
     "name": "stderr",
     "output_type": "stream",
     "text": [
      "                                                                 "
     ]
    },
    {
     "name": "stdout",
     "output_type": "stream",
     "text": [
      "2025-06-27 17:01:15 | Fold 3 Ep11 |Train loss 0.4603 | Valid F1 0.8111 | best F1 0.8079 | LR 4.21e-05\n",
      "2025-06-27 17:01:15 | saved best model of this fold\n"
     ]
    },
    {
     "name": "stderr",
     "output_type": "stream",
     "text": [
      "                                                                 "
     ]
    },
    {
     "name": "stdout",
     "output_type": "stream",
     "text": [
      "2025-06-27 17:01:50 | Fold 3 Ep12 |Train loss 0.4124 | Valid F1 0.8504 | best F1 0.8111 | LR 4.54e-05\n",
      "2025-06-27 17:01:51 | saved best model of this fold\n"
     ]
    },
    {
     "name": "stderr",
     "output_type": "stream",
     "text": [
      "                                                                 "
     ]
    },
    {
     "name": "stdout",
     "output_type": "stream",
     "text": [
      "2025-06-27 17:02:26 | Fold 3 Ep13 |Train loss 0.3715 | Valid F1 0.8440 | best F1 0.8504 | LR 4.79e-05\n"
     ]
    },
    {
     "name": "stderr",
     "output_type": "stream",
     "text": [
      "                                                                 "
     ]
    },
    {
     "name": "stdout",
     "output_type": "stream",
     "text": [
      "2025-06-27 17:03:05 | Fold 3 Ep14 |Train loss 0.3497 | Valid F1 0.8491 | best F1 0.8504 | LR 4.95e-05\n"
     ]
    },
    {
     "name": "stderr",
     "output_type": "stream",
     "text": [
      "                                                                 "
     ]
    },
    {
     "name": "stdout",
     "output_type": "stream",
     "text": [
      "2025-06-27 17:03:44 | Fold 3 Ep15 |Train loss 0.3443 | Valid F1 0.8382 | best F1 0.8504 | LR 5.00e-05\n"
     ]
    },
    {
     "name": "stderr",
     "output_type": "stream",
     "text": [
      "                                                                 "
     ]
    },
    {
     "name": "stdout",
     "output_type": "stream",
     "text": [
      "2025-06-27 17:04:21 | Fold 3 Ep16 |Train loss 0.2888 | Valid F1 0.8453 | best F1 0.8504 | LR 4.99e-05\n"
     ]
    },
    {
     "name": "stderr",
     "output_type": "stream",
     "text": [
      "                                                                 "
     ]
    },
    {
     "name": "stdout",
     "output_type": "stream",
     "text": [
      "2025-06-27 17:04:56 | Fold 3 Ep17 |Train loss 0.2989 | Valid F1 0.8582 | best F1 0.8504 | LR 4.96e-05\n",
      "2025-06-27 17:04:56 | saved best model of this fold\n"
     ]
    },
    {
     "name": "stderr",
     "output_type": "stream",
     "text": [
      "                                                                 "
     ]
    },
    {
     "name": "stdout",
     "output_type": "stream",
     "text": [
      "2025-06-27 17:05:31 | Fold 3 Ep18 |Train loss 0.2559 | Valid F1 0.8517 | best F1 0.8582 | LR 4.91e-05\n"
     ]
    },
    {
     "name": "stderr",
     "output_type": "stream",
     "text": [
      "                                                                 "
     ]
    },
    {
     "name": "stdout",
     "output_type": "stream",
     "text": [
      "2025-06-27 17:06:07 | Fold 3 Ep19 |Train loss 0.2315 | Valid F1 0.8382 | best F1 0.8582 | LR 4.84e-05\n"
     ]
    },
    {
     "name": "stderr",
     "output_type": "stream",
     "text": [
      "                                                                 "
     ]
    },
    {
     "name": "stdout",
     "output_type": "stream",
     "text": [
      "2025-06-27 17:06:45 | Fold 3 Ep20 |Train loss 0.2416 | Valid F1 0.8246 | best F1 0.8582 | LR 4.75e-05\n"
     ]
    },
    {
     "name": "stderr",
     "output_type": "stream",
     "text": [
      "                                                                 "
     ]
    },
    {
     "name": "stdout",
     "output_type": "stream",
     "text": [
      "2025-06-27 17:07:23 | Fold 3 Ep21 |Train loss 0.2291 | Valid F1 0.8524 | best F1 0.8582 | LR 4.65e-05\n"
     ]
    },
    {
     "name": "stderr",
     "output_type": "stream",
     "text": [
      "                                                                 "
     ]
    },
    {
     "name": "stdout",
     "output_type": "stream",
     "text": [
      "2025-06-27 17:07:59 | Fold 3 Ep22 |Train loss 0.1912 | Valid F1 0.8407 | best F1 0.8582 | LR 4.52e-05\n"
     ]
    },
    {
     "name": "stderr",
     "output_type": "stream",
     "text": [
      "                                                                 "
     ]
    },
    {
     "name": "stdout",
     "output_type": "stream",
     "text": [
      "2025-06-27 17:08:34 | Fold 3 Ep23 |Train loss 0.1782 | Valid F1 0.8504 | best F1 0.8582 | LR 4.38e-05\n"
     ]
    },
    {
     "name": "stderr",
     "output_type": "stream",
     "text": [
      "                                                                 "
     ]
    },
    {
     "name": "stdout",
     "output_type": "stream",
     "text": [
      "2025-06-27 17:09:09 | Fold 3 Ep24 |Train loss 0.1737 | Valid F1 0.8672 | best F1 0.8582 | LR 4.23e-05\n",
      "2025-06-27 17:09:10 | saved best model of this fold\n"
     ]
    },
    {
     "name": "stderr",
     "output_type": "stream",
     "text": [
      "                                                                 "
     ]
    },
    {
     "name": "stdout",
     "output_type": "stream",
     "text": [
      "2025-06-27 17:09:46 | Fold 3 Ep25 |Train loss 0.1356 | Valid F1 0.8549 | best F1 0.8672 | LR 4.06e-05\n"
     ]
    },
    {
     "name": "stderr",
     "output_type": "stream",
     "text": [
      "                                                                 "
     ]
    },
    {
     "name": "stdout",
     "output_type": "stream",
     "text": [
      "2025-06-27 17:10:25 | Fold 3 Ep26 |Train loss 0.1198 | Valid F1 0.8627 | best F1 0.8672 | LR 3.88e-05\n"
     ]
    },
    {
     "name": "stderr",
     "output_type": "stream",
     "text": [
      "                                                                 "
     ]
    },
    {
     "name": "stdout",
     "output_type": "stream",
     "text": [
      "2025-06-27 17:11:03 | Fold 3 Ep27 |Train loss 0.1185 | Valid F1 0.8665 | best F1 0.8672 | LR 3.68e-05\n"
     ]
    },
    {
     "name": "stderr",
     "output_type": "stream",
     "text": [
      "                                                                 "
     ]
    },
    {
     "name": "stdout",
     "output_type": "stream",
     "text": [
      "2025-06-27 17:11:39 | Fold 3 Ep28 |Train loss 0.1231 | Valid F1 0.8730 | best F1 0.8672 | LR 3.48e-05\n",
      "2025-06-27 17:11:39 | saved best model of this fold\n"
     ]
    },
    {
     "name": "stderr",
     "output_type": "stream",
     "text": [
      "                                                                 "
     ]
    },
    {
     "name": "stdout",
     "output_type": "stream",
     "text": [
      "2025-06-27 17:12:15 | Fold 3 Ep29 |Train loss 0.0981 | Valid F1 0.8582 | best F1 0.8730 | LR 3.27e-05\n"
     ]
    },
    {
     "name": "stderr",
     "output_type": "stream",
     "text": [
      "                                                                 "
     ]
    },
    {
     "name": "stdout",
     "output_type": "stream",
     "text": [
      "2025-06-27 17:12:49 | Fold 3 Ep30 |Train loss 0.1148 | Valid F1 0.8743 | best F1 0.8730 | LR 3.06e-05\n",
      "2025-06-27 17:12:50 | saved best model of this fold\n"
     ]
    },
    {
     "name": "stderr",
     "output_type": "stream",
     "text": [
      "                                                                 "
     ]
    },
    {
     "name": "stdout",
     "output_type": "stream",
     "text": [
      "2025-06-27 17:13:25 | Fold 3 Ep31 |Train loss 0.0824 | Valid F1 0.8749 | best F1 0.8743 | LR 2.83e-05\n",
      "2025-06-27 17:13:26 | saved best model of this fold\n"
     ]
    },
    {
     "name": "stderr",
     "output_type": "stream",
     "text": [
      "                                                                 "
     ]
    },
    {
     "name": "stdout",
     "output_type": "stream",
     "text": [
      "2025-06-27 17:14:05 | Fold 3 Ep32 |Train loss 0.0763 | Valid F1 0.8788 | best F1 0.8749 | LR 2.61e-05\n",
      "2025-06-27 17:14:05 | saved best model of this fold\n"
     ]
    },
    {
     "name": "stderr",
     "output_type": "stream",
     "text": [
      "                                                                 "
     ]
    },
    {
     "name": "stdout",
     "output_type": "stream",
     "text": [
      "2025-06-27 17:14:44 | Fold 3 Ep33 |Train loss 0.0780 | Valid F1 0.8730 | best F1 0.8788 | LR 2.39e-05\n"
     ]
    },
    {
     "name": "stderr",
     "output_type": "stream",
     "text": [
      "                                                                 "
     ]
    },
    {
     "name": "stdout",
     "output_type": "stream",
     "text": [
      "2025-06-27 17:15:21 | Fold 3 Ep34 |Train loss 0.0708 | Valid F1 0.8846 | best F1 0.8788 | LR 2.16e-05\n",
      "2025-06-27 17:15:21 | saved best model of this fold\n"
     ]
    },
    {
     "name": "stderr",
     "output_type": "stream",
     "text": [
      "                                                                 "
     ]
    },
    {
     "name": "stdout",
     "output_type": "stream",
     "text": [
      "2025-06-27 17:15:56 | Fold 3 Ep35 |Train loss 0.0716 | Valid F1 0.8891 | best F1 0.8846 | LR 1.94e-05\n",
      "2025-06-27 17:15:57 | saved best model of this fold\n"
     ]
    },
    {
     "name": "stderr",
     "output_type": "stream",
     "text": [
      "                                                                 "
     ]
    },
    {
     "name": "stdout",
     "output_type": "stream",
     "text": [
      "2025-06-27 17:16:31 | Fold 3 Ep36 |Train loss 0.0596 | Valid F1 0.8852 | best F1 0.8891 | LR 1.73e-05\n"
     ]
    },
    {
     "name": "stderr",
     "output_type": "stream",
     "text": [
      "                                                                 "
     ]
    },
    {
     "name": "stdout",
     "output_type": "stream",
     "text": [
      "2025-06-27 17:17:06 | Fold 3 Ep37 |Train loss 0.0572 | Valid F1 0.8923 | best F1 0.8891 | LR 1.52e-05\n",
      "2025-06-27 17:17:06 | saved best model of this fold\n"
     ]
    },
    {
     "name": "stderr",
     "output_type": "stream",
     "text": [
      "                                                                 "
     ]
    },
    {
     "name": "stdout",
     "output_type": "stream",
     "text": [
      "2025-06-27 17:17:44 | Fold 3 Ep38 |Train loss 0.0520 | Valid F1 0.8756 | best F1 0.8923 | LR 1.31e-05\n"
     ]
    },
    {
     "name": "stderr",
     "output_type": "stream",
     "text": [
      "                                                                 "
     ]
    },
    {
     "name": "stdout",
     "output_type": "stream",
     "text": [
      "2025-06-27 17:18:24 | Fold 3 Ep39 |Train loss 0.0388 | Valid F1 0.8897 | best F1 0.8923 | LR 1.12e-05\n"
     ]
    },
    {
     "name": "stderr",
     "output_type": "stream",
     "text": [
      "                                                                 "
     ]
    },
    {
     "name": "stdout",
     "output_type": "stream",
     "text": [
      "2025-06-27 17:19:01 | Fold 3 Ep40 |Train loss 0.0475 | Valid F1 0.8775 | best F1 0.8923 | LR 9.40e-06\n"
     ]
    },
    {
     "name": "stderr",
     "output_type": "stream",
     "text": [
      "                                                                 "
     ]
    },
    {
     "name": "stdout",
     "output_type": "stream",
     "text": [
      "2025-06-27 17:19:36 | Fold 3 Ep41 |Train loss 0.0411 | Valid F1 0.8814 | best F1 0.8923 | LR 7.72e-06\n"
     ]
    },
    {
     "name": "stderr",
     "output_type": "stream",
     "text": [
      "                                                                 "
     ]
    },
    {
     "name": "stdout",
     "output_type": "stream",
     "text": [
      "2025-06-27 17:20:12 | Fold 3 Ep42 |Train loss 0.0347 | Valid F1 0.8814 | best F1 0.8923 | LR 6.17e-06\n"
     ]
    },
    {
     "name": "stderr",
     "output_type": "stream",
     "text": [
      "                                                                 "
     ]
    },
    {
     "name": "stdout",
     "output_type": "stream",
     "text": [
      "2025-06-27 17:20:45 | Fold 3 Ep43 |Train loss 0.0417 | Valid F1 0.8807 | best F1 0.8923 | LR 4.77e-06\n"
     ]
    },
    {
     "name": "stderr",
     "output_type": "stream",
     "text": [
      "                                                                 "
     ]
    },
    {
     "name": "stdout",
     "output_type": "stream",
     "text": [
      "2025-06-27 17:21:22 | Fold 3 Ep44 |Train loss 0.0320 | Valid F1 0.8801 | best F1 0.8923 | LR 3.53e-06\n"
     ]
    },
    {
     "name": "stderr",
     "output_type": "stream",
     "text": [
      "                                                                 "
     ]
    },
    {
     "name": "stdout",
     "output_type": "stream",
     "text": [
      "2025-06-27 17:22:01 | Fold 3 Ep45 |Train loss 0.0341 | Valid F1 0.8917 | best F1 0.8923 | LR 2.47e-06\n"
     ]
    },
    {
     "name": "stderr",
     "output_type": "stream",
     "text": [
      "                                                                 "
     ]
    },
    {
     "name": "stdout",
     "output_type": "stream",
     "text": [
      "2025-06-27 17:22:39 | Fold 3 Ep46 |Train loss 0.0300 | Valid F1 0.8872 | best F1 0.8923 | LR 1.59e-06\n"
     ]
    },
    {
     "name": "stderr",
     "output_type": "stream",
     "text": [
      "                                                                 "
     ]
    },
    {
     "name": "stdout",
     "output_type": "stream",
     "text": [
      "2025-06-27 17:23:14 | Fold 3 Ep47 |Train loss 0.0270 | Valid F1 0.8820 | best F1 0.8923 | LR 8.98e-07\n",
      "2025-06-27 17:23:14 | early-stop\n",
      "2025-06-27 17:23:14 | \n",
      "=== Fold 4/5 | train 6205 | val 1551 ===\n"
     ]
    },
    {
     "name": "stderr",
     "output_type": "stream",
     "text": [
      "                                                                "
     ]
    },
    {
     "name": "stdout",
     "output_type": "stream",
     "text": [
      "2025-06-27 17:23:49 | Fold 4 Ep01 |Train loss 1.5937 | Valid F1 0.4262 | best F1 0.0000 | LR 2.52e-06\n",
      "2025-06-27 17:23:49 | saved best model of this fold\n"
     ]
    },
    {
     "name": "stderr",
     "output_type": "stream",
     "text": [
      "                                                                "
     ]
    },
    {
     "name": "stdout",
     "output_type": "stream",
     "text": [
      "2025-06-27 17:24:24 | Fold 4 Ep02 |Train loss 1.5055 | Valid F1 0.4836 | best F1 0.4262 | LR 4.08e-06\n",
      "2025-06-27 17:24:25 | saved best model of this fold\n"
     ]
    },
    {
     "name": "stderr",
     "output_type": "stream",
     "text": [
      "                                                                "
     ]
    },
    {
     "name": "stdout",
     "output_type": "stream",
     "text": [
      "2025-06-27 17:25:02 | Fold 4 Ep03 |Train loss 1.2711 | Valid F1 0.6144 | best F1 0.4836 | LR 6.59e-06\n",
      "2025-06-27 17:25:02 | saved best model of this fold\n"
     ]
    },
    {
     "name": "stderr",
     "output_type": "stream",
     "text": [
      "                                                                "
     ]
    },
    {
     "name": "stdout",
     "output_type": "stream",
     "text": [
      "2025-06-27 17:25:40 | Fold 4 Ep04 |Train loss 1.0996 | Valid F1 0.6628 | best F1 0.6144 | LR 9.95e-06\n",
      "2025-06-27 17:25:41 | saved best model of this fold\n"
     ]
    },
    {
     "name": "stderr",
     "output_type": "stream",
     "text": [
      "                                                                "
     ]
    },
    {
     "name": "stdout",
     "output_type": "stream",
     "text": [
      "2025-06-27 17:26:19 | Fold 4 Ep05 |Train loss 0.9155 | Valid F1 0.7170 | best F1 0.6628 | LR 1.40e-05\n",
      "2025-06-27 17:26:19 | saved best model of this fold\n"
     ]
    },
    {
     "name": "stderr",
     "output_type": "stream",
     "text": [
      "                                                                "
     ]
    },
    {
     "name": "stdout",
     "output_type": "stream",
     "text": [
      "2025-06-27 17:26:54 | Fold 4 Ep06 |Train loss 0.7905 | Valid F1 0.7743 | best F1 0.7170 | LR 1.86e-05\n",
      "2025-06-27 17:26:55 | saved best model of this fold\n"
     ]
    },
    {
     "name": "stderr",
     "output_type": "stream",
     "text": [
      "                                                                "
     ]
    },
    {
     "name": "stdout",
     "output_type": "stream",
     "text": [
      "2025-06-27 17:27:29 | Fold 4 Ep07 |Train loss 0.6914 | Valid F1 0.7602 | best F1 0.7743 | LR 2.35e-05\n"
     ]
    },
    {
     "name": "stderr",
     "output_type": "stream",
     "text": [
      "                                                                "
     ]
    },
    {
     "name": "stdout",
     "output_type": "stream",
     "text": [
      "2025-06-27 17:28:04 | Fold 4 Ep08 |Train loss 0.6322 | Valid F1 0.7859 | best F1 0.7743 | LR 2.85e-05\n",
      "2025-06-27 17:28:04 | saved best model of this fold\n"
     ]
    },
    {
     "name": "stderr",
     "output_type": "stream",
     "text": [
      "                                                                "
     ]
    },
    {
     "name": "stdout",
     "output_type": "stream",
     "text": [
      "2025-06-27 17:28:41 | Fold 4 Ep09 |Train loss 0.6227 | Valid F1 0.7660 | best F1 0.7859 | LR 3.34e-05\n"
     ]
    },
    {
     "name": "stderr",
     "output_type": "stream",
     "text": [
      "                                                                 "
     ]
    },
    {
     "name": "stdout",
     "output_type": "stream",
     "text": [
      "2025-06-27 17:29:20 | Fold 4 Ep10 |Train loss 0.4982 | Valid F1 0.8053 | best F1 0.7859 | LR 3.80e-05\n",
      "2025-06-27 17:29:20 | saved best model of this fold\n"
     ]
    },
    {
     "name": "stderr",
     "output_type": "stream",
     "text": [
      "                                                                 "
     ]
    },
    {
     "name": "stdout",
     "output_type": "stream",
     "text": [
      "2025-06-27 17:29:58 | Fold 4 Ep11 |Train loss 0.4721 | Valid F1 0.7937 | best F1 0.8053 | LR 4.21e-05\n"
     ]
    },
    {
     "name": "stderr",
     "output_type": "stream",
     "text": [
      "                                                                 "
     ]
    },
    {
     "name": "stdout",
     "output_type": "stream",
     "text": [
      "2025-06-27 17:30:33 | Fold 4 Ep12 |Train loss 0.4412 | Valid F1 0.8124 | best F1 0.8053 | LR 4.54e-05\n",
      "2025-06-27 17:30:34 | saved best model of this fold\n"
     ]
    },
    {
     "name": "stderr",
     "output_type": "stream",
     "text": [
      "                                                                 "
     ]
    },
    {
     "name": "stdout",
     "output_type": "stream",
     "text": [
      "2025-06-27 17:31:08 | Fold 4 Ep13 |Train loss 0.3997 | Valid F1 0.8272 | best F1 0.8124 | LR 4.79e-05\n",
      "2025-06-27 17:31:08 | saved best model of this fold\n"
     ]
    },
    {
     "name": "stderr",
     "output_type": "stream",
     "text": [
      "                                                                 "
     ]
    },
    {
     "name": "stdout",
     "output_type": "stream",
     "text": [
      "2025-06-27 17:31:42 | Fold 4 Ep14 |Train loss 0.3532 | Valid F1 0.8472 | best F1 0.8272 | LR 4.95e-05\n",
      "2025-06-27 17:31:42 | saved best model of this fold\n"
     ]
    },
    {
     "name": "stderr",
     "output_type": "stream",
     "text": [
      "                                                                 "
     ]
    },
    {
     "name": "stdout",
     "output_type": "stream",
     "text": [
      "2025-06-27 17:32:20 | Fold 4 Ep15 |Train loss 0.2999 | Valid F1 0.8485 | best F1 0.8472 | LR 5.00e-05\n",
      "2025-06-27 17:32:20 | saved best model of this fold\n"
     ]
    },
    {
     "name": "stderr",
     "output_type": "stream",
     "text": [
      "                                                                 "
     ]
    },
    {
     "name": "stdout",
     "output_type": "stream",
     "text": [
      "2025-06-27 17:32:59 | Fold 4 Ep16 |Train loss 0.2982 | Valid F1 0.8453 | best F1 0.8485 | LR 4.99e-05\n"
     ]
    },
    {
     "name": "stderr",
     "output_type": "stream",
     "text": [
      "                                                                 "
     ]
    },
    {
     "name": "stdout",
     "output_type": "stream",
     "text": [
      "2025-06-27 17:33:36 | Fold 4 Ep17 |Train loss 0.2744 | Valid F1 0.8407 | best F1 0.8485 | LR 4.96e-05\n"
     ]
    },
    {
     "name": "stderr",
     "output_type": "stream",
     "text": [
      "                                                                 "
     ]
    },
    {
     "name": "stdout",
     "output_type": "stream",
     "text": [
      "2025-06-27 17:34:11 | Fold 4 Ep18 |Train loss 0.2411 | Valid F1 0.8491 | best F1 0.8485 | LR 4.91e-05\n",
      "2025-06-27 17:34:12 | saved best model of this fold\n"
     ]
    },
    {
     "name": "stderr",
     "output_type": "stream",
     "text": [
      "                                                                 "
     ]
    },
    {
     "name": "stdout",
     "output_type": "stream",
     "text": [
      "2025-06-27 17:34:47 | Fold 4 Ep19 |Train loss 0.2379 | Valid F1 0.8201 | best F1 0.8491 | LR 4.84e-05\n"
     ]
    },
    {
     "name": "stderr",
     "output_type": "stream",
     "text": [
      "                                                                 "
     ]
    },
    {
     "name": "stdout",
     "output_type": "stream",
     "text": [
      "2025-06-27 17:35:22 | Fold 4 Ep20 |Train loss 0.2214 | Valid F1 0.8575 | best F1 0.8491 | LR 4.75e-05\n",
      "2025-06-27 17:35:22 | saved best model of this fold\n"
     ]
    },
    {
     "name": "stderr",
     "output_type": "stream",
     "text": [
      "                                                                 "
     ]
    },
    {
     "name": "stdout",
     "output_type": "stream",
     "text": [
      "2025-06-27 17:35:58 | Fold 4 Ep21 |Train loss 0.1738 | Valid F1 0.8407 | best F1 0.8575 | LR 4.65e-05\n"
     ]
    },
    {
     "name": "stderr",
     "output_type": "stream",
     "text": [
      "                                                                 "
     ]
    },
    {
     "name": "stdout",
     "output_type": "stream",
     "text": [
      "2025-06-27 17:36:37 | Fold 4 Ep22 |Train loss 0.1856 | Valid F1 0.8459 | best F1 0.8575 | LR 4.52e-05\n"
     ]
    },
    {
     "name": "stderr",
     "output_type": "stream",
     "text": [
      "                                                                 "
     ]
    },
    {
     "name": "stdout",
     "output_type": "stream",
     "text": [
      "2025-06-27 17:37:15 | Fold 4 Ep23 |Train loss 0.1562 | Valid F1 0.8337 | best F1 0.8575 | LR 4.38e-05\n"
     ]
    },
    {
     "name": "stderr",
     "output_type": "stream",
     "text": [
      "                                                                 "
     ]
    },
    {
     "name": "stdout",
     "output_type": "stream",
     "text": [
      "2025-06-27 17:37:51 | Fold 4 Ep24 |Train loss 0.1579 | Valid F1 0.8395 | best F1 0.8575 | LR 4.23e-05\n"
     ]
    },
    {
     "name": "stderr",
     "output_type": "stream",
     "text": [
      "                                                                 "
     ]
    },
    {
     "name": "stdout",
     "output_type": "stream",
     "text": [
      "2025-06-27 17:38:26 | Fold 4 Ep25 |Train loss 0.1117 | Valid F1 0.8433 | best F1 0.8575 | LR 4.06e-05\n"
     ]
    },
    {
     "name": "stderr",
     "output_type": "stream",
     "text": [
      "                                                                 "
     ]
    },
    {
     "name": "stdout",
     "output_type": "stream",
     "text": [
      "2025-06-27 17:39:02 | Fold 4 Ep26 |Train loss 0.1190 | Valid F1 0.8311 | best F1 0.8575 | LR 3.88e-05\n"
     ]
    },
    {
     "name": "stderr",
     "output_type": "stream",
     "text": [
      "                                                                 "
     ]
    },
    {
     "name": "stdout",
     "output_type": "stream",
     "text": [
      "2025-06-27 17:39:37 | Fold 4 Ep27 |Train loss 0.1115 | Valid F1 0.8466 | best F1 0.8575 | LR 3.68e-05\n"
     ]
    },
    {
     "name": "stderr",
     "output_type": "stream",
     "text": [
      "                                                                 "
     ]
    },
    {
     "name": "stdout",
     "output_type": "stream",
     "text": [
      "2025-06-27 17:40:15 | Fold 4 Ep28 |Train loss 0.1111 | Valid F1 0.8395 | best F1 0.8575 | LR 3.48e-05\n"
     ]
    },
    {
     "name": "stderr",
     "output_type": "stream",
     "text": [
      "                                                                 "
     ]
    },
    {
     "name": "stdout",
     "output_type": "stream",
     "text": [
      "2025-06-27 17:40:54 | Fold 4 Ep29 |Train loss 0.0935 | Valid F1 0.8511 | best F1 0.8575 | LR 3.27e-05\n"
     ]
    },
    {
     "name": "stderr",
     "output_type": "stream",
     "text": [
      "                                                                 "
     ]
    },
    {
     "name": "stdout",
     "output_type": "stream",
     "text": [
      "2025-06-27 17:41:30 | Fold 4 Ep30 |Train loss 0.1022 | Valid F1 0.8633 | best F1 0.8575 | LR 3.06e-05\n",
      "2025-06-27 17:41:31 | saved best model of this fold\n"
     ]
    },
    {
     "name": "stderr",
     "output_type": "stream",
     "text": [
      "                                                                 "
     ]
    },
    {
     "name": "stdout",
     "output_type": "stream",
     "text": [
      "2025-06-27 17:42:06 | Fold 4 Ep31 |Train loss 0.0795 | Valid F1 0.8466 | best F1 0.8633 | LR 2.83e-05\n"
     ]
    },
    {
     "name": "stderr",
     "output_type": "stream",
     "text": [
      "                                                                 "
     ]
    },
    {
     "name": "stdout",
     "output_type": "stream",
     "text": [
      "2025-06-27 17:42:41 | Fold 4 Ep32 |Train loss 0.0754 | Valid F1 0.8491 | best F1 0.8633 | LR 2.61e-05\n"
     ]
    },
    {
     "name": "stderr",
     "output_type": "stream",
     "text": [
      "                                                                 "
     ]
    },
    {
     "name": "stdout",
     "output_type": "stream",
     "text": [
      "2025-06-27 17:43:16 | Fold 4 Ep33 |Train loss 0.0687 | Valid F1 0.8446 | best F1 0.8633 | LR 2.39e-05\n"
     ]
    },
    {
     "name": "stderr",
     "output_type": "stream",
     "text": [
      "                                                                 "
     ]
    },
    {
     "name": "stdout",
     "output_type": "stream",
     "text": [
      "2025-06-27 17:43:54 | Fold 4 Ep34 |Train loss 0.0633 | Valid F1 0.8517 | best F1 0.8633 | LR 2.16e-05\n"
     ]
    },
    {
     "name": "stderr",
     "output_type": "stream",
     "text": [
      "                                                                 "
     ]
    },
    {
     "name": "stdout",
     "output_type": "stream",
     "text": [
      "2025-06-27 17:44:33 | Fold 4 Ep35 |Train loss 0.0456 | Valid F1 0.8562 | best F1 0.8633 | LR 1.94e-05\n"
     ]
    },
    {
     "name": "stderr",
     "output_type": "stream",
     "text": [
      "                                                                 "
     ]
    },
    {
     "name": "stdout",
     "output_type": "stream",
     "text": [
      "2025-06-27 17:45:09 | Fold 4 Ep36 |Train loss 0.0516 | Valid F1 0.8459 | best F1 0.8633 | LR 1.73e-05\n"
     ]
    },
    {
     "name": "stderr",
     "output_type": "stream",
     "text": [
      "                                                                 "
     ]
    },
    {
     "name": "stdout",
     "output_type": "stream",
     "text": [
      "2025-06-27 17:45:44 | Fold 4 Ep37 |Train loss 0.0481 | Valid F1 0.8627 | best F1 0.8633 | LR 1.52e-05\n"
     ]
    },
    {
     "name": "stderr",
     "output_type": "stream",
     "text": [
      "                                                                 "
     ]
    },
    {
     "name": "stdout",
     "output_type": "stream",
     "text": [
      "2025-06-27 17:46:19 | Fold 4 Ep38 |Train loss 0.0505 | Valid F1 0.8607 | best F1 0.8633 | LR 1.31e-05\n"
     ]
    },
    {
     "name": "stderr",
     "output_type": "stream",
     "text": [
      "                                                                 "
     ]
    },
    {
     "name": "stdout",
     "output_type": "stream",
     "text": [
      "2025-06-27 17:46:55 | Fold 4 Ep39 |Train loss 0.0551 | Valid F1 0.8646 | best F1 0.8633 | LR 1.12e-05\n",
      "2025-06-27 17:46:56 | saved best model of this fold\n"
     ]
    },
    {
     "name": "stderr",
     "output_type": "stream",
     "text": [
      "                                                                 "
     ]
    },
    {
     "name": "stdout",
     "output_type": "stream",
     "text": [
      "2025-06-27 17:47:32 | Fold 4 Ep40 |Train loss 0.0377 | Valid F1 0.8543 | best F1 0.8646 | LR 9.40e-06\n"
     ]
    },
    {
     "name": "stderr",
     "output_type": "stream",
     "text": [
      "                                                                 "
     ]
    },
    {
     "name": "stdout",
     "output_type": "stream",
     "text": [
      "2025-06-27 17:48:11 | Fold 4 Ep41 |Train loss 0.0346 | Valid F1 0.8556 | best F1 0.8646 | LR 7.72e-06\n"
     ]
    },
    {
     "name": "stderr",
     "output_type": "stream",
     "text": [
      "                                                                 "
     ]
    },
    {
     "name": "stdout",
     "output_type": "stream",
     "text": [
      "2025-06-27 17:48:47 | Fold 4 Ep42 |Train loss 0.0418 | Valid F1 0.8575 | best F1 0.8646 | LR 6.17e-06\n"
     ]
    },
    {
     "name": "stderr",
     "output_type": "stream",
     "text": [
      "                                                                 "
     ]
    },
    {
     "name": "stdout",
     "output_type": "stream",
     "text": [
      "2025-06-27 17:49:22 | Fold 4 Ep43 |Train loss 0.0386 | Valid F1 0.8652 | best F1 0.8646 | LR 4.77e-06\n",
      "2025-06-27 17:49:22 | saved best model of this fold\n"
     ]
    },
    {
     "name": "stderr",
     "output_type": "stream",
     "text": [
      "                                                                 "
     ]
    },
    {
     "name": "stdout",
     "output_type": "stream",
     "text": [
      "2025-06-27 17:49:58 | Fold 4 Ep44 |Train loss 0.0276 | Valid F1 0.8672 | best F1 0.8652 | LR 3.53e-06\n",
      "2025-06-27 17:49:58 | saved best model of this fold\n"
     ]
    },
    {
     "name": "stderr",
     "output_type": "stream",
     "text": [
      "                                                                 "
     ]
    },
    {
     "name": "stdout",
     "output_type": "stream",
     "text": [
      "2025-06-27 17:50:33 | Fold 4 Ep45 |Train loss 0.0348 | Valid F1 0.8646 | best F1 0.8672 | LR 2.47e-06\n"
     ]
    },
    {
     "name": "stderr",
     "output_type": "stream",
     "text": [
      "                                                                 "
     ]
    },
    {
     "name": "stdout",
     "output_type": "stream",
     "text": [
      "2025-06-27 17:51:10 | Fold 4 Ep46 |Train loss 0.0274 | Valid F1 0.8685 | best F1 0.8672 | LR 1.59e-06\n",
      "2025-06-27 17:51:10 | saved best model of this fold\n"
     ]
    },
    {
     "name": "stderr",
     "output_type": "stream",
     "text": [
      "                                                                 "
     ]
    },
    {
     "name": "stdout",
     "output_type": "stream",
     "text": [
      "2025-06-27 17:51:49 | Fold 4 Ep47 |Train loss 0.0252 | Valid F1 0.8665 | best F1 0.8685 | LR 8.98e-07\n"
     ]
    },
    {
     "name": "stderr",
     "output_type": "stream",
     "text": [
      "                                                                 "
     ]
    },
    {
     "name": "stdout",
     "output_type": "stream",
     "text": [
      "2025-06-27 17:52:25 | Fold 4 Ep48 |Train loss 0.0291 | Valid F1 0.8588 | best F1 0.8685 | LR 4.00e-07\n"
     ]
    },
    {
     "name": "stderr",
     "output_type": "stream",
     "text": [
      "                                                                 "
     ]
    },
    {
     "name": "stdout",
     "output_type": "stream",
     "text": [
      "2025-06-27 17:52:59 | Fold 4 Ep49 |Train loss 0.0256 | Valid F1 0.8614 | best F1 0.8685 | LR 9.98e-08\n"
     ]
    },
    {
     "name": "stderr",
     "output_type": "stream",
     "text": [
      "                                                                 "
     ]
    },
    {
     "name": "stdout",
     "output_type": "stream",
     "text": [
      "2025-06-27 17:53:33 | Fold 4 Ep50 |Train loss 0.0234 | Valid F1 0.8620 | best F1 0.8685 | LR 2.03e-10\n",
      "2025-06-27 17:53:33 | \n",
      "=== Fold 5/5 | train 6205 | val 1551 ===\n"
     ]
    },
    {
     "name": "stderr",
     "output_type": "stream",
     "text": [
      "                                                                "
     ]
    },
    {
     "name": "stdout",
     "output_type": "stream",
     "text": [
      "2025-06-27 17:54:10 | Fold 5 Ep01 |Train loss 1.5948 | Valid F1 0.3978 | best F1 0.0000 | LR 2.52e-06\n",
      "2025-06-27 17:54:10 | saved best model of this fold\n"
     ]
    },
    {
     "name": "stderr",
     "output_type": "stream",
     "text": [
      "                                                                "
     ]
    },
    {
     "name": "stdout",
     "output_type": "stream",
     "text": [
      "2025-06-27 17:54:49 | Fold 5 Ep02 |Train loss 1.5141 | Valid F1 0.4900 | best F1 0.3978 | LR 4.08e-06\n",
      "2025-06-27 17:54:49 | saved best model of this fold\n"
     ]
    },
    {
     "name": "stderr",
     "output_type": "stream",
     "text": [
      "                                                                "
     ]
    },
    {
     "name": "stdout",
     "output_type": "stream",
     "text": [
      "2025-06-27 17:55:27 | Fold 5 Ep03 |Train loss 1.2836 | Valid F1 0.6370 | best F1 0.4900 | LR 6.59e-06\n",
      "2025-06-27 17:55:28 | saved best model of this fold\n"
     ]
    },
    {
     "name": "stderr",
     "output_type": "stream",
     "text": [
      "                                                                "
     ]
    },
    {
     "name": "stdout",
     "output_type": "stream",
     "text": [
      "2025-06-27 17:56:05 | Fold 5 Ep04 |Train loss 1.0864 | Valid F1 0.6976 | best F1 0.6370 | LR 9.95e-06\n",
      "2025-06-27 17:56:05 | saved best model of this fold\n"
     ]
    },
    {
     "name": "stderr",
     "output_type": "stream",
     "text": [
      "                                                                "
     ]
    },
    {
     "name": "stdout",
     "output_type": "stream",
     "text": [
      "2025-06-27 17:56:40 | Fold 5 Ep05 |Train loss 0.9392 | Valid F1 0.7473 | best F1 0.6976 | LR 1.40e-05\n",
      "2025-06-27 17:56:40 | saved best model of this fold\n"
     ]
    },
    {
     "name": "stderr",
     "output_type": "stream",
     "text": [
      "                                                                "
     ]
    },
    {
     "name": "stdout",
     "output_type": "stream",
     "text": [
      "2025-06-27 17:57:15 | Fold 5 Ep06 |Train loss 0.7674 | Valid F1 0.7692 | best F1 0.7473 | LR 1.86e-05\n",
      "2025-06-27 17:57:15 | saved best model of this fold\n"
     ]
    },
    {
     "name": "stderr",
     "output_type": "stream",
     "text": [
      "                                                                "
     ]
    },
    {
     "name": "stdout",
     "output_type": "stream",
     "text": [
      "2025-06-27 17:57:50 | Fold 5 Ep07 |Train loss 0.7057 | Valid F1 0.7492 | best F1 0.7692 | LR 2.35e-05\n"
     ]
    },
    {
     "name": "stderr",
     "output_type": "stream",
     "text": [
      "                                                                "
     ]
    },
    {
     "name": "stdout",
     "output_type": "stream",
     "text": [
      "2025-06-27 17:58:28 | Fold 5 Ep08 |Train loss 0.6334 | Valid F1 0.8008 | best F1 0.7692 | LR 2.85e-05\n",
      "2025-06-27 17:58:29 | saved best model of this fold\n"
     ]
    },
    {
     "name": "stderr",
     "output_type": "stream",
     "text": [
      "                                                                "
     ]
    },
    {
     "name": "stdout",
     "output_type": "stream",
     "text": [
      "2025-06-27 17:59:07 | Fold 5 Ep09 |Train loss 0.5840 | Valid F1 0.7666 | best F1 0.8008 | LR 3.34e-05\n"
     ]
    },
    {
     "name": "stderr",
     "output_type": "stream",
     "text": [
      "                                                                 "
     ]
    },
    {
     "name": "stdout",
     "output_type": "stream",
     "text": [
      "2025-06-27 17:59:43 | Fold 5 Ep10 |Train loss 0.5188 | Valid F1 0.8104 | best F1 0.8008 | LR 3.80e-05\n",
      "2025-06-27 17:59:43 | saved best model of this fold\n"
     ]
    },
    {
     "name": "stderr",
     "output_type": "stream",
     "text": [
      "                                                                 "
     ]
    },
    {
     "name": "stdout",
     "output_type": "stream",
     "text": [
      "2025-06-27 18:00:19 | Fold 5 Ep11 |Train loss 0.4736 | Valid F1 0.8162 | best F1 0.8104 | LR 4.21e-05\n",
      "2025-06-27 18:00:19 | saved best model of this fold\n"
     ]
    },
    {
     "name": "stderr",
     "output_type": "stream",
     "text": [
      "                                                                 "
     ]
    },
    {
     "name": "stdout",
     "output_type": "stream",
     "text": [
      "2025-06-27 18:00:55 | Fold 5 Ep12 |Train loss 0.4190 | Valid F1 0.8104 | best F1 0.8162 | LR 4.54e-05\n"
     ]
    },
    {
     "name": "stderr",
     "output_type": "stream",
     "text": [
      "                                                                 "
     ]
    },
    {
     "name": "stdout",
     "output_type": "stream",
     "text": [
      "2025-06-27 18:01:29 | Fold 5 Ep13 |Train loss 0.3877 | Valid F1 0.8156 | best F1 0.8162 | LR 4.79e-05\n"
     ]
    },
    {
     "name": "stderr",
     "output_type": "stream",
     "text": [
      "                                                                 "
     ]
    },
    {
     "name": "stdout",
     "output_type": "stream",
     "text": [
      "2025-06-27 18:02:06 | Fold 5 Ep14 |Train loss 0.3629 | Valid F1 0.8221 | best F1 0.8162 | LR 4.95e-05\n",
      "2025-06-27 18:02:06 | saved best model of this fold\n"
     ]
    },
    {
     "name": "stderr",
     "output_type": "stream",
     "text": [
      "                                                                 "
     ]
    },
    {
     "name": "stdout",
     "output_type": "stream",
     "text": [
      "2025-06-27 18:02:44 | Fold 5 Ep15 |Train loss 0.3198 | Valid F1 0.8246 | best F1 0.8221 | LR 5.00e-05\n",
      "2025-06-27 18:02:45 | saved best model of this fold\n"
     ]
    },
    {
     "name": "stderr",
     "output_type": "stream",
     "text": [
      "                                                                 "
     ]
    },
    {
     "name": "stdout",
     "output_type": "stream",
     "text": [
      "2025-06-27 18:03:21 | Fold 5 Ep16 |Train loss 0.3104 | Valid F1 0.8246 | best F1 0.8246 | LR 4.99e-05\n"
     ]
    },
    {
     "name": "stderr",
     "output_type": "stream",
     "text": [
      "                                                                 "
     ]
    },
    {
     "name": "stdout",
     "output_type": "stream",
     "text": [
      "2025-06-27 18:03:57 | Fold 5 Ep17 |Train loss 0.2696 | Valid F1 0.8233 | best F1 0.8246 | LR 4.96e-05\n"
     ]
    },
    {
     "name": "stderr",
     "output_type": "stream",
     "text": [
      "                                                                 "
     ]
    },
    {
     "name": "stdout",
     "output_type": "stream",
     "text": [
      "2025-06-27 18:04:31 | Fold 5 Ep18 |Train loss 0.2409 | Valid F1 0.8337 | best F1 0.8246 | LR 4.91e-05\n",
      "2025-06-27 18:04:32 | saved best model of this fold\n"
     ]
    },
    {
     "name": "stderr",
     "output_type": "stream",
     "text": [
      "                                                                 "
     ]
    },
    {
     "name": "stdout",
     "output_type": "stream",
     "text": [
      "2025-06-27 18:05:07 | Fold 5 Ep19 |Train loss 0.2451 | Valid F1 0.8569 | best F1 0.8337 | LR 4.84e-05\n",
      "2025-06-27 18:05:07 | saved best model of this fold\n"
     ]
    },
    {
     "name": "stderr",
     "output_type": "stream",
     "text": [
      "                                                                 "
     ]
    },
    {
     "name": "stdout",
     "output_type": "stream",
     "text": [
      "2025-06-27 18:05:44 | Fold 5 Ep20 |Train loss 0.2060 | Valid F1 0.8382 | best F1 0.8569 | LR 4.75e-05\n"
     ]
    },
    {
     "name": "stderr",
     "output_type": "stream",
     "text": [
      "                                                                 "
     ]
    },
    {
     "name": "stdout",
     "output_type": "stream",
     "text": [
      "2025-06-27 18:06:22 | Fold 5 Ep21 |Train loss 0.1774 | Valid F1 0.8272 | best F1 0.8569 | LR 4.65e-05\n"
     ]
    },
    {
     "name": "stderr",
     "output_type": "stream",
     "text": [
      "                                                                 "
     ]
    },
    {
     "name": "stdout",
     "output_type": "stream",
     "text": [
      "2025-06-27 18:06:59 | Fold 5 Ep22 |Train loss 0.1971 | Valid F1 0.8298 | best F1 0.8569 | LR 4.52e-05\n"
     ]
    },
    {
     "name": "stderr",
     "output_type": "stream",
     "text": [
      "                                                                 "
     ]
    },
    {
     "name": "stdout",
     "output_type": "stream",
     "text": [
      "2025-06-27 18:07:35 | Fold 5 Ep23 |Train loss 0.1691 | Valid F1 0.8266 | best F1 0.8569 | LR 4.38e-05\n"
     ]
    },
    {
     "name": "stderr",
     "output_type": "stream",
     "text": [
      "                                                                 "
     ]
    },
    {
     "name": "stdout",
     "output_type": "stream",
     "text": [
      "2025-06-27 18:08:10 | Fold 5 Ep24 |Train loss 0.1575 | Valid F1 0.8317 | best F1 0.8569 | LR 4.23e-05\n"
     ]
    },
    {
     "name": "stderr",
     "output_type": "stream",
     "text": [
      "                                                                 "
     ]
    },
    {
     "name": "stdout",
     "output_type": "stream",
     "text": [
      "2025-06-27 18:08:46 | Fold 5 Ep25 |Train loss 0.1385 | Valid F1 0.8504 | best F1 0.8569 | LR 4.06e-05\n"
     ]
    },
    {
     "name": "stderr",
     "output_type": "stream",
     "text": [
      "                                                                 "
     ]
    },
    {
     "name": "stdout",
     "output_type": "stream",
     "text": [
      "2025-06-27 18:09:22 | Fold 5 Ep26 |Train loss 0.1216 | Valid F1 0.8485 | best F1 0.8569 | LR 3.88e-05\n"
     ]
    },
    {
     "name": "stderr",
     "output_type": "stream",
     "text": [
      "                                                                 "
     ]
    },
    {
     "name": "stdout",
     "output_type": "stream",
     "text": [
      "2025-06-27 18:10:02 | Fold 5 Ep27 |Train loss 0.1134 | Valid F1 0.8407 | best F1 0.8569 | LR 3.68e-05\n"
     ]
    },
    {
     "name": "stderr",
     "output_type": "stream",
     "text": [
      "                                                                 "
     ]
    },
    {
     "name": "stdout",
     "output_type": "stream",
     "text": [
      "2025-06-27 18:10:40 | Fold 5 Ep28 |Train loss 0.1148 | Valid F1 0.8253 | best F1 0.8569 | LR 3.48e-05\n"
     ]
    },
    {
     "name": "stderr",
     "output_type": "stream",
     "text": [
      "                                                                 "
     ]
    },
    {
     "name": "stdout",
     "output_type": "stream",
     "text": [
      "2025-06-27 18:11:16 | Fold 5 Ep29 |Train loss 0.1331 | Valid F1 0.8575 | best F1 0.8569 | LR 3.27e-05\n",
      "2025-06-27 18:11:16 | saved best model of this fold\n"
     ]
    },
    {
     "name": "stderr",
     "output_type": "stream",
     "text": [
      "                                                                 "
     ]
    },
    {
     "name": "stdout",
     "output_type": "stream",
     "text": [
      "2025-06-27 18:11:51 | Fold 5 Ep30 |Train loss 0.0870 | Valid F1 0.8524 | best F1 0.8575 | LR 3.06e-05\n"
     ]
    },
    {
     "name": "stderr",
     "output_type": "stream",
     "text": [
      "                                                                 "
     ]
    },
    {
     "name": "stdout",
     "output_type": "stream",
     "text": [
      "2025-06-27 18:12:26 | Fold 5 Ep31 |Train loss 0.0984 | Valid F1 0.8453 | best F1 0.8575 | LR 2.83e-05\n"
     ]
    },
    {
     "name": "stderr",
     "output_type": "stream",
     "text": [
      "                                                                 "
     ]
    },
    {
     "name": "stdout",
     "output_type": "stream",
     "text": [
      "2025-06-27 18:13:01 | Fold 5 Ep32 |Train loss 0.0766 | Valid F1 0.8652 | best F1 0.8575 | LR 2.61e-05\n",
      "2025-06-27 18:13:01 | saved best model of this fold\n"
     ]
    },
    {
     "name": "stderr",
     "output_type": "stream",
     "text": [
      "                                                                 "
     ]
    },
    {
     "name": "stdout",
     "output_type": "stream",
     "text": [
      "2025-06-27 18:13:39 | Fold 5 Ep33 |Train loss 0.0751 | Valid F1 0.8504 | best F1 0.8652 | LR 2.39e-05\n"
     ]
    },
    {
     "name": "stderr",
     "output_type": "stream",
     "text": [
      "                                                                 "
     ]
    },
    {
     "name": "stdout",
     "output_type": "stream",
     "text": [
      "2025-06-27 18:14:18 | Fold 5 Ep34 |Train loss 0.0838 | Valid F1 0.8614 | best F1 0.8652 | LR 2.16e-05\n"
     ]
    },
    {
     "name": "stderr",
     "output_type": "stream",
     "text": [
      "                                                                 "
     ]
    },
    {
     "name": "stdout",
     "output_type": "stream",
     "text": [
      "2025-06-27 18:14:54 | Fold 5 Ep35 |Train loss 0.0659 | Valid F1 0.8588 | best F1 0.8652 | LR 1.94e-05\n"
     ]
    },
    {
     "name": "stderr",
     "output_type": "stream",
     "text": [
      "                                                                 "
     ]
    },
    {
     "name": "stdout",
     "output_type": "stream",
     "text": [
      "2025-06-27 18:15:28 | Fold 5 Ep36 |Train loss 0.0668 | Valid F1 0.8459 | best F1 0.8652 | LR 1.73e-05\n"
     ]
    },
    {
     "name": "stderr",
     "output_type": "stream",
     "text": [
      "                                                                 "
     ]
    },
    {
     "name": "stdout",
     "output_type": "stream",
     "text": [
      "2025-06-27 18:16:02 | Fold 5 Ep37 |Train loss 0.0504 | Valid F1 0.8646 | best F1 0.8652 | LR 1.52e-05\n"
     ]
    },
    {
     "name": "stderr",
     "output_type": "stream",
     "text": [
      "                                                                 "
     ]
    },
    {
     "name": "stdout",
     "output_type": "stream",
     "text": [
      "2025-06-27 18:16:39 | Fold 5 Ep38 |Train loss 0.0336 | Valid F1 0.8607 | best F1 0.8652 | LR 1.31e-05\n"
     ]
    },
    {
     "name": "stderr",
     "output_type": "stream",
     "text": [
      "                                                                 "
     ]
    },
    {
     "name": "stdout",
     "output_type": "stream",
     "text": [
      "2025-06-27 18:17:18 | Fold 5 Ep39 |Train loss 0.0410 | Valid F1 0.8659 | best F1 0.8652 | LR 1.12e-05\n",
      "2025-06-27 18:17:18 | saved best model of this fold\n"
     ]
    },
    {
     "name": "stderr",
     "output_type": "stream",
     "text": [
      "                                                                 "
     ]
    },
    {
     "name": "stdout",
     "output_type": "stream",
     "text": [
      "2025-06-27 18:17:56 | Fold 5 Ep40 |Train loss 0.0443 | Valid F1 0.8665 | best F1 0.8659 | LR 9.40e-06\n",
      "2025-06-27 18:17:57 | saved best model of this fold\n"
     ]
    },
    {
     "name": "stderr",
     "output_type": "stream",
     "text": [
      "                                                                 "
     ]
    },
    {
     "name": "stdout",
     "output_type": "stream",
     "text": [
      "2025-06-27 18:18:33 | Fold 5 Ep41 |Train loss 0.0402 | Valid F1 0.8614 | best F1 0.8665 | LR 7.72e-06\n"
     ]
    },
    {
     "name": "stderr",
     "output_type": "stream",
     "text": [
      "                                                                 "
     ]
    },
    {
     "name": "stdout",
     "output_type": "stream",
     "text": [
      "2025-06-27 18:19:09 | Fold 5 Ep42 |Train loss 0.0287 | Valid F1 0.8749 | best F1 0.8665 | LR 6.17e-06\n",
      "2025-06-27 18:19:09 | saved best model of this fold\n"
     ]
    },
    {
     "name": "stderr",
     "output_type": "stream",
     "text": [
      "                                                                 "
     ]
    },
    {
     "name": "stdout",
     "output_type": "stream",
     "text": [
      "2025-06-27 18:19:44 | Fold 5 Ep43 |Train loss 0.0366 | Valid F1 0.8607 | best F1 0.8749 | LR 4.77e-06\n"
     ]
    },
    {
     "name": "stderr",
     "output_type": "stream",
     "text": [
      "                                                                 "
     ]
    },
    {
     "name": "stdout",
     "output_type": "stream",
     "text": [
      "2025-06-27 18:20:19 | Fold 5 Ep44 |Train loss 0.0356 | Valid F1 0.8614 | best F1 0.8749 | LR 3.53e-06\n"
     ]
    },
    {
     "name": "stderr",
     "output_type": "stream",
     "text": [
      "                                                                 "
     ]
    },
    {
     "name": "stdout",
     "output_type": "stream",
     "text": [
      "2025-06-27 18:20:57 | Fold 5 Ep45 |Train loss 0.0377 | Valid F1 0.8691 | best F1 0.8749 | LR 2.47e-06\n"
     ]
    },
    {
     "name": "stderr",
     "output_type": "stream",
     "text": [
      "                                                                 "
     ]
    },
    {
     "name": "stdout",
     "output_type": "stream",
     "text": [
      "2025-06-27 18:21:35 | Fold 5 Ep46 |Train loss 0.0272 | Valid F1 0.8691 | best F1 0.8749 | LR 1.59e-06\n"
     ]
    },
    {
     "name": "stderr",
     "output_type": "stream",
     "text": [
      "                                                                 "
     ]
    },
    {
     "name": "stdout",
     "output_type": "stream",
     "text": [
      "2025-06-27 18:22:12 | Fold 5 Ep47 |Train loss 0.0374 | Valid F1 0.8594 | best F1 0.8749 | LR 8.98e-07\n"
     ]
    },
    {
     "name": "stderr",
     "output_type": "stream",
     "text": [
      "                                                                 "
     ]
    },
    {
     "name": "stdout",
     "output_type": "stream",
     "text": [
      "2025-06-27 18:22:47 | Fold 5 Ep48 |Train loss 0.0251 | Valid F1 0.8691 | best F1 0.8749 | LR 4.00e-07\n"
     ]
    },
    {
     "name": "stderr",
     "output_type": "stream",
     "text": [
      "                                                                 "
     ]
    },
    {
     "name": "stdout",
     "output_type": "stream",
     "text": [
      "2025-06-27 18:23:21 | Fold 5 Ep49 |Train loss 0.0385 | Valid F1 0.8691 | best F1 0.8749 | LR 9.98e-08\n"
     ]
    },
    {
     "name": "stderr",
     "output_type": "stream",
     "text": [
      "                                                                 "
     ]
    },
    {
     "name": "stdout",
     "output_type": "stream",
     "text": [
      "2025-06-27 18:23:56 | Fold 5 Ep50 |Train loss 0.0285 | Valid F1 0.8672 | best F1 0.8749 | LR 2.03e-10\n",
      "2025-06-27 18:23:56 | \n",
      " Five-fold overall OOF F1 = 0.8653\n"
     ]
    }
   ],
   "source": [
    "import os, datetime, random, torch, torch.nn.functional as F\n",
    "from torch.utils.data import DataLoader, Subset\n",
    "from sklearn.model_selection import StratifiedKFold\n",
    "from sklearn.metrics import f1_score\n",
    "from tqdm import tqdm\n",
    "import numpy as np\n",
    "\n",
    "train_mode = 'fivefold'\n",
    "if train_mode == 'fivefold':  # 'fivefold' \n",
    "    # ========== 日志 ==========\n",
    "    log_path = \"train_log.txt\"\n",
    "    def log(msg):\n",
    "        ts = datetime.datetime.now().strftime(\"%Y-%m-%d %H:%M:%S\")\n",
    "        line = f\"{ts} | {msg}\"\n",
    "        print(line)\n",
    "        with open(log_path, \"a\") as f:\n",
    "            f.write(line + \"\\n\")\n",
    "    \n",
    "    # ========== 数据 ==========\n",
    "    root      = \"datasets/67fc7ccbb88b01da6626732d-momodel/train/\"\n",
    "    full_ds   = WavDataset(root)\n",
    "    indices   = np.arange(len(full_ds))\n",
    "    labels    = np.array(full_ds.lbl)\n",
    "    \n",
    "    batch_sz  = 32\n",
    "    device    = \"cuda\" if torch.cuda.is_available() else \"cpu\"\n",
    "    n_folds   = 5\n",
    "    max_epochs= 50\n",
    "    patience  = 10\n",
    "    \n",
    "    # OOF 容器\n",
    "    oof_pred  = np.zeros(len(full_ds), dtype=int)\n",
    "    oof_label = labels.copy()\n",
    "    \n",
    "    skf = StratifiedKFold(n_splits=n_folds, shuffle=True, random_state=42)\n",
    "    \n",
    "    log(f\"===== 5-Fold Training start — total samples {len(full_ds)} =====\")\n",
    "    \n",
    "    for fold, (tr_idx, va_idx) in enumerate(skf.split(indices, labels), 1):\n",
    "        log(f\"\\n=== Fold {fold}/{n_folds} | train {len(tr_idx)} | val {len(va_idx)} ===\")\n",
    "    \n",
    "        tr_ds, va_ds = Subset(full_ds, tr_idx), Subset(full_ds, va_idx)\n",
    "        train_loader = DataLoader(tr_ds, batch_sz, True,  num_workers=4,\n",
    "                              collate_fn=collate_hf, drop_last=True)\n",
    "        val_loader   = DataLoader(va_ds, batch_sz, False, num_workers=4,\n",
    "                                  collate_fn=collate_hf)\n",
    "    \n",
    "        model  = HF_HuBERT_SER(num_cls=5, freeze_feat=True).to(device)\n",
    "        optim  = torch.optim.AdamW(filter(lambda p: p.requires_grad, model.parameters()),\n",
    "                                   lr=3e-5, weight_decay=1e-4)\n",
    "    \n",
    "        steps_per_epoch = len(train_loader)\n",
    "        sched  = torch.optim.lr_scheduler.OneCycleLR(\n",
    "            optim,\n",
    "            max_lr=5e-5,                 # 峰值 LR\n",
    "            epochs=max_epochs,\n",
    "            steps_per_epoch=steps_per_epoch,\n",
    "            pct_start=0.30,\n",
    "            div_factor=25,\n",
    "            final_div_factor=1e4,\n",
    "            anneal_strategy='cos'\n",
    "        )\n",
    "        scaler = torch.amp.GradScaler()\n",
    "    \n",
    "        best_f1, wait = 0.0, 0\n",
    "        for epoch in range(1, max_epochs + 1):\n",
    "            # -------- Train --------\n",
    "            model.train(); total_loss = 0\n",
    "            for wav, attn, y in tqdm(train_loader,\n",
    "                                     desc=f\"F{fold} E{epoch} [Train]\", leave=False):\n",
    "                wav, attn, y = wav.to(device), attn.to(device), y.to(device)\n",
    "                optim.zero_grad(set_to_none=True)\n",
    "                with torch.amp.autocast(device_type=device):\n",
    "                    loss = F.cross_entropy(model(wav, attn), y)\n",
    "                scaler.scale(loss).backward()\n",
    "                scaler.step(optim); scaler.update()\n",
    "    \n",
    "                sched.step()                     # ← 每个 batch 更新 LR\n",
    "                total_loss += loss.item()\n",
    "    \n",
    "            avg_loss = total_loss / len(train_loader)\n",
    "    \n",
    "            # -------- Eval --------\n",
    "            model.eval(); va_pred = []\n",
    "            with torch.no_grad(), torch.amp.autocast(device_type=device):\n",
    "                for wav, attn, y in val_loader:\n",
    "                    logits = model(wav.to(device), attn.to(device))\n",
    "                    va_pred += logits.argmax(1).cpu().tolist()\n",
    "            f1 = f1_score(labels[va_idx], va_pred, average=\"micro\")\n",
    "            log(f\"Fold {fold} Ep{epoch:02d} |Train loss {avg_loss:.4f} \"\n",
    "                f\"| Valid F1 {f1:.4f} | best F1 {best_f1:.4f} \"\n",
    "                f\"| LR {sched.get_last_lr()[0]:.2e}\")\n",
    "    \n",
    "            # -------- Early-stop & Save --------\n",
    "            if f1 > best_f1:\n",
    "                best_f1, wait = f1, 0\n",
    "                torch.save(model.state_dict(), f\"hubert_fold{fold}.pt\")\n",
    "                log(\"saved best model of this fold\")\n",
    "            else:\n",
    "                wait += 1\n",
    "            if wait >= patience:\n",
    "                log(\"early-stop\")\n",
    "                break\n",
    "    \n",
    "        # 填 OOF\n",
    "        oof_pred[va_idx] = va_pred\n",
    "    \n",
    "    # ===== 计算整体 OOF F1 =====\n",
    "    oof_f1 = f1_score(oof_label, oof_pred, average=\"micro\")\n",
    "    log(f\"\\n Five-fold overall OOF F1 = {oof_f1:.4f}\")"
   ]
  },
  {
   "cell_type": "markdown",
   "id": "52b9351e",
   "metadata": {},
   "source": [
    "## 7. 评分"
   ]
  },
  {
   "cell_type": "code",
   "execution_count": null,
   "id": "195a70e3-ac34-4d08-8605-b54e46ddccd9",
   "metadata": {},
   "outputs": [],
   "source": [
    "import torch, torchaudio, torch.nn.functional as F, random\n",
    "from torch.utils.data import Dataset, DataLoader\n",
    "from transformers import Wav2Vec2FeatureExtractor\n",
    "\n",
    "label_names = ['anger', 'fear', 'happy', 'neutral', 'sad']\n",
    "PRETRAINED_DIR = \"./wav2vec2-base\"\n",
    "feature_extractor = Wav2Vec2FeatureExtractor.from_pretrained(PRETRAINED_DIR)\n",
    "device = torch.device(\"cuda\" if torch.cuda.is_available() else \"cpu\")\n",
    "\n",
    "# ---------- 模型结构 ----------\n",
    "class HF_Wav2Vec2SER(torch.nn.Module):\n",
    "    def __init__(self, num_cls=5, freeze_feat=True, pool=\"mean\"):\n",
    "        super().__init__()\n",
    "        from transformers import Wav2Vec2Model\n",
    "        self.encoder = Wav2Vec2Model.from_pretrained(PRETRAINED_DIR)\n",
    "        if freeze_feat:\n",
    "            self.encoder.feature_extractor.requires_grad_(False)\n",
    "        hid = self.encoder.config.hidden_size\n",
    "        self.pool = (lambda h: h.mean(1)) if pool == \"mean\" else (lambda h: h[:, 0])\n",
    "        self.classifier = torch.nn.Sequential(\n",
    "            torch.nn.Linear(hid, 128),\n",
    "            torch.nn.ReLU(),\n",
    "            torch.nn.Dropout(0.3),\n",
    "            torch.nn.Linear(128, num_cls)\n",
    "        )\n",
    "\n",
    "    def forward(self, wav, attn_mask):\n",
    "        h = self.encoder(wav, attention_mask=attn_mask, return_dict=True\n",
    "                        ).last_hidden_state         # [B,T,C]\n",
    "        x = self.pool(h)                             # [B,C]\n",
    "        return self.classifier(x)                    # [B,num_cls]\n",
    "\n",
    "# ---------- 加载5折模型 ----------\n",
    "models = []\n",
    "for i in tqdm(range(1, 6)):\n",
    "    model = HF_Wav2Vec2SER(num_cls=len(label_names)).to(device)\n",
    "    model.load_state_dict(torch.load(f\"model_fold{i}.pt\", map_location=device), strict=True)\n",
    "    model.eval()\n",
    "    models.append(model)\n",
    "\n",
    "# ---------- 推理用 Dataset ----------\n",
    "class InferenceDataset(Dataset):\n",
    "    def __init__(self, waves, srs, sr_t=44_100, max_sec=3, training=False):\n",
    "        assert len(waves) == len(srs)\n",
    "        self.waves, self.srs = waves, srs\n",
    "        self.sr_t, self.max_len = sr_t, max_sec * sr_t\n",
    "        self.training = training\n",
    "        \n",
    "    def __len__(self): return len(self.waves)\n",
    "\n",
    "    def __getitem__(self, idx):\n",
    "        w, sr = self.waves[idx], self.srs[idx]\n",
    "        if sr != self.sr_t:\n",
    "            w = torchaudio.functional.resample(w, sr, self.sr_t)\n",
    "        if w.dim() == 2 and w.size(0) > 1:\n",
    "            w = w.mean(0)\n",
    "        L = w.numel()\n",
    "        if L > self.max_len:\n",
    "            s = random.randint(0, L - self.max_len) if self.training else 0\n",
    "            w = w[s: s + self.max_len]\n",
    "        else:\n",
    "            w = F.pad(w, (0, self.max_len - L))\n",
    "        return w\n",
    "\n",
    "def collate_fn(batch):\n",
    "    inputs = feature_extractor(\n",
    "        [w.numpy() for w in batch],\n",
    "        sampling_rate=16_000,\n",
    "        padding=True,\n",
    "        return_tensors=\"pt\",\n",
    "        return_attention_mask=True\n",
    "    )\n",
    "    return inputs.input_values, inputs.attention_mask\n",
    "\n",
    "# ---------- 集成推理函数 ----------\n",
    "@torch.no_grad()\n",
    "def predict(audio: torch.Tensor, sr: int) -> str:\n",
    "    if audio.dim() == 2 and audio.size(0) == 1:\n",
    "        audio = audio.squeeze(0)\n",
    "\n",
    "    ds     = InferenceDataset([audio], [sr])\n",
    "    loader = DataLoader(ds, batch_size=1, collate_fn=collate_fn)\n",
    "    wav, attn = next(iter(loader))\n",
    "    wav, attn = wav.to(device), attn.to(device)\n",
    "\n",
    "    logits_sum = torch.zeros((1, len(label_names)), device=device)\n",
    "    for model in models:\n",
    "        logits_sum += model(wav, attn)\n",
    "\n",
    "    pred_idx = logits_sum.argmax(1).item()\n",
    "    return label_names[pred_idx]"
   ]
  },
  {
   "cell_type": "code",
   "execution_count": null,
   "id": "68026a79-6624-4057-a1ab-baf6d481a18f",
   "metadata": {},
   "outputs": [],
   "source": [
    "# ---------- 测试 ----------\n",
    "wav, sr = torchaudio.load('./datasets/67fc7ccbb88b01da6626732d-momodel/train/happy/22.wav')\n",
    "print(\"Pred emotion:\", predict(wav, sr))"
   ]
  }
 ],
 "metadata": {
  "kernelspec": {
   "display_name": "Python 3 (ipykernel)",
   "language": "python",
   "name": "python3"
  },
  "language_info": {
   "codemirror_mode": {
    "name": "ipython",
    "version": 3
   },
   "file_extension": ".py",
   "mimetype": "text/x-python",
   "name": "python",
   "nbconvert_exporter": "python",
   "pygments_lexer": "ipython3",
   "version": "3.12.3"
  }
 },
 "nbformat": 4,
 "nbformat_minor": 5
}
