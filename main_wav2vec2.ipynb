{
 "cells": [
  {
   "cell_type": "markdown",
   "id": "a3631346",
   "metadata": {},
   "source": [
    "# 睿抗 2025 智海人工智能算法应用赛\n",
    "**语音情绪识别**：使用wav2vec2 预训练模型 + 分类头\n",
    "- 核心思想：\n",
    "- 使用预训练模型作为特征提取器，效果显著优于手工提取\n",
    "- 单模线上 0.87 3折 0.89 5折推理超时，但应该大于0.9 推理没做太多优化\n",
    "  "
   ]
  },
  {
   "cell_type": "code",
   "execution_count": 1,
   "id": "e03964b2",
   "metadata": {},
   "outputs": [],
   "source": [
    "import torch\n",
    "import random\n",
    "import numpy as np"
   ]
  },
  {
   "cell_type": "code",
   "execution_count": 2,
   "id": "82847ded",
   "metadata": {},
   "outputs": [],
   "source": [
    "def set_seed(seed=42):\n",
    "    random.seed(seed)  # Python 内置随机数\n",
    "    np.random.seed(seed)  # NumPy 随机数\n",
    "    torch.manual_seed(seed)  # CPU 上的随机数\n",
    "    torch.cuda.manual_seed(seed)  # GPU 上的随机数\n",
    "    torch.cuda.manual_seed_all(seed)  # 多 GPU 情况下的随机数\n",
    "    torch.backends.cudnn.deterministic = True  # 确保每次卷积结果一致\n",
    "    torch.backends.cudnn.benchmark = False     # 禁用自动优化\n",
    "\n",
    "set_seed()"
   ]
  },
  {
   "cell_type": "code",
   "execution_count": 3,
   "id": "31643d69",
   "metadata": {},
   "outputs": [],
   "source": [
    "import torchaudio.transforms as T\n",
    "import torchaudio"
   ]
  },
  {
   "cell_type": "code",
   "execution_count": null,
   "id": "ddafa68f",
   "metadata": {},
   "outputs": [],
   "source": [
    "import os, glob, random, torch, torchaudio\n",
    "import torch.nn.functional as F\n",
    "from torch.utils.data import Dataset\n",
    "from torch_audiomentations import Compose, AddColoredNoise, PitchShift, Gain\n",
    "\n",
    "class WavDataset(Dataset):\n",
    "    \"\"\"\n",
    "    数据读取\n",
    "    数据增强\n",
    "    数据预处理\n",
    "    \"\"\"\n",
    "    def __init__(\n",
    "        self,\n",
    "        root: str,\n",
    "        sr_t: int = 16_000,\n",
    "        max_sec: int = 3,\n",
    "        training: bool = True,\n",
    "        aug_prob: float = 0.4,        # 整体执行增强的概率\n",
    "    ):\n",
    "        self.wavs, self.lbl = [], []\n",
    "        for idx, emo in enumerate(sorted(os.listdir(root))):\n",
    "            for f in glob.glob(f\"{root}/{emo}/*.wav\"):\n",
    "                self.wavs.append(f)\n",
    "                self.lbl.append(idx)\n",
    "\n",
    "        # 基本配置\n",
    "        self.sr_t = sr_t\n",
    "        self.max_len = max_sec * sr_t\n",
    "        self.training = training\n",
    "        self.aug_prob = aug_prob\n",
    "\n",
    "        # -------- 数据增强管道，仅训练用 --------\n",
    "        if self.training:\n",
    "            self.augment = Compose(\n",
    "                transforms=[\n",
    "                    PitchShift(\n",
    "                        min_transpose_semitones=-1,\n",
    "                        max_transpose_semitones=1,\n",
    "                        sample_rate=self.sr_t,       # ← 必填\n",
    "                        output_type=\"tensor\",        # ← 推荐手动写死\n",
    "                        p=0.5,\n",
    "                    ),\n",
    "                    Gain(\n",
    "                        min_gain_in_db=-3,\n",
    "                        max_gain_in_db=3,\n",
    "                        sample_rate=self.sr_t,\n",
    "                        output_type=\"tensor\",\n",
    "                        p=0.5,\n",
    "                    ),\n",
    "                ],\n",
    "                shuffle=True,\n",
    "                p=self.aug_prob,\n",
    "                output_type=\"tensor\",               # 给 Compose 也加一份，防未来破坏性变更\n",
    "            )\n",
    "        else:\n",
    "            self.augment = None\n",
    "\n",
    "    def __len__(self):\n",
    "        return len(self.wavs)\n",
    "\n",
    "    def __getitem__(self, idx):\n",
    "        wav, sr = torchaudio.load(self.wavs[idx])        # [1, L]\n",
    "        if sr != self.sr_t:\n",
    "            wav = torchaudio.functional.resample(wav, sr, self.sr_t)\n",
    "\n",
    "        wav = wav.mean(0)                                # → [L]\n",
    "        L = wav.numel()\n",
    "\n",
    "        # --- 随机截取 / 填充 ---\n",
    "        if L > self.max_len:\n",
    "            start = random.randint(0, L - self.max_len) if self.training else 0\n",
    "            wav = wav[start : start + self.max_len]\n",
    "        else:\n",
    "            wav = F.pad(wav, (0, self.max_len - L))\n",
    "\n",
    "        # --- 数据增强 ---\n",
    "        if self.augment is not None:\n",
    "            # torch-audiomentations 期望形状 [B, 1, T]\n",
    "            wav = self.augment(wav.unsqueeze(0).unsqueeze(0)).squeeze()\n",
    "\n",
    "        return wav, self.lbl[idx]"
   ]
  },
  {
   "cell_type": "markdown",
   "id": "08360774-7616-4a47-8f0c-6568fe5ecc60",
   "metadata": {},
   "source": [
    "## 模型构建\n",
    "\n",
    "这里的分类头加了一个自注意力池化，其实就是加了两个线性层"
   ]
  },
  {
   "cell_type": "code",
   "execution_count": 5,
   "id": "0b2f1996-6aee-4c7b-9bae-4c7b17f166fd",
   "metadata": {},
   "outputs": [],
   "source": [
    "import torch, torch.nn as nn\n",
    "from transformers import Wav2Vec2Model, Wav2Vec2FeatureExtractor\n",
    "\n",
    "PRETRAINED = \"./wav2vec2-base\"          # 可换成中文/多语权重\n",
    "feature_extractor = Wav2Vec2FeatureExtractor.from_pretrained(PRETRAINED)\n",
    "\n",
    "class AttentivePool(nn.Module):\n",
    "    \"\"\"自注意力池化：权重 = softmax(Linear(tanh(Linear)))\"\"\"\n",
    "    def __init__(self, hidden):\n",
    "        super().__init__()\n",
    "        self.linear1 = nn.Linear(hidden, hidden // 2)\n",
    "        self.linear2 = nn.Linear(hidden // 2, 1)\n",
    "\n",
    "    def forward(self, h):            # h: [B, T, C]\n",
    "        a = torch.tanh(self.linear1(h))\n",
    "        a = self.linear2(a).squeeze(-1)          # [B, T]\n",
    "        a = torch.softmax(a, dim=1).unsqueeze(-1)\n",
    "        return (h * a).sum(1)                    # [B, C]\n",
    "\n",
    "class HF_Wav2Vec2SER(nn.Module):\n",
    "    def __init__(self, num_cls=5, freeze_feat=True, pool=\"attn\"):\n",
    "        super().__init__()\n",
    "        self.encoder = Wav2Vec2Model.from_pretrained(PRETRAINED)\n",
    "        if freeze_feat:\n",
    "            self.encoder.feature_extractor.requires_grad_(False)\n",
    "\n",
    "        hid = self.encoder.config.hidden_size           # 768\n",
    "\n",
    "        # ------- 池化层选择 -------\n",
    "        if pool == \"mean\":\n",
    "            self.pool = lambda h: h.mean(1)\n",
    "        elif pool == \"stat\":\n",
    "            self.pool = lambda h: torch.cat([h.mean(1), h.std(1)], dim=-1)\n",
    "            hid *= 2                                     # 因为拼接 mean+std\n",
    "        else:  # \"attn\"\n",
    "            self.pool = AttentivePool(hid)\n",
    "\n",
    "        # ------- 分类头 -------\n",
    "        self.classifier = nn.Sequential(\n",
    "            nn.LayerNorm(hid),\n",
    "            nn.Linear(hid, 256),\n",
    "            nn.GELU(),\n",
    "            nn.Dropout(0.3),\n",
    "            nn.Linear(256, num_cls)\n",
    "        )\n",
    "\n",
    "    def forward(self, wav, attn_mask):\n",
    "        h = self.encoder(wav, attention_mask=attn_mask,\n",
    "                         return_dict=True).last_hidden_state   # [B,T,C]\n",
    "        x = self.pool(h)\n",
    "        return self.classifier(x)"
   ]
  },
  {
   "cell_type": "code",
   "execution_count": 6,
   "id": "d5c46163-c771-4e33-b889-dc61e77b7f8f",
   "metadata": {},
   "outputs": [],
   "source": [
    "def collate_hf(batch):\n",
    "    wavs, labels = zip(*batch)          # wavs: List[Tensor(L)]\n",
    "    inputs = feature_extractor(\n",
    "        [w.numpy() for w in wavs],\n",
    "        sampling_rate=16_000,\n",
    "        padding=True,\n",
    "        return_tensors=\"pt\",\n",
    "        return_attention_mask=True        # 显式要求生成 mask\n",
    "    )\n",
    "    return inputs.input_values, inputs.attention_mask, torch.tensor(labels)"
   ]
  },
  {
   "cell_type": "markdown",
   "id": "45af28e8-1509-481b-b59f-3ec4cb7bb08d",
   "metadata": {},
   "source": [
    "## 数据处理"
   ]
  },
  {
   "cell_type": "code",
   "execution_count": 7,
   "id": "12281583-a235-4db9-82e5-0326cb944c57",
   "metadata": {},
   "outputs": [],
   "source": [
    "import torch\n",
    "import torch.nn as nn\n",
    "import torch.optim as optim\n",
    "from torch.utils.data import DataLoader\n",
    "from sklearn.metrics import f1_score, accuracy_score\n",
    "import numpy as np\n",
    "from tqdm import tqdm\n",
    "from torch.utils.data import DataLoader\n",
    "from sklearn.model_selection import train_test_split\n",
    "from torch.utils.data import Subset, DataLoader\n",
    "import torch.nn.functional as F\n",
    "\n",
    "data_path = 'datasets/67fc7ccbb88b01da6626732d-momodel/train/'\n",
    "dataset = WavDataset(data_path)\n",
    "\n",
    "all_indices = list(range(len(dataset)))\n",
    "all_labels = dataset.lbl\n",
    "\n",
    "train_idx, val_idx = train_test_split(\n",
    "    all_indices,\n",
    "    test_size=0.2,\n",
    "    stratify=all_labels,\n",
    "    shuffle=True,\n",
    "    random_state=42\n",
    ")\n",
    "\n",
    "train_set = Subset(dataset, train_idx)\n",
    "val_set   = Subset(dataset, val_idx)\n",
    "\n",
    "train_loader = DataLoader(train_set, batch_size=32, shuffle=True, drop_last=True, collate_fn=collate_hf)\n",
    "val_loader   = DataLoader(val_set,   batch_size=32, shuffle=False, collate_fn=collate_hf)"
   ]
  },
  {
   "cell_type": "markdown",
   "id": "21178b00-d5c1-4401-be86-614e60c1101e",
   "metadata": {},
   "source": [
    "## 模型训练\n",
    "这里给出三种训练方式，综合自己的算力资源，时间来判断，通常先使用hold-out验证代码（结构、超参数等等），没问题了再运行全量或者五折"
   ]
  },
  {
   "cell_type": "code",
   "execution_count": 8,
   "id": "62f46148-48f4-4e59-aadb-d614b3c398e2",
   "metadata": {},
   "outputs": [],
   "source": [
    "train_mode = 'fivefold' # 'holdout' # 'full' 'fivefold'"
   ]
  },
  {
   "cell_type": "markdown",
   "id": "203060f5-100d-4a6d-8995-9631ade00688",
   "metadata": {},
   "source": [
    "### hold-out "
   ]
  },
  {
   "cell_type": "code",
   "execution_count": 9,
   "id": "343eb694-e9f3-4358-9152-94f7ee04cf07",
   "metadata": {},
   "outputs": [],
   "source": [
    "import torch, torch.nn.functional as F\n",
    "from tqdm import tqdm\n",
    "from sklearn.metrics import f1_score\n",
    "import torch\n",
    "import torch.nn as nn\n",
    "import torch.optim as optim\n",
    "from torch.utils.data import DataLoader\n",
    "from sklearn.metrics import f1_score, accuracy_score\n",
    "import numpy as np\n",
    "from tqdm import tqdm\n",
    "from torch.utils.data import DataLoader\n",
    "from sklearn.model_selection import train_test_split\n",
    "from torch.utils.data import Subset, DataLoader\n",
    "import torch.nn.functional as F\n",
    "\n",
    "if train_mode == 'holdout': # 'fivefold'\n",
    "    # ------------------- 数据处理 ---------------------\n",
    "    data_path = 'datasets/67fc7ccbb88b01da6626732d-momodel/train/'\n",
    "    dataset = WavDataset(data_path)\n",
    "    \n",
    "    all_indices = list(range(len(dataset)))\n",
    "    all_labels = dataset.lbl\n",
    "    \n",
    "    train_idx, val_idx = train_test_split(\n",
    "        all_indices,\n",
    "        test_size=0.2,\n",
    "        stratify=all_labels,\n",
    "        shuffle=True,\n",
    "        random_state=42\n",
    "    )\n",
    "    \n",
    "    train_set = Subset(dataset, train_idx)\n",
    "    val_set   = Subset(dataset, val_idx)\n",
    "    \n",
    "    train_loader = DataLoader(train_set, batch_size=32, shuffle=True, drop_last=True, collate_fn=collate_hf)\n",
    "    val_loader   = DataLoader(val_set,   batch_size=32, shuffle=False, collate_fn=collate_hf)\n",
    "    \n",
    "    # ------------------- 模型训练 ---------------------\n",
    "    device  = \"cuda\" if torch.cuda.is_available() else \"cpu\"\n",
    "    model   = HF_Wav2Vec2SER(num_cls=5, freeze_feat=True).to(device)\n",
    "        \n",
    "    EPOCHS   = 20\n",
    "    patience = 10              # 早停耐心\n",
    "    best_f1  = 0.0\n",
    "    wait     = 0\n",
    "    \n",
    "    optimizer = torch.optim.AdamW(filter(lambda p: p.requires_grad, model.parameters()), lr=3e-5)\n",
    "    steps_per_epoch = len(train_loader)         # ← 每个 epoch 的 batch 数\n",
    "    scheduler = torch.optim.lr_scheduler.OneCycleLR(\n",
    "        optimizer,\n",
    "        max_lr=5e-5,             # 峰值 LR，可比原 base lr 高 1.5~2 倍\n",
    "        epochs=EPOCHS,\n",
    "        steps_per_epoch=steps_per_epoch,\n",
    "        pct_start=0.3,           # 前 30% 逐步升 LR\n",
    "        anneal_strategy='cos',   # 后 70% 余弦下降\n",
    "        div_factor=25,           # 初始 lr = max_lr / 25\n",
    "        final_div_factor=1e4     # 末 lr = max_lr / 1e4\n",
    "    )\n",
    "    scaler    = torch.amp.GradScaler()\n",
    "\n",
    "    \n",
    "    for epoch in range(1, EPOCHS + 1):\n",
    "        model.train()\n",
    "        total_loss = 0\n",
    "        prog = tqdm(train_loader, desc=f\"Epoch {epoch:02d} [Train]\", leave=False)\n",
    "    \n",
    "        for wav, attn, y in prog:\n",
    "            wav, attn, y = wav.to(device), attn.to(device), y.to(device)\n",
    "    \n",
    "            optimizer.zero_grad(set_to_none=True)\n",
    "            with torch.amp.autocast(device_type=device):\n",
    "                logits = model(wav, attn)\n",
    "                loss   = F.cross_entropy(logits, y)\n",
    "    \n",
    "            scaler.scale(loss).backward()\n",
    "            scaler.step(optimizer)\n",
    "            scaler.update()\n",
    "    \n",
    "            scheduler.step()                 # ← 每个 batch 调用\n",
    "            total_loss += loss.item()\n",
    "            prog.set_postfix(\n",
    "                loss=f\"{loss.item():.4f}\",\n",
    "                lr=f\"{scheduler.get_last_lr()[0]:.2e}\"\n",
    "            )\n",
    "    \n",
    "        avg_loss = total_loss / len(train_loader)\n",
    "        print(f\"Epoch {epoch:02d} | Train Loss: {avg_loss:.4f}\")\n",
    "    \n",
    "        # -------- 验证 -------- #\n",
    "        model.eval()\n",
    "        va_pred, va_lab = [], []\n",
    "        with torch.no_grad(), torch.amp.autocast(device_type=device):\n",
    "            for wav, attn, y in tqdm(val_loader, desc=f\"Epoch {epoch:02d} [Eval]\", leave=False):\n",
    "                wav, attn = wav.to(device), attn.to(device)\n",
    "                out = model(wav, attn)\n",
    "                va_pred += out.argmax(1).cpu().tolist()\n",
    "                va_lab  += y.tolist()\n",
    "    \n",
    "        f1 = f1_score(va_lab, va_pred, average=\"micro\")\n",
    "        print(f\"Epoch {epoch:02d} | Val F1: {f1:.4f} | Best: {best_f1:.4f}\")\n",
    "    \n",
    "        # -------- 早停 & 保存 -------- #\n",
    "        if f1 > best_f1:\n",
    "            best_f1 = f1\n",
    "            wait = 0\n",
    "            torch.save(model.state_dict(), \"best_w2w_model_1.pt\")\n",
    "            print(\"New best model saved!\")\n",
    "        else:\n",
    "            wait += 1\n",
    "            print(f\"No improve ({wait}/{patience})\")\n",
    "    \n",
    "        if wait >= patience:\n",
    "            ## 3s 3e-5\n",
    "            # 0.8647\n",
    "            print(f\"\\n Early-stopping triggered! Best Val F1 = {best_f1:.4f}\")\n",
    "            break"
   ]
  },
  {
   "cell_type": "markdown",
   "id": "8dbc89d7-04ce-4b86-a690-da5bb59966d4",
   "metadata": {},
   "source": [
    "### 全量训练"
   ]
  },
  {
   "cell_type": "code",
   "execution_count": 10,
   "id": "c4d60787-323f-48d7-a990-b2b09f1d37e1",
   "metadata": {},
   "outputs": [],
   "source": [
    "import torch, torch.nn.functional as F\n",
    "from tqdm import tqdm\n",
    "from sklearn.metrics import f1_score\n",
    "import torch\n",
    "import torch.nn as nn\n",
    "import torch.optim as optim\n",
    "from torch.utils.data import DataLoader\n",
    "from sklearn.metrics import f1_score, accuracy_score\n",
    "import numpy as np\n",
    "from tqdm import tqdm\n",
    "from torch.utils.data import DataLoader\n",
    "from sklearn.model_selection import train_test_split\n",
    "from torch.utils.data import Subset, DataLoader\n",
    "import torch.nn.functional as F\n",
    "\n",
    "if train_mode == 'full': # 'fivefold'\n",
    "    # ------------------- 数据处理 ---------------------\n",
    "    data_path = 'datasets/67fc7ccbb88b01da6626732d-momodel/train/'\n",
    "    dataset = WavDataset(data_path)\n",
    "    \n",
    "    all_indices = list(range(len(dataset)))\n",
    "    all_labels = dataset.lbl\n",
    "    \n",
    "    train_idx, val_idx = train_test_split(\n",
    "        all_indices,\n",
    "        test_size=0.2,\n",
    "        stratify=all_labels,\n",
    "        shuffle=True,\n",
    "        random_state=42\n",
    "    )\n",
    "    \n",
    "    train_set = Subset(dataset, train_idx)\n",
    "    val_set   = Subset(dataset, val_idx)\n",
    "    \n",
    "    train_loader = DataLoader(train_set, batch_size=32, shuffle=True, drop_last=True, collate_fn=collate_hf)\n",
    "    val_loader   = DataLoader(val_set,   batch_size=32, shuffle=False, collate_fn=collate_hf)\n",
    "    \n",
    "    # ------------------- 模型训练 ---------------------\n",
    "    device  = \"cuda\" if torch.cuda.is_available() else \"cpu\"\n",
    "    model   = HF_Wav2Vec2SER(num_cls=5, freeze_feat=True).to(device)\n",
    "    \n",
    "    optimizer = torch.optim.AdamW(filter(lambda p: p.requires_grad, model.parameters()), lr=4e-5)\n",
    "    scheduler = torch.optim.lr_scheduler.OneCycleLR(\n",
    "        optimizer,\n",
    "        max_lr=5e-5,             # 峰值 LR，可比原 base lr 高 1.5~2 倍\n",
    "        epochs=EPOCHS,\n",
    "        steps_per_epoch=steps_per_epoch,\n",
    "        pct_start=0.3,           # 前 30% 逐步升 LR\n",
    "        anneal_strategy='cos',   # 后 70% 余弦下降\n",
    "        div_factor=25,           # 初始 lr = max_lr / 25\n",
    "        final_div_factor=1e4     # 末 lr = max_lr / 1e4\n",
    "    )\n",
    "    scaler    = torch.amp.GradScaler()\n",
    "    \n",
    "    EPOCHS   = 50\n",
    "    patience = 10              # 早停耐心\n",
    "    best_f1  = 0.0\n",
    "    wait     = 0\n",
    "    \n",
    "    for epoch in range(1, EPOCHS + 1):\n",
    "        # -------- 训练 -------- #\n",
    "        model.train()\n",
    "        total_loss = 0\n",
    "        prog = tqdm(train_loader, desc=f\"Epoch {epoch:02d} [Train]\", leave=False)\n",
    "        for wav, attn, y in prog:\n",
    "            wav, attn, y = wav.to(device), attn.to(device), y.to(device)\n",
    "    \n",
    "            optimizer.zero_grad(set_to_none=True)\n",
    "            with torch.amp.autocast(device_type=device):\n",
    "                logits = model(wav, attn)\n",
    "                loss   = F.cross_entropy(logits, y)\n",
    "    \n",
    "            scaler.scale(loss).backward()\n",
    "            scaler.step(optimizer)\n",
    "            scaler.update()\n",
    "    \n",
    "            total_loss += loss.item()\n",
    "            prog.set_postfix(loss=f\"{loss.item():.4f}\")\n",
    "    \n",
    "        scheduler.step()\n",
    "        avg_loss = total_loss / len(train_loader)\n",
    "        print(f\"Epoch {epoch:02d} | Train Loss: {avg_loss:.4f} | LR: {scheduler.get_last_lr()[0]:.2e}\")\n",
    "    \n",
    "        # -------- 验证 -------- #\n",
    "        model.eval()\n",
    "        va_pred, va_lab = [], []\n",
    "        with torch.no_grad(), torch.amp.autocast(device_type=device):\n",
    "            for wav, attn, y in tqdm(val_loader, desc=f\"Epoch {epoch:02d} [Eval]\", leave=False):\n",
    "                wav, attn = wav.to(device), attn.to(device)\n",
    "                out = model(wav, attn)\n",
    "                va_pred += out.argmax(1).cpu().tolist()\n",
    "                va_lab  += y.tolist()\n",
    "    \n",
    "        f1 = f1_score(va_lab, va_pred, average=\"micro\")\n",
    "        print(f\"Epoch {epoch:02d} | Val F1: {f1:.4f} | Best: {best_f1:.4f}\")\n",
    "    \n",
    "        # -------- 早停 & 保存 -------- #\n",
    "        if f1 > best_f1:\n",
    "            best_f1 = f1\n",
    "            wait = 0\n",
    "            torch.save(model.state_dict(), \"best_w2w_model.pt\")\n",
    "            print(\"New best model saved!\")\n",
    "        else:\n",
    "            wait += 1\n",
    "            print(f\"No improve ({wait}/{patience})\")\n",
    "    \n",
    "        if wait >= patience:\n",
    "            print(f\"\\n Early-stopping triggered! Best Val F1 = {best_f1:.4f}\")\n",
    "            break"
   ]
  },
  {
   "cell_type": "markdown",
   "id": "3f6e6b6c-15ef-4e34-b131-94aac6840944",
   "metadata": {},
   "source": [
    "### 5折训练"
   ]
  },
  {
   "cell_type": "code",
   "execution_count": 11,
   "id": "173e4693",
   "metadata": {},
   "outputs": [
    {
     "name": "stdout",
     "output_type": "stream",
     "text": [
      "2025-06-27 16:19:18 | ===== 5-Fold Training start — total samples 7756 =====\n",
      "2025-06-27 16:19:18 | \n",
      "=== Fold 1/5 | train 6204 | val 1552 ===\n"
     ]
    },
    {
     "name": "stderr",
     "output_type": "stream",
     "text": [
      "/root/miniconda3/lib/python3.12/site-packages/transformers/configuration_utils.py:311: UserWarning: Passing `gradient_checkpointing` to a config initialization is deprecated and will be removed in v5 Transformers. Using `model.gradient_checkpointing_enable()` instead, or if you are using the `Trainer` API, pass `gradient_checkpointing=True` in your `TrainingArguments`.\n",
      "  warnings.warn(\n",
      "                                                                "
     ]
    },
    {
     "name": "stdout",
     "output_type": "stream",
     "text": [
      "2025-06-27 16:20:01 | Fold 1 Ep01 |Train loss 1.5265 | Valid F1 0.4195 | best F1 0.0000 | LR 2.52e-06\n",
      "2025-06-27 16:20:02 | saved best model of this fold\n"
     ]
    },
    {
     "name": "stderr",
     "output_type": "stream",
     "text": [
      "                                                                "
     ]
    },
    {
     "name": "stdout",
     "output_type": "stream",
     "text": [
      "2025-06-27 16:20:45 | Fold 1 Ep02 |Train loss 1.2528 | Valid F1 0.5876 | best F1 0.4195 | LR 4.08e-06\n",
      "2025-06-27 16:20:45 | saved best model of this fold\n"
     ]
    },
    {
     "name": "stderr",
     "output_type": "stream",
     "text": [
      "                                                                "
     ]
    },
    {
     "name": "stdout",
     "output_type": "stream",
     "text": [
      "2025-06-27 16:21:29 | Fold 1 Ep03 |Train loss 0.8796 | Valid F1 0.6978 | best F1 0.5876 | LR 6.59e-06\n",
      "2025-06-27 16:21:29 | saved best model of this fold\n"
     ]
    },
    {
     "name": "stderr",
     "output_type": "stream",
     "text": [
      "                                                                "
     ]
    },
    {
     "name": "stdout",
     "output_type": "stream",
     "text": [
      "2025-06-27 16:22:13 | Fold 1 Ep04 |Train loss 0.6615 | Valid F1 0.7745 | best F1 0.6978 | LR 9.95e-06\n",
      "2025-06-27 16:22:14 | saved best model of this fold\n"
     ]
    },
    {
     "name": "stderr",
     "output_type": "stream",
     "text": [
      "                                                                "
     ]
    },
    {
     "name": "stdout",
     "output_type": "stream",
     "text": [
      "2025-06-27 16:22:57 | Fold 1 Ep05 |Train loss 0.5225 | Valid F1 0.7809 | best F1 0.7745 | LR 1.40e-05\n",
      "2025-06-27 16:22:57 | saved best model of this fold\n"
     ]
    },
    {
     "name": "stderr",
     "output_type": "stream",
     "text": [
      "                                                                "
     ]
    },
    {
     "name": "stdout",
     "output_type": "stream",
     "text": [
      "2025-06-27 16:23:41 | Fold 1 Ep06 |Train loss 0.4603 | Valid F1 0.8228 | best F1 0.7809 | LR 1.86e-05\n",
      "2025-06-27 16:23:41 | saved best model of this fold\n"
     ]
    },
    {
     "name": "stderr",
     "output_type": "stream",
     "text": [
      "                                                                "
     ]
    },
    {
     "name": "stdout",
     "output_type": "stream",
     "text": [
      "2025-06-27 16:24:25 | Fold 1 Ep07 |Train loss 0.3901 | Valid F1 0.8022 | best F1 0.8228 | LR 2.35e-05\n"
     ]
    },
    {
     "name": "stderr",
     "output_type": "stream",
     "text": [
      "                                                                "
     ]
    },
    {
     "name": "stdout",
     "output_type": "stream",
     "text": [
      "2025-06-27 16:25:09 | Fold 1 Ep08 |Train loss 0.3449 | Valid F1 0.8280 | best F1 0.8228 | LR 2.85e-05\n",
      "2025-06-27 16:25:10 | saved best model of this fold\n"
     ]
    },
    {
     "name": "stderr",
     "output_type": "stream",
     "text": [
      "                                                                "
     ]
    },
    {
     "name": "stdout",
     "output_type": "stream",
     "text": [
      "2025-06-27 16:25:53 | Fold 1 Ep09 |Train loss 0.3208 | Valid F1 0.8383 | best F1 0.8280 | LR 3.34e-05\n",
      "2025-06-27 16:25:53 | saved best model of this fold\n"
     ]
    },
    {
     "name": "stderr",
     "output_type": "stream",
     "text": [
      "                                                                 "
     ]
    },
    {
     "name": "stdout",
     "output_type": "stream",
     "text": [
      "2025-06-27 16:26:37 | Fold 1 Ep10 |Train loss 0.2693 | Valid F1 0.8222 | best F1 0.8383 | LR 3.80e-05\n"
     ]
    },
    {
     "name": "stderr",
     "output_type": "stream",
     "text": [
      "                                                                 "
     ]
    },
    {
     "name": "stdout",
     "output_type": "stream",
     "text": [
      "2025-06-27 16:27:20 | Fold 1 Ep11 |Train loss 0.2744 | Valid F1 0.8351 | best F1 0.8383 | LR 4.21e-05\n"
     ]
    },
    {
     "name": "stderr",
     "output_type": "stream",
     "text": [
      "                                                                 "
     ]
    },
    {
     "name": "stdout",
     "output_type": "stream",
     "text": [
      "2025-06-27 16:28:05 | Fold 1 Ep12 |Train loss 0.2351 | Valid F1 0.8273 | best F1 0.8383 | LR 4.54e-05\n"
     ]
    },
    {
     "name": "stderr",
     "output_type": "stream",
     "text": [
      "                                                                 "
     ]
    },
    {
     "name": "stdout",
     "output_type": "stream",
     "text": [
      "2025-06-27 16:28:49 | Fold 1 Ep13 |Train loss 0.2112 | Valid F1 0.8061 | best F1 0.8383 | LR 4.79e-05\n"
     ]
    },
    {
     "name": "stderr",
     "output_type": "stream",
     "text": [
      "                                                                 "
     ]
    },
    {
     "name": "stdout",
     "output_type": "stream",
     "text": [
      "2025-06-27 16:29:32 | Fold 1 Ep14 |Train loss 0.2143 | Valid F1 0.8338 | best F1 0.8383 | LR 4.95e-05\n"
     ]
    },
    {
     "name": "stderr",
     "output_type": "stream",
     "text": [
      "                                                                 "
     ]
    },
    {
     "name": "stdout",
     "output_type": "stream",
     "text": [
      "2025-06-27 16:30:15 | Fold 1 Ep15 |Train loss 0.1864 | Valid F1 0.8550 | best F1 0.8383 | LR 5.00e-05\n",
      "2025-06-27 16:30:16 | saved best model of this fold\n"
     ]
    },
    {
     "name": "stderr",
     "output_type": "stream",
     "text": [
      "                                                                 "
     ]
    },
    {
     "name": "stdout",
     "output_type": "stream",
     "text": [
      "2025-06-27 16:31:00 | Fold 1 Ep16 |Train loss 0.1484 | Valid F1 0.8286 | best F1 0.8550 | LR 4.99e-05\n"
     ]
    },
    {
     "name": "stderr",
     "output_type": "stream",
     "text": [
      "                                                                 "
     ]
    },
    {
     "name": "stdout",
     "output_type": "stream",
     "text": [
      "2025-06-27 16:31:42 | Fold 1 Ep17 |Train loss 0.1525 | Valid F1 0.8447 | best F1 0.8550 | LR 4.96e-05\n"
     ]
    },
    {
     "name": "stderr",
     "output_type": "stream",
     "text": [
      "                                                                 "
     ]
    },
    {
     "name": "stdout",
     "output_type": "stream",
     "text": [
      "2025-06-27 16:32:27 | Fold 1 Ep18 |Train loss 0.1336 | Valid F1 0.8222 | best F1 0.8550 | LR 4.91e-05\n"
     ]
    },
    {
     "name": "stderr",
     "output_type": "stream",
     "text": [
      "                                                                 "
     ]
    },
    {
     "name": "stdout",
     "output_type": "stream",
     "text": [
      "2025-06-27 16:33:11 | Fold 1 Ep19 |Train loss 0.1254 | Valid F1 0.8338 | best F1 0.8550 | LR 4.84e-05\n"
     ]
    },
    {
     "name": "stderr",
     "output_type": "stream",
     "text": [
      "                                                                 "
     ]
    },
    {
     "name": "stdout",
     "output_type": "stream",
     "text": [
      "2025-06-27 16:33:54 | Fold 1 Ep20 |Train loss 0.1105 | Valid F1 0.8544 | best F1 0.8550 | LR 4.75e-05\n"
     ]
    },
    {
     "name": "stderr",
     "output_type": "stream",
     "text": [
      "                                                                 "
     ]
    },
    {
     "name": "stdout",
     "output_type": "stream",
     "text": [
      "2025-06-27 16:34:37 | Fold 1 Ep21 |Train loss 0.0940 | Valid F1 0.8447 | best F1 0.8550 | LR 4.65e-05\n"
     ]
    },
    {
     "name": "stderr",
     "output_type": "stream",
     "text": [
      "                                                                 "
     ]
    },
    {
     "name": "stdout",
     "output_type": "stream",
     "text": [
      "2025-06-27 16:35:20 | Fold 1 Ep22 |Train loss 0.0880 | Valid F1 0.8415 | best F1 0.8550 | LR 4.52e-05\n"
     ]
    },
    {
     "name": "stderr",
     "output_type": "stream",
     "text": [
      "                                                                 "
     ]
    },
    {
     "name": "stdout",
     "output_type": "stream",
     "text": [
      "2025-06-27 16:36:03 | Fold 1 Ep23 |Train loss 0.0767 | Valid F1 0.8492 | best F1 0.8550 | LR 4.38e-05\n"
     ]
    },
    {
     "name": "stderr",
     "output_type": "stream",
     "text": [
      "                                                                 "
     ]
    },
    {
     "name": "stdout",
     "output_type": "stream",
     "text": [
      "2025-06-27 16:36:47 | Fold 1 Ep24 |Train loss 0.0743 | Valid F1 0.8563 | best F1 0.8550 | LR 4.23e-05\n",
      "2025-06-27 16:36:47 | saved best model of this fold\n"
     ]
    },
    {
     "name": "stderr",
     "output_type": "stream",
     "text": [
      "                                                                 "
     ]
    },
    {
     "name": "stdout",
     "output_type": "stream",
     "text": [
      "2025-06-27 16:37:31 | Fold 1 Ep25 |Train loss 0.0756 | Valid F1 0.8550 | best F1 0.8563 | LR 4.06e-05\n"
     ]
    },
    {
     "name": "stderr",
     "output_type": "stream",
     "text": [
      "                                                                 "
     ]
    },
    {
     "name": "stdout",
     "output_type": "stream",
     "text": [
      "2025-06-27 16:38:14 | Fold 1 Ep26 |Train loss 0.0719 | Valid F1 0.8666 | best F1 0.8563 | LR 3.88e-05\n",
      "2025-06-27 16:38:15 | saved best model of this fold\n"
     ]
    },
    {
     "name": "stderr",
     "output_type": "stream",
     "text": [
      "                                                                 "
     ]
    },
    {
     "name": "stdout",
     "output_type": "stream",
     "text": [
      "2025-06-27 16:38:58 | Fold 1 Ep27 |Train loss 0.0511 | Valid F1 0.8582 | best F1 0.8666 | LR 3.68e-05\n"
     ]
    },
    {
     "name": "stderr",
     "output_type": "stream",
     "text": [
      "                                                                 "
     ]
    },
    {
     "name": "stdout",
     "output_type": "stream",
     "text": [
      "2025-06-27 16:39:42 | Fold 1 Ep28 |Train loss 0.0562 | Valid F1 0.8415 | best F1 0.8666 | LR 3.48e-05\n"
     ]
    },
    {
     "name": "stderr",
     "output_type": "stream",
     "text": [
      "                                                                 "
     ]
    },
    {
     "name": "stdout",
     "output_type": "stream",
     "text": [
      "2025-06-27 16:40:26 | Fold 1 Ep29 |Train loss 0.0439 | Valid F1 0.8582 | best F1 0.8666 | LR 3.27e-05\n"
     ]
    },
    {
     "name": "stderr",
     "output_type": "stream",
     "text": [
      "                                                                 "
     ]
    },
    {
     "name": "stdout",
     "output_type": "stream",
     "text": [
      "2025-06-27 16:41:10 | Fold 1 Ep30 |Train loss 0.0395 | Valid F1 0.8363 | best F1 0.8666 | LR 3.06e-05\n"
     ]
    },
    {
     "name": "stderr",
     "output_type": "stream",
     "text": [
      "                                                                 "
     ]
    },
    {
     "name": "stdout",
     "output_type": "stream",
     "text": [
      "2025-06-27 16:41:52 | Fold 1 Ep31 |Train loss 0.0440 | Valid F1 0.8647 | best F1 0.8666 | LR 2.83e-05\n"
     ]
    },
    {
     "name": "stderr",
     "output_type": "stream",
     "text": [
      "                                                                 "
     ]
    },
    {
     "name": "stdout",
     "output_type": "stream",
     "text": [
      "2025-06-27 16:42:36 | Fold 1 Ep32 |Train loss 0.0356 | Valid F1 0.8589 | best F1 0.8666 | LR 2.61e-05\n"
     ]
    },
    {
     "name": "stderr",
     "output_type": "stream",
     "text": [
      "                                                                 "
     ]
    },
    {
     "name": "stdout",
     "output_type": "stream",
     "text": [
      "2025-06-27 16:43:18 | Fold 1 Ep33 |Train loss 0.0231 | Valid F1 0.8692 | best F1 0.8666 | LR 2.39e-05\n",
      "2025-06-27 16:43:19 | saved best model of this fold\n"
     ]
    },
    {
     "name": "stderr",
     "output_type": "stream",
     "text": [
      "                                                                 "
     ]
    },
    {
     "name": "stdout",
     "output_type": "stream",
     "text": [
      "2025-06-27 16:44:02 | Fold 1 Ep34 |Train loss 0.0257 | Valid F1 0.8744 | best F1 0.8692 | LR 2.16e-05\n",
      "2025-06-27 16:44:02 | saved best model of this fold\n"
     ]
    },
    {
     "name": "stderr",
     "output_type": "stream",
     "text": [
      "                                                                 "
     ]
    },
    {
     "name": "stdout",
     "output_type": "stream",
     "text": [
      "2025-06-27 16:44:48 | Fold 1 Ep35 |Train loss 0.0175 | Valid F1 0.8756 | best F1 0.8744 | LR 1.94e-05\n",
      "2025-06-27 16:44:48 | saved best model of this fold\n"
     ]
    },
    {
     "name": "stderr",
     "output_type": "stream",
     "text": [
      "                                                                 "
     ]
    },
    {
     "name": "stdout",
     "output_type": "stream",
     "text": [
      "2025-06-27 16:45:31 | Fold 1 Ep36 |Train loss 0.0164 | Valid F1 0.8731 | best F1 0.8756 | LR 1.73e-05\n"
     ]
    },
    {
     "name": "stderr",
     "output_type": "stream",
     "text": [
      "                                                                 "
     ]
    },
    {
     "name": "stdout",
     "output_type": "stream",
     "text": [
      "2025-06-27 16:46:15 | Fold 1 Ep37 |Train loss 0.0128 | Valid F1 0.8686 | best F1 0.8756 | LR 1.52e-05\n"
     ]
    },
    {
     "name": "stderr",
     "output_type": "stream",
     "text": [
      "                                                                 "
     ]
    },
    {
     "name": "stdout",
     "output_type": "stream",
     "text": [
      "2025-06-27 16:46:59 | Fold 1 Ep38 |Train loss 0.0095 | Valid F1 0.8673 | best F1 0.8756 | LR 1.31e-05\n"
     ]
    },
    {
     "name": "stderr",
     "output_type": "stream",
     "text": [
      "                                                                 "
     ]
    },
    {
     "name": "stdout",
     "output_type": "stream",
     "text": [
      "2025-06-27 16:47:43 | Fold 1 Ep39 |Train loss 0.0094 | Valid F1 0.8698 | best F1 0.8756 | LR 1.12e-05\n"
     ]
    },
    {
     "name": "stderr",
     "output_type": "stream",
     "text": [
      "                                                                 "
     ]
    },
    {
     "name": "stdout",
     "output_type": "stream",
     "text": [
      "2025-06-27 16:48:28 | Fold 1 Ep40 |Train loss 0.0129 | Valid F1 0.8711 | best F1 0.8756 | LR 9.40e-06\n"
     ]
    },
    {
     "name": "stderr",
     "output_type": "stream",
     "text": [
      "                                                                 "
     ]
    },
    {
     "name": "stdout",
     "output_type": "stream",
     "text": [
      "2025-06-27 16:49:11 | Fold 1 Ep41 |Train loss 0.0096 | Valid F1 0.8550 | best F1 0.8756 | LR 7.72e-06\n"
     ]
    },
    {
     "name": "stderr",
     "output_type": "stream",
     "text": [
      "                                                                 "
     ]
    },
    {
     "name": "stdout",
     "output_type": "stream",
     "text": [
      "2025-06-27 16:49:54 | Fold 1 Ep42 |Train loss 0.0095 | Valid F1 0.8660 | best F1 0.8756 | LR 6.17e-06\n"
     ]
    },
    {
     "name": "stderr",
     "output_type": "stream",
     "text": [
      "                                                                 "
     ]
    },
    {
     "name": "stdout",
     "output_type": "stream",
     "text": [
      "2025-06-27 16:50:37 | Fold 1 Ep43 |Train loss 0.0086 | Valid F1 0.8660 | best F1 0.8756 | LR 4.77e-06\n"
     ]
    },
    {
     "name": "stderr",
     "output_type": "stream",
     "text": [
      "                                                                 "
     ]
    },
    {
     "name": "stdout",
     "output_type": "stream",
     "text": [
      "2025-06-27 16:51:21 | Fold 1 Ep44 |Train loss 0.0049 | Valid F1 0.8698 | best F1 0.8756 | LR 3.53e-06\n"
     ]
    },
    {
     "name": "stderr",
     "output_type": "stream",
     "text": [
      "                                                                 "
     ]
    },
    {
     "name": "stdout",
     "output_type": "stream",
     "text": [
      "2025-06-27 16:52:06 | Fold 1 Ep45 |Train loss 0.0046 | Valid F1 0.8724 | best F1 0.8756 | LR 2.47e-06\n",
      "2025-06-27 16:52:06 | early-stop\n",
      "2025-06-27 16:52:06 | \n",
      "=== Fold 2/5 | train 6205 | val 1551 ===\n"
     ]
    },
    {
     "name": "stderr",
     "output_type": "stream",
     "text": [
      "/root/miniconda3/lib/python3.12/site-packages/transformers/configuration_utils.py:311: UserWarning: Passing `gradient_checkpointing` to a config initialization is deprecated and will be removed in v5 Transformers. Using `model.gradient_checkpointing_enable()` instead, or if you are using the `Trainer` API, pass `gradient_checkpointing=True` in your `TrainingArguments`.\n",
      "  warnings.warn(\n",
      "                                                                "
     ]
    },
    {
     "name": "stdout",
     "output_type": "stream",
     "text": [
      "2025-06-27 16:52:50 | Fold 2 Ep01 |Train loss 1.5055 | Valid F1 0.3901 | best F1 0.0000 | LR 2.52e-06\n",
      "2025-06-27 16:52:50 | saved best model of this fold\n"
     ]
    },
    {
     "name": "stderr",
     "output_type": "stream",
     "text": [
      "                                                                "
     ]
    },
    {
     "name": "stdout",
     "output_type": "stream",
     "text": [
      "2025-06-27 16:53:33 | Fold 2 Ep02 |Train loss 1.2635 | Valid F1 0.6022 | best F1 0.3901 | LR 4.08e-06\n",
      "2025-06-27 16:53:34 | saved best model of this fold\n"
     ]
    },
    {
     "name": "stderr",
     "output_type": "stream",
     "text": [
      "                                                                "
     ]
    },
    {
     "name": "stdout",
     "output_type": "stream",
     "text": [
      "2025-06-27 16:54:17 | Fold 2 Ep03 |Train loss 0.8922 | Valid F1 0.6518 | best F1 0.6022 | LR 6.59e-06\n",
      "2025-06-27 16:54:18 | saved best model of this fold\n"
     ]
    },
    {
     "name": "stderr",
     "output_type": "stream",
     "text": [
      "                                                                "
     ]
    },
    {
     "name": "stdout",
     "output_type": "stream",
     "text": [
      "2025-06-27 16:55:01 | Fold 2 Ep04 |Train loss 0.6800 | Valid F1 0.7563 | best F1 0.6518 | LR 9.95e-06\n",
      "2025-06-27 16:55:02 | saved best model of this fold\n"
     ]
    },
    {
     "name": "stderr",
     "output_type": "stream",
     "text": [
      "                                                                "
     ]
    },
    {
     "name": "stdout",
     "output_type": "stream",
     "text": [
      "2025-06-27 16:55:46 | Fold 2 Ep05 |Train loss 0.5381 | Valid F1 0.7859 | best F1 0.7563 | LR 1.40e-05\n",
      "2025-06-27 16:55:46 | saved best model of this fold\n"
     ]
    },
    {
     "name": "stderr",
     "output_type": "stream",
     "text": [
      "                                                                "
     ]
    },
    {
     "name": "stdout",
     "output_type": "stream",
     "text": [
      "2025-06-27 16:56:30 | Fold 2 Ep06 |Train loss 0.4467 | Valid F1 0.8008 | best F1 0.7859 | LR 1.86e-05\n",
      "2025-06-27 16:56:30 | saved best model of this fold\n"
     ]
    },
    {
     "name": "stderr",
     "output_type": "stream",
     "text": [
      "                                                                "
     ]
    },
    {
     "name": "stdout",
     "output_type": "stream",
     "text": [
      "2025-06-27 16:57:13 | Fold 2 Ep07 |Train loss 0.3932 | Valid F1 0.8117 | best F1 0.8008 | LR 2.35e-05\n",
      "2025-06-27 16:57:14 | saved best model of this fold\n"
     ]
    },
    {
     "name": "stderr",
     "output_type": "stream",
     "text": [
      "                                                                "
     ]
    },
    {
     "name": "stdout",
     "output_type": "stream",
     "text": [
      "2025-06-27 16:57:56 | Fold 2 Ep08 |Train loss 0.3577 | Valid F1 0.8014 | best F1 0.8117 | LR 2.85e-05\n"
     ]
    },
    {
     "name": "stderr",
     "output_type": "stream",
     "text": [
      "                                                                "
     ]
    },
    {
     "name": "stdout",
     "output_type": "stream",
     "text": [
      "2025-06-27 16:58:41 | Fold 2 Ep09 |Train loss 0.3121 | Valid F1 0.8092 | best F1 0.8117 | LR 3.34e-05\n"
     ]
    },
    {
     "name": "stderr",
     "output_type": "stream",
     "text": [
      "                                                                 "
     ]
    },
    {
     "name": "stdout",
     "output_type": "stream",
     "text": [
      "2025-06-27 16:59:26 | Fold 2 Ep10 |Train loss 0.2823 | Valid F1 0.8117 | best F1 0.8117 | LR 3.80e-05\n"
     ]
    },
    {
     "name": "stderr",
     "output_type": "stream",
     "text": [
      "                                                                 "
     ]
    },
    {
     "name": "stdout",
     "output_type": "stream",
     "text": [
      "2025-06-27 17:00:10 | Fold 2 Ep11 |Train loss 0.2866 | Valid F1 0.8298 | best F1 0.8117 | LR 4.21e-05\n",
      "2025-06-27 17:00:10 | saved best model of this fold\n"
     ]
    },
    {
     "name": "stderr",
     "output_type": "stream",
     "text": [
      "                                                                 "
     ]
    },
    {
     "name": "stdout",
     "output_type": "stream",
     "text": [
      "2025-06-27 17:00:53 | Fold 2 Ep12 |Train loss 0.2480 | Valid F1 0.7969 | best F1 0.8298 | LR 4.54e-05\n"
     ]
    },
    {
     "name": "stderr",
     "output_type": "stream",
     "text": [
      "                                                                 "
     ]
    },
    {
     "name": "stdout",
     "output_type": "stream",
     "text": [
      "2025-06-27 17:01:36 | Fold 2 Ep13 |Train loss 0.2043 | Valid F1 0.8453 | best F1 0.8298 | LR 4.79e-05\n",
      "2025-06-27 17:01:36 | saved best model of this fold\n"
     ]
    },
    {
     "name": "stderr",
     "output_type": "stream",
     "text": [
      "                                                                 "
     ]
    },
    {
     "name": "stdout",
     "output_type": "stream",
     "text": [
      "2025-06-27 17:02:20 | Fold 2 Ep14 |Train loss 0.1939 | Valid F1 0.8362 | best F1 0.8453 | LR 4.95e-05\n"
     ]
    },
    {
     "name": "stderr",
     "output_type": "stream",
     "text": [
      "                                                                 "
     ]
    },
    {
     "name": "stdout",
     "output_type": "stream",
     "text": [
      "2025-06-27 17:03:04 | Fold 2 Ep15 |Train loss 0.1826 | Valid F1 0.8337 | best F1 0.8453 | LR 5.00e-05\n"
     ]
    },
    {
     "name": "stderr",
     "output_type": "stream",
     "text": [
      "                                                                 "
     ]
    },
    {
     "name": "stdout",
     "output_type": "stream",
     "text": [
      "2025-06-27 17:03:49 | Fold 2 Ep16 |Train loss 0.1870 | Valid F1 0.8311 | best F1 0.8453 | LR 4.99e-05\n"
     ]
    },
    {
     "name": "stderr",
     "output_type": "stream",
     "text": [
      "                                                                 "
     ]
    },
    {
     "name": "stdout",
     "output_type": "stream",
     "text": [
      "2025-06-27 17:04:33 | Fold 2 Ep17 |Train loss 0.1330 | Valid F1 0.8478 | best F1 0.8453 | LR 4.96e-05\n",
      "2025-06-27 17:04:34 | saved best model of this fold\n"
     ]
    },
    {
     "name": "stderr",
     "output_type": "stream",
     "text": [
      "                                                                 "
     ]
    },
    {
     "name": "stdout",
     "output_type": "stream",
     "text": [
      "2025-06-27 17:05:17 | Fold 2 Ep18 |Train loss 0.1272 | Valid F1 0.8369 | best F1 0.8478 | LR 4.91e-05\n"
     ]
    },
    {
     "name": "stderr",
     "output_type": "stream",
     "text": [
      "                                                                 "
     ]
    },
    {
     "name": "stdout",
     "output_type": "stream",
     "text": [
      "2025-06-27 17:06:00 | Fold 2 Ep19 |Train loss 0.1232 | Valid F1 0.8504 | best F1 0.8478 | LR 4.84e-05\n",
      "2025-06-27 17:06:00 | saved best model of this fold\n"
     ]
    },
    {
     "name": "stderr",
     "output_type": "stream",
     "text": [
      "                                                                 "
     ]
    },
    {
     "name": "stdout",
     "output_type": "stream",
     "text": [
      "2025-06-27 17:06:44 | Fold 2 Ep20 |Train loss 0.1118 | Valid F1 0.8504 | best F1 0.8504 | LR 4.75e-05\n"
     ]
    },
    {
     "name": "stderr",
     "output_type": "stream",
     "text": [
      "                                                                 "
     ]
    },
    {
     "name": "stdout",
     "output_type": "stream",
     "text": [
      "2025-06-27 17:07:29 | Fold 2 Ep21 |Train loss 0.0908 | Valid F1 0.8524 | best F1 0.8504 | LR 4.65e-05\n",
      "2025-06-27 17:07:29 | saved best model of this fold\n"
     ]
    },
    {
     "name": "stderr",
     "output_type": "stream",
     "text": [
      "                                                                 "
     ]
    },
    {
     "name": "stdout",
     "output_type": "stream",
     "text": [
      "2025-06-27 17:08:13 | Fold 2 Ep22 |Train loss 0.0867 | Valid F1 0.8259 | best F1 0.8524 | LR 4.52e-05\n"
     ]
    },
    {
     "name": "stderr",
     "output_type": "stream",
     "text": [
      "                                                                 "
     ]
    },
    {
     "name": "stdout",
     "output_type": "stream",
     "text": [
      "2025-06-27 17:08:57 | Fold 2 Ep23 |Train loss 0.0811 | Valid F1 0.8407 | best F1 0.8524 | LR 4.38e-05\n"
     ]
    },
    {
     "name": "stderr",
     "output_type": "stream",
     "text": [
      "                                                                 "
     ]
    },
    {
     "name": "stdout",
     "output_type": "stream",
     "text": [
      "2025-06-27 17:09:40 | Fold 2 Ep24 |Train loss 0.0745 | Valid F1 0.8420 | best F1 0.8524 | LR 4.23e-05\n"
     ]
    },
    {
     "name": "stderr",
     "output_type": "stream",
     "text": [
      "                                                                 "
     ]
    },
    {
     "name": "stdout",
     "output_type": "stream",
     "text": [
      "2025-06-27 17:10:25 | Fold 2 Ep25 |Train loss 0.0604 | Valid F1 0.8253 | best F1 0.8524 | LR 4.06e-05\n"
     ]
    },
    {
     "name": "stderr",
     "output_type": "stream",
     "text": [
      "                                                                 "
     ]
    },
    {
     "name": "stdout",
     "output_type": "stream",
     "text": [
      "2025-06-27 17:11:10 | Fold 2 Ep26 |Train loss 0.0501 | Valid F1 0.8440 | best F1 0.8524 | LR 3.88e-05\n"
     ]
    },
    {
     "name": "stderr",
     "output_type": "stream",
     "text": [
      "                                                                 "
     ]
    },
    {
     "name": "stdout",
     "output_type": "stream",
     "text": [
      "2025-06-27 17:11:53 | Fold 2 Ep27 |Train loss 0.0504 | Valid F1 0.8337 | best F1 0.8524 | LR 3.68e-05\n"
     ]
    },
    {
     "name": "stderr",
     "output_type": "stream",
     "text": [
      "                                                                 "
     ]
    },
    {
     "name": "stdout",
     "output_type": "stream",
     "text": [
      "2025-06-27 17:12:36 | Fold 2 Ep28 |Train loss 0.0651 | Valid F1 0.8588 | best F1 0.8524 | LR 3.48e-05\n",
      "2025-06-27 17:12:36 | saved best model of this fold\n"
     ]
    },
    {
     "name": "stderr",
     "output_type": "stream",
     "text": [
      "                                                                 "
     ]
    },
    {
     "name": "stdout",
     "output_type": "stream",
     "text": [
      "2025-06-27 17:13:19 | Fold 2 Ep29 |Train loss 0.0377 | Valid F1 0.8640 | best F1 0.8588 | LR 3.27e-05\n",
      "2025-06-27 17:13:20 | saved best model of this fold\n"
     ]
    },
    {
     "name": "stderr",
     "output_type": "stream",
     "text": [
      "                                                                 "
     ]
    },
    {
     "name": "stdout",
     "output_type": "stream",
     "text": [
      "2025-06-27 17:14:03 | Fold 2 Ep30 |Train loss 0.0379 | Valid F1 0.8485 | best F1 0.8640 | LR 3.06e-05\n"
     ]
    },
    {
     "name": "stderr",
     "output_type": "stream",
     "text": [
      "                                                                 "
     ]
    },
    {
     "name": "stdout",
     "output_type": "stream",
     "text": [
      "2025-06-27 17:14:48 | Fold 2 Ep31 |Train loss 0.0374 | Valid F1 0.8640 | best F1 0.8640 | LR 2.83e-05\n"
     ]
    },
    {
     "name": "stderr",
     "output_type": "stream",
     "text": [
      "                                                                 "
     ]
    },
    {
     "name": "stdout",
     "output_type": "stream",
     "text": [
      "2025-06-27 17:15:32 | Fold 2 Ep32 |Train loss 0.0348 | Valid F1 0.8614 | best F1 0.8640 | LR 2.61e-05\n"
     ]
    },
    {
     "name": "stderr",
     "output_type": "stream",
     "text": [
      "                                                                 "
     ]
    },
    {
     "name": "stdout",
     "output_type": "stream",
     "text": [
      "2025-06-27 17:16:14 | Fold 2 Ep33 |Train loss 0.0197 | Valid F1 0.8691 | best F1 0.8640 | LR 2.39e-05\n",
      "2025-06-27 17:16:15 | saved best model of this fold\n"
     ]
    },
    {
     "name": "stderr",
     "output_type": "stream",
     "text": [
      "                                                                 "
     ]
    },
    {
     "name": "stdout",
     "output_type": "stream",
     "text": [
      "2025-06-27 17:16:59 | Fold 2 Ep34 |Train loss 0.0197 | Valid F1 0.8672 | best F1 0.8691 | LR 2.16e-05\n"
     ]
    },
    {
     "name": "stderr",
     "output_type": "stream",
     "text": [
      "                                                                 "
     ]
    },
    {
     "name": "stdout",
     "output_type": "stream",
     "text": [
      "2025-06-27 17:17:42 | Fold 2 Ep35 |Train loss 0.0176 | Valid F1 0.8575 | best F1 0.8691 | LR 1.94e-05\n"
     ]
    },
    {
     "name": "stderr",
     "output_type": "stream",
     "text": [
      "                                                                 "
     ]
    },
    {
     "name": "stdout",
     "output_type": "stream",
     "text": [
      "2025-06-27 17:18:27 | Fold 2 Ep36 |Train loss 0.0181 | Valid F1 0.8672 | best F1 0.8691 | LR 1.73e-05\n"
     ]
    },
    {
     "name": "stderr",
     "output_type": "stream",
     "text": [
      "                                                                 "
     ]
    },
    {
     "name": "stdout",
     "output_type": "stream",
     "text": [
      "2025-06-27 17:19:11 | Fold 2 Ep37 |Train loss 0.0115 | Valid F1 0.8691 | best F1 0.8691 | LR 1.52e-05\n"
     ]
    },
    {
     "name": "stderr",
     "output_type": "stream",
     "text": [
      "                                                                 "
     ]
    },
    {
     "name": "stdout",
     "output_type": "stream",
     "text": [
      "2025-06-27 17:19:53 | Fold 2 Ep38 |Train loss 0.0215 | Valid F1 0.8511 | best F1 0.8691 | LR 1.31e-05\n"
     ]
    },
    {
     "name": "stderr",
     "output_type": "stream",
     "text": [
      "                                                                 "
     ]
    },
    {
     "name": "stdout",
     "output_type": "stream",
     "text": [
      "2025-06-27 17:20:37 | Fold 2 Ep39 |Train loss 0.0092 | Valid F1 0.8569 | best F1 0.8691 | LR 1.12e-05\n"
     ]
    },
    {
     "name": "stderr",
     "output_type": "stream",
     "text": [
      "                                                                 "
     ]
    },
    {
     "name": "stdout",
     "output_type": "stream",
     "text": [
      "2025-06-27 17:21:21 | Fold 2 Ep40 |Train loss 0.0120 | Valid F1 0.8459 | best F1 0.8691 | LR 9.40e-06\n"
     ]
    },
    {
     "name": "stderr",
     "output_type": "stream",
     "text": [
      "                                                                 "
     ]
    },
    {
     "name": "stdout",
     "output_type": "stream",
     "text": [
      "2025-06-27 17:22:05 | Fold 2 Ep41 |Train loss 0.0110 | Valid F1 0.8620 | best F1 0.8691 | LR 7.72e-06\n"
     ]
    },
    {
     "name": "stderr",
     "output_type": "stream",
     "text": [
      "                                                                 "
     ]
    },
    {
     "name": "stdout",
     "output_type": "stream",
     "text": [
      "2025-06-27 17:22:48 | Fold 2 Ep42 |Train loss 0.0044 | Valid F1 0.8582 | best F1 0.8691 | LR 6.17e-06\n"
     ]
    },
    {
     "name": "stderr",
     "output_type": "stream",
     "text": [
      "                                                                 "
     ]
    },
    {
     "name": "stdout",
     "output_type": "stream",
     "text": [
      "2025-06-27 17:23:31 | Fold 2 Ep43 |Train loss 0.0035 | Valid F1 0.8601 | best F1 0.8691 | LR 4.77e-06\n",
      "2025-06-27 17:23:31 | early-stop\n",
      "2025-06-27 17:23:31 | \n",
      "=== Fold 3/5 | train 6205 | val 1551 ===\n"
     ]
    },
    {
     "name": "stderr",
     "output_type": "stream",
     "text": [
      "/root/miniconda3/lib/python3.12/site-packages/transformers/configuration_utils.py:311: UserWarning: Passing `gradient_checkpointing` to a config initialization is deprecated and will be removed in v5 Transformers. Using `model.gradient_checkpointing_enable()` instead, or if you are using the `Trainer` API, pass `gradient_checkpointing=True` in your `TrainingArguments`.\n",
      "  warnings.warn(\n",
      "                                                                "
     ]
    },
    {
     "name": "stdout",
     "output_type": "stream",
     "text": [
      "2025-06-27 17:24:15 | Fold 3 Ep01 |Train loss 1.5247 | Valid F1 0.4120 | best F1 0.0000 | LR 2.52e-06\n",
      "2025-06-27 17:24:16 | saved best model of this fold\n"
     ]
    },
    {
     "name": "stderr",
     "output_type": "stream",
     "text": [
      "                                                                "
     ]
    },
    {
     "name": "stdout",
     "output_type": "stream",
     "text": [
      "2025-06-27 17:24:59 | Fold 3 Ep02 |Train loss 1.3413 | Valid F1 0.5880 | best F1 0.4120 | LR 4.08e-06\n",
      "2025-06-27 17:24:59 | saved best model of this fold\n"
     ]
    },
    {
     "name": "stderr",
     "output_type": "stream",
     "text": [
      "                                                                "
     ]
    },
    {
     "name": "stdout",
     "output_type": "stream",
     "text": [
      "2025-06-27 17:25:44 | Fold 3 Ep03 |Train loss 0.9294 | Valid F1 0.6647 | best F1 0.5880 | LR 6.59e-06\n",
      "2025-06-27 17:25:44 | saved best model of this fold\n"
     ]
    },
    {
     "name": "stderr",
     "output_type": "stream",
     "text": [
      "                                                                "
     ]
    },
    {
     "name": "stdout",
     "output_type": "stream",
     "text": [
      "2025-06-27 17:26:27 | Fold 3 Ep04 |Train loss 0.6791 | Valid F1 0.7840 | best F1 0.6647 | LR 9.95e-06\n",
      "2025-06-27 17:26:27 | saved best model of this fold\n"
     ]
    },
    {
     "name": "stderr",
     "output_type": "stream",
     "text": [
      "                                                                "
     ]
    },
    {
     "name": "stdout",
     "output_type": "stream",
     "text": [
      "2025-06-27 17:27:10 | Fold 3 Ep05 |Train loss 0.5616 | Valid F1 0.8034 | best F1 0.7840 | LR 1.40e-05\n",
      "2025-06-27 17:27:11 | saved best model of this fold\n"
     ]
    },
    {
     "name": "stderr",
     "output_type": "stream",
     "text": [
      "                                                                "
     ]
    },
    {
     "name": "stdout",
     "output_type": "stream",
     "text": [
      "2025-06-27 17:27:54 | Fold 3 Ep06 |Train loss 0.4674 | Valid F1 0.8040 | best F1 0.8034 | LR 1.86e-05\n",
      "2025-06-27 17:27:54 | saved best model of this fold\n"
     ]
    },
    {
     "name": "stderr",
     "output_type": "stream",
     "text": [
      "                                                                "
     ]
    },
    {
     "name": "stdout",
     "output_type": "stream",
     "text": [
      "2025-06-27 17:28:37 | Fold 3 Ep07 |Train loss 0.3926 | Valid F1 0.8014 | best F1 0.8040 | LR 2.35e-05\n"
     ]
    },
    {
     "name": "stderr",
     "output_type": "stream",
     "text": [
      "                                                                "
     ]
    },
    {
     "name": "stdout",
     "output_type": "stream",
     "text": [
      "2025-06-27 17:29:22 | Fold 3 Ep08 |Train loss 0.3729 | Valid F1 0.8298 | best F1 0.8040 | LR 2.85e-05\n",
      "2025-06-27 17:29:23 | saved best model of this fold\n"
     ]
    },
    {
     "name": "stderr",
     "output_type": "stream",
     "text": [
      "                                                                "
     ]
    },
    {
     "name": "stdout",
     "output_type": "stream",
     "text": [
      "2025-06-27 17:30:06 | Fold 3 Ep09 |Train loss 0.3146 | Valid F1 0.8304 | best F1 0.8298 | LR 3.34e-05\n",
      "2025-06-27 17:30:06 | saved best model of this fold\n"
     ]
    },
    {
     "name": "stderr",
     "output_type": "stream",
     "text": [
      "                                                                 "
     ]
    },
    {
     "name": "stdout",
     "output_type": "stream",
     "text": [
      "2025-06-27 17:30:50 | Fold 3 Ep10 |Train loss 0.2929 | Valid F1 0.8311 | best F1 0.8304 | LR 3.80e-05\n",
      "2025-06-27 17:30:50 | saved best model of this fold\n"
     ]
    },
    {
     "name": "stderr",
     "output_type": "stream",
     "text": [
      "                                                                 "
     ]
    },
    {
     "name": "stdout",
     "output_type": "stream",
     "text": [
      "2025-06-27 17:31:34 | Fold 3 Ep11 |Train loss 0.2785 | Valid F1 0.8440 | best F1 0.8311 | LR 4.21e-05\n",
      "2025-06-27 17:31:34 | saved best model of this fold\n"
     ]
    },
    {
     "name": "stderr",
     "output_type": "stream",
     "text": [
      "                                                                 "
     ]
    },
    {
     "name": "stdout",
     "output_type": "stream",
     "text": [
      "2025-06-27 17:32:17 | Fold 3 Ep12 |Train loss 0.2324 | Valid F1 0.8556 | best F1 0.8440 | LR 4.54e-05\n",
      "2025-06-27 17:32:18 | saved best model of this fold\n"
     ]
    },
    {
     "name": "stderr",
     "output_type": "stream",
     "text": [
      "                                                                 "
     ]
    },
    {
     "name": "stdout",
     "output_type": "stream",
     "text": [
      "2025-06-27 17:33:03 | Fold 3 Ep13 |Train loss 0.2365 | Valid F1 0.8395 | best F1 0.8556 | LR 4.79e-05\n"
     ]
    },
    {
     "name": "stderr",
     "output_type": "stream",
     "text": [
      "                                                                 "
     ]
    },
    {
     "name": "stdout",
     "output_type": "stream",
     "text": [
      "2025-06-27 17:33:46 | Fold 3 Ep14 |Train loss 0.1837 | Valid F1 0.8175 | best F1 0.8556 | LR 4.95e-05\n"
     ]
    },
    {
     "name": "stderr",
     "output_type": "stream",
     "text": [
      "                                                                 "
     ]
    },
    {
     "name": "stdout",
     "output_type": "stream",
     "text": [
      "2025-06-27 17:34:28 | Fold 3 Ep15 |Train loss 0.1872 | Valid F1 0.8407 | best F1 0.8556 | LR 5.00e-05\n"
     ]
    },
    {
     "name": "stderr",
     "output_type": "stream",
     "text": [
      "                                                                 "
     ]
    },
    {
     "name": "stdout",
     "output_type": "stream",
     "text": [
      "2025-06-27 17:35:11 | Fold 3 Ep16 |Train loss 0.1620 | Valid F1 0.8375 | best F1 0.8556 | LR 4.99e-05\n"
     ]
    },
    {
     "name": "stderr",
     "output_type": "stream",
     "text": [
      "                                                                 "
     ]
    },
    {
     "name": "stdout",
     "output_type": "stream",
     "text": [
      "2025-06-27 17:35:54 | Fold 3 Ep17 |Train loss 0.1556 | Valid F1 0.8324 | best F1 0.8556 | LR 4.96e-05\n"
     ]
    },
    {
     "name": "stderr",
     "output_type": "stream",
     "text": [
      "                                                                 "
     ]
    },
    {
     "name": "stdout",
     "output_type": "stream",
     "text": [
      "2025-06-27 17:36:38 | Fold 3 Ep18 |Train loss 0.1257 | Valid F1 0.8440 | best F1 0.8556 | LR 4.91e-05\n"
     ]
    },
    {
     "name": "stderr",
     "output_type": "stream",
     "text": [
      "                                                                 "
     ]
    },
    {
     "name": "stdout",
     "output_type": "stream",
     "text": [
      "2025-06-27 17:37:22 | Fold 3 Ep19 |Train loss 0.1237 | Valid F1 0.8620 | best F1 0.8556 | LR 4.84e-05\n",
      "2025-06-27 17:37:22 | saved best model of this fold\n"
     ]
    },
    {
     "name": "stderr",
     "output_type": "stream",
     "text": [
      "                                                                 "
     ]
    },
    {
     "name": "stdout",
     "output_type": "stream",
     "text": [
      "2025-06-27 17:38:05 | Fold 3 Ep20 |Train loss 0.1102 | Valid F1 0.8427 | best F1 0.8620 | LR 4.75e-05\n"
     ]
    },
    {
     "name": "stderr",
     "output_type": "stream",
     "text": [
      "                                                                 "
     ]
    },
    {
     "name": "stdout",
     "output_type": "stream",
     "text": [
      "2025-06-27 17:38:48 | Fold 3 Ep21 |Train loss 0.1037 | Valid F1 0.8324 | best F1 0.8620 | LR 4.65e-05\n"
     ]
    },
    {
     "name": "stderr",
     "output_type": "stream",
     "text": [
      "                                                                 "
     ]
    },
    {
     "name": "stdout",
     "output_type": "stream",
     "text": [
      "2025-06-27 17:39:31 | Fold 3 Ep22 |Train loss 0.0860 | Valid F1 0.8536 | best F1 0.8620 | LR 4.52e-05\n"
     ]
    },
    {
     "name": "stderr",
     "output_type": "stream",
     "text": [
      "                                                                 "
     ]
    },
    {
     "name": "stdout",
     "output_type": "stream",
     "text": [
      "2025-06-27 17:40:15 | Fold 3 Ep23 |Train loss 0.0640 | Valid F1 0.8659 | best F1 0.8620 | LR 4.38e-05\n",
      "2025-06-27 17:40:16 | saved best model of this fold\n"
     ]
    },
    {
     "name": "stderr",
     "output_type": "stream",
     "text": [
      "                                                                 "
     ]
    },
    {
     "name": "stdout",
     "output_type": "stream",
     "text": [
      "2025-06-27 17:41:00 | Fold 3 Ep24 |Train loss 0.0737 | Valid F1 0.8536 | best F1 0.8659 | LR 4.23e-05\n"
     ]
    },
    {
     "name": "stderr",
     "output_type": "stream",
     "text": [
      "                                                                 "
     ]
    },
    {
     "name": "stdout",
     "output_type": "stream",
     "text": [
      "2025-06-27 17:41:43 | Fold 3 Ep25 |Train loss 0.0669 | Valid F1 0.8407 | best F1 0.8659 | LR 4.06e-05\n"
     ]
    },
    {
     "name": "stderr",
     "output_type": "stream",
     "text": [
      "                                                                 "
     ]
    },
    {
     "name": "stdout",
     "output_type": "stream",
     "text": [
      "2025-06-27 17:42:26 | Fold 3 Ep26 |Train loss 0.0562 | Valid F1 0.8356 | best F1 0.8659 | LR 3.88e-05\n"
     ]
    },
    {
     "name": "stderr",
     "output_type": "stream",
     "text": [
      "                                                                 "
     ]
    },
    {
     "name": "stdout",
     "output_type": "stream",
     "text": [
      "2025-06-27 17:43:09 | Fold 3 Ep27 |Train loss 0.0532 | Valid F1 0.8485 | best F1 0.8659 | LR 3.68e-05\n"
     ]
    },
    {
     "name": "stderr",
     "output_type": "stream",
     "text": [
      "                                                                 "
     ]
    },
    {
     "name": "stdout",
     "output_type": "stream",
     "text": [
      "2025-06-27 17:43:52 | Fold 3 Ep28 |Train loss 0.0564 | Valid F1 0.8524 | best F1 0.8659 | LR 3.48e-05\n"
     ]
    },
    {
     "name": "stderr",
     "output_type": "stream",
     "text": [
      "                                                                 "
     ]
    },
    {
     "name": "stdout",
     "output_type": "stream",
     "text": [
      "2025-06-27 17:44:36 | Fold 3 Ep29 |Train loss 0.0535 | Valid F1 0.8511 | best F1 0.8659 | LR 3.27e-05\n"
     ]
    },
    {
     "name": "stderr",
     "output_type": "stream",
     "text": [
      "                                                                 "
     ]
    },
    {
     "name": "stdout",
     "output_type": "stream",
     "text": [
      "2025-06-27 17:45:20 | Fold 3 Ep30 |Train loss 0.0346 | Valid F1 0.8478 | best F1 0.8659 | LR 3.06e-05\n"
     ]
    },
    {
     "name": "stderr",
     "output_type": "stream",
     "text": [
      "                                                                 "
     ]
    },
    {
     "name": "stdout",
     "output_type": "stream",
     "text": [
      "2025-06-27 17:46:03 | Fold 3 Ep31 |Train loss 0.0515 | Valid F1 0.8485 | best F1 0.8659 | LR 2.83e-05\n"
     ]
    },
    {
     "name": "stderr",
     "output_type": "stream",
     "text": [
      "                                                                 "
     ]
    },
    {
     "name": "stdout",
     "output_type": "stream",
     "text": [
      "2025-06-27 17:46:46 | Fold 3 Ep32 |Train loss 0.0290 | Valid F1 0.8453 | best F1 0.8659 | LR 2.61e-05\n"
     ]
    },
    {
     "name": "stderr",
     "output_type": "stream",
     "text": [
      "                                                                 "
     ]
    },
    {
     "name": "stdout",
     "output_type": "stream",
     "text": [
      "2025-06-27 17:47:30 | Fold 3 Ep33 |Train loss 0.0252 | Valid F1 0.8536 | best F1 0.8659 | LR 2.39e-05\n",
      "2025-06-27 17:47:30 | early-stop\n",
      "2025-06-27 17:47:30 | \n",
      "=== Fold 4/5 | train 6205 | val 1551 ===\n"
     ]
    },
    {
     "name": "stderr",
     "output_type": "stream",
     "text": [
      "/root/miniconda3/lib/python3.12/site-packages/transformers/configuration_utils.py:311: UserWarning: Passing `gradient_checkpointing` to a config initialization is deprecated and will be removed in v5 Transformers. Using `model.gradient_checkpointing_enable()` instead, or if you are using the `Trainer` API, pass `gradient_checkpointing=True` in your `TrainingArguments`.\n",
      "  warnings.warn(\n",
      "                                                                "
     ]
    },
    {
     "name": "stdout",
     "output_type": "stream",
     "text": [
      "2025-06-27 17:48:14 | Fold 4 Ep01 |Train loss 1.5360 | Valid F1 0.3649 | best F1 0.0000 | LR 2.52e-06\n",
      "2025-06-27 17:48:14 | saved best model of this fold\n"
     ]
    },
    {
     "name": "stderr",
     "output_type": "stream",
     "text": [
      "                                                                "
     ]
    },
    {
     "name": "stdout",
     "output_type": "stream",
     "text": [
      "2025-06-27 17:48:58 | Fold 4 Ep02 |Train loss 1.2944 | Valid F1 0.5538 | best F1 0.3649 | LR 4.08e-06\n",
      "2025-06-27 17:48:58 | saved best model of this fold\n"
     ]
    },
    {
     "name": "stderr",
     "output_type": "stream",
     "text": [
      "                                                                "
     ]
    },
    {
     "name": "stdout",
     "output_type": "stream",
     "text": [
      "2025-06-27 17:49:41 | Fold 4 Ep03 |Train loss 0.9211 | Valid F1 0.6551 | best F1 0.5538 | LR 6.59e-06\n",
      "2025-06-27 17:49:41 | saved best model of this fold\n"
     ]
    },
    {
     "name": "stderr",
     "output_type": "stream",
     "text": [
      "                                                                "
     ]
    },
    {
     "name": "stdout",
     "output_type": "stream",
     "text": [
      "2025-06-27 17:50:24 | Fold 4 Ep04 |Train loss 0.7069 | Valid F1 0.6809 | best F1 0.6551 | LR 9.95e-06\n",
      "2025-06-27 17:50:24 | saved best model of this fold\n"
     ]
    },
    {
     "name": "stderr",
     "output_type": "stream",
     "text": [
      "                                                                "
     ]
    },
    {
     "name": "stdout",
     "output_type": "stream",
     "text": [
      "2025-06-27 17:51:08 | Fold 4 Ep05 |Train loss 0.5648 | Valid F1 0.7963 | best F1 0.6809 | LR 1.40e-05\n",
      "2025-06-27 17:51:09 | saved best model of this fold\n"
     ]
    },
    {
     "name": "stderr",
     "output_type": "stream",
     "text": [
      "                                                                "
     ]
    },
    {
     "name": "stdout",
     "output_type": "stream",
     "text": [
      "2025-06-27 17:51:54 | Fold 4 Ep06 |Train loss 0.4899 | Valid F1 0.7769 | best F1 0.7963 | LR 1.86e-05\n"
     ]
    },
    {
     "name": "stderr",
     "output_type": "stream",
     "text": [
      "                                                                "
     ]
    },
    {
     "name": "stdout",
     "output_type": "stream",
     "text": [
      "2025-06-27 17:52:37 | Fold 4 Ep07 |Train loss 0.4365 | Valid F1 0.8117 | best F1 0.7963 | LR 2.35e-05\n",
      "2025-06-27 17:52:37 | saved best model of this fold\n"
     ]
    },
    {
     "name": "stderr",
     "output_type": "stream",
     "text": [
      "                                                                "
     ]
    },
    {
     "name": "stdout",
     "output_type": "stream",
     "text": [
      "2025-06-27 17:53:21 | Fold 4 Ep08 |Train loss 0.3793 | Valid F1 0.8337 | best F1 0.8117 | LR 2.85e-05\n",
      "2025-06-27 17:53:21 | saved best model of this fold\n"
     ]
    },
    {
     "name": "stderr",
     "output_type": "stream",
     "text": [
      "                                                                "
     ]
    },
    {
     "name": "stdout",
     "output_type": "stream",
     "text": [
      "2025-06-27 17:54:04 | Fold 4 Ep09 |Train loss 0.3244 | Valid F1 0.7847 | best F1 0.8337 | LR 3.34e-05\n"
     ]
    },
    {
     "name": "stderr",
     "output_type": "stream",
     "text": [
      "                                                                 "
     ]
    },
    {
     "name": "stdout",
     "output_type": "stream",
     "text": [
      "2025-06-27 17:54:48 | Fold 4 Ep10 |Train loss 0.3242 | Valid F1 0.8208 | best F1 0.8337 | LR 3.80e-05\n"
     ]
    },
    {
     "name": "stderr",
     "output_type": "stream",
     "text": [
      "                                                                 "
     ]
    },
    {
     "name": "stdout",
     "output_type": "stream",
     "text": [
      "2025-06-27 17:55:33 | Fold 4 Ep11 |Train loss 0.2568 | Valid F1 0.8111 | best F1 0.8337 | LR 4.21e-05\n"
     ]
    },
    {
     "name": "stderr",
     "output_type": "stream",
     "text": [
      "                                                                 "
     ]
    },
    {
     "name": "stdout",
     "output_type": "stream",
     "text": [
      "2025-06-27 17:56:16 | Fold 4 Ep12 |Train loss 0.2561 | Valid F1 0.8459 | best F1 0.8337 | LR 4.54e-05\n",
      "2025-06-27 17:56:16 | saved best model of this fold\n"
     ]
    },
    {
     "name": "stderr",
     "output_type": "stream",
     "text": [
      "                                                                 "
     ]
    },
    {
     "name": "stdout",
     "output_type": "stream",
     "text": [
      "2025-06-27 17:57:00 | Fold 4 Ep13 |Train loss 0.2665 | Valid F1 0.8279 | best F1 0.8459 | LR 4.79e-05\n"
     ]
    },
    {
     "name": "stderr",
     "output_type": "stream",
     "text": [
      "                                                                 "
     ]
    },
    {
     "name": "stdout",
     "output_type": "stream",
     "text": [
      "2025-06-27 17:57:44 | Fold 4 Ep14 |Train loss 0.2231 | Valid F1 0.8324 | best F1 0.8459 | LR 4.95e-05\n"
     ]
    },
    {
     "name": "stderr",
     "output_type": "stream",
     "text": [
      "                                                                 "
     ]
    },
    {
     "name": "stdout",
     "output_type": "stream",
     "text": [
      "2025-06-27 17:58:27 | Fold 4 Ep15 |Train loss 0.1938 | Valid F1 0.8233 | best F1 0.8459 | LR 5.00e-05\n"
     ]
    },
    {
     "name": "stderr",
     "output_type": "stream",
     "text": [
      "                                                                 "
     ]
    },
    {
     "name": "stdout",
     "output_type": "stream",
     "text": [
      "2025-06-27 17:59:12 | Fold 4 Ep16 |Train loss 0.1531 | Valid F1 0.8485 | best F1 0.8459 | LR 4.99e-05\n",
      "2025-06-27 17:59:12 | saved best model of this fold\n"
     ]
    },
    {
     "name": "stderr",
     "output_type": "stream",
     "text": [
      "                                                                 "
     ]
    },
    {
     "name": "stdout",
     "output_type": "stream",
     "text": [
      "2025-06-27 17:59:55 | Fold 4 Ep17 |Train loss 0.1377 | Valid F1 0.8085 | best F1 0.8485 | LR 4.96e-05\n"
     ]
    },
    {
     "name": "stderr",
     "output_type": "stream",
     "text": [
      "                                                                 "
     ]
    },
    {
     "name": "stdout",
     "output_type": "stream",
     "text": [
      "2025-06-27 18:00:37 | Fold 4 Ep18 |Train loss 0.1379 | Valid F1 0.8253 | best F1 0.8485 | LR 4.91e-05\n"
     ]
    },
    {
     "name": "stderr",
     "output_type": "stream",
     "text": [
      "                                                                 "
     ]
    },
    {
     "name": "stdout",
     "output_type": "stream",
     "text": [
      "2025-06-27 18:01:20 | Fold 4 Ep19 |Train loss 0.1476 | Valid F1 0.8420 | best F1 0.8485 | LR 4.84e-05\n"
     ]
    },
    {
     "name": "stderr",
     "output_type": "stream",
     "text": [
      "                                                                 "
     ]
    },
    {
     "name": "stdout",
     "output_type": "stream",
     "text": [
      "2025-06-27 18:02:04 | Fold 4 Ep20 |Train loss 0.1138 | Valid F1 0.8491 | best F1 0.8485 | LR 4.75e-05\n",
      "2025-06-27 18:02:04 | saved best model of this fold\n"
     ]
    },
    {
     "name": "stderr",
     "output_type": "stream",
     "text": [
      "                                                                 "
     ]
    },
    {
     "name": "stdout",
     "output_type": "stream",
     "text": [
      "2025-06-27 18:02:48 | Fold 4 Ep21 |Train loss 0.0891 | Valid F1 0.8543 | best F1 0.8491 | LR 4.65e-05\n",
      "2025-06-27 18:02:49 | saved best model of this fold\n"
     ]
    },
    {
     "name": "stderr",
     "output_type": "stream",
     "text": [
      "                                                                 "
     ]
    },
    {
     "name": "stdout",
     "output_type": "stream",
     "text": [
      "2025-06-27 18:03:32 | Fold 4 Ep22 |Train loss 0.0879 | Valid F1 0.8259 | best F1 0.8543 | LR 4.52e-05\n"
     ]
    },
    {
     "name": "stderr",
     "output_type": "stream",
     "text": [
      "                                                                 "
     ]
    },
    {
     "name": "stdout",
     "output_type": "stream",
     "text": [
      "2025-06-27 18:04:15 | Fold 4 Ep23 |Train loss 0.0821 | Valid F1 0.8401 | best F1 0.8543 | LR 4.38e-05\n"
     ]
    },
    {
     "name": "stderr",
     "output_type": "stream",
     "text": [
      "                                                                 "
     ]
    },
    {
     "name": "stdout",
     "output_type": "stream",
     "text": [
      "2025-06-27 18:04:59 | Fold 4 Ep24 |Train loss 0.0661 | Valid F1 0.8511 | best F1 0.8543 | LR 4.23e-05\n"
     ]
    },
    {
     "name": "stderr",
     "output_type": "stream",
     "text": [
      "                                                                 "
     ]
    },
    {
     "name": "stdout",
     "output_type": "stream",
     "text": [
      "2025-06-27 18:05:41 | Fold 4 Ep25 |Train loss 0.0584 | Valid F1 0.8414 | best F1 0.8543 | LR 4.06e-05\n"
     ]
    },
    {
     "name": "stderr",
     "output_type": "stream",
     "text": [
      "                                                                 "
     ]
    },
    {
     "name": "stdout",
     "output_type": "stream",
     "text": [
      "2025-06-27 18:06:25 | Fold 4 Ep26 |Train loss 0.0616 | Valid F1 0.8433 | best F1 0.8543 | LR 3.88e-05\n"
     ]
    },
    {
     "name": "stderr",
     "output_type": "stream",
     "text": [
      "                                                                 "
     ]
    },
    {
     "name": "stdout",
     "output_type": "stream",
     "text": [
      "2025-06-27 18:07:08 | Fold 4 Ep27 |Train loss 0.0536 | Valid F1 0.8652 | best F1 0.8543 | LR 3.68e-05\n",
      "2025-06-27 18:07:09 | saved best model of this fold\n"
     ]
    },
    {
     "name": "stderr",
     "output_type": "stream",
     "text": [
      "                                                                 "
     ]
    },
    {
     "name": "stdout",
     "output_type": "stream",
     "text": [
      "2025-06-27 18:07:52 | Fold 4 Ep28 |Train loss 0.0511 | Valid F1 0.8349 | best F1 0.8652 | LR 3.48e-05\n"
     ]
    },
    {
     "name": "stderr",
     "output_type": "stream",
     "text": [
      "                                                                 "
     ]
    },
    {
     "name": "stdout",
     "output_type": "stream",
     "text": [
      "2025-06-27 18:08:35 | Fold 4 Ep29 |Train loss 0.0331 | Valid F1 0.8343 | best F1 0.8652 | LR 3.27e-05\n"
     ]
    },
    {
     "name": "stderr",
     "output_type": "stream",
     "text": [
      "                                                                 "
     ]
    },
    {
     "name": "stdout",
     "output_type": "stream",
     "text": [
      "2025-06-27 18:09:18 | Fold 4 Ep30 |Train loss 0.0316 | Valid F1 0.8453 | best F1 0.8652 | LR 3.06e-05\n"
     ]
    },
    {
     "name": "stderr",
     "output_type": "stream",
     "text": [
      "                                                                 "
     ]
    },
    {
     "name": "stdout",
     "output_type": "stream",
     "text": [
      "2025-06-27 18:10:01 | Fold 4 Ep31 |Train loss 0.0284 | Valid F1 0.8562 | best F1 0.8652 | LR 2.83e-05\n"
     ]
    },
    {
     "name": "stderr",
     "output_type": "stream",
     "text": [
      "                                                                 "
     ]
    },
    {
     "name": "stdout",
     "output_type": "stream",
     "text": [
      "2025-06-27 18:10:45 | Fold 4 Ep32 |Train loss 0.0334 | Valid F1 0.8607 | best F1 0.8652 | LR 2.61e-05\n"
     ]
    },
    {
     "name": "stderr",
     "output_type": "stream",
     "text": [
      "                                                                 "
     ]
    },
    {
     "name": "stdout",
     "output_type": "stream",
     "text": [
      "2025-06-27 18:11:28 | Fold 4 Ep33 |Train loss 0.0333 | Valid F1 0.8614 | best F1 0.8652 | LR 2.39e-05\n"
     ]
    },
    {
     "name": "stderr",
     "output_type": "stream",
     "text": [
      "                                                                 "
     ]
    },
    {
     "name": "stdout",
     "output_type": "stream",
     "text": [
      "2025-06-27 18:12:11 | Fold 4 Ep34 |Train loss 0.0326 | Valid F1 0.8504 | best F1 0.8652 | LR 2.16e-05\n"
     ]
    },
    {
     "name": "stderr",
     "output_type": "stream",
     "text": [
      "                                                                 "
     ]
    },
    {
     "name": "stdout",
     "output_type": "stream",
     "text": [
      "2025-06-27 18:12:55 | Fold 4 Ep35 |Train loss 0.0205 | Valid F1 0.8678 | best F1 0.8652 | LR 1.94e-05\n",
      "2025-06-27 18:12:55 | saved best model of this fold\n"
     ]
    },
    {
     "name": "stderr",
     "output_type": "stream",
     "text": [
      "                                                                 "
     ]
    },
    {
     "name": "stdout",
     "output_type": "stream",
     "text": [
      "2025-06-27 18:13:39 | Fold 4 Ep36 |Train loss 0.0190 | Valid F1 0.8594 | best F1 0.8678 | LR 1.73e-05\n"
     ]
    },
    {
     "name": "stderr",
     "output_type": "stream",
     "text": [
      "                                                                 "
     ]
    },
    {
     "name": "stdout",
     "output_type": "stream",
     "text": [
      "2025-06-27 18:14:24 | Fold 4 Ep37 |Train loss 0.0155 | Valid F1 0.8530 | best F1 0.8678 | LR 1.52e-05\n"
     ]
    },
    {
     "name": "stderr",
     "output_type": "stream",
     "text": [
      "                                                                 "
     ]
    },
    {
     "name": "stdout",
     "output_type": "stream",
     "text": [
      "2025-06-27 18:15:07 | Fold 4 Ep38 |Train loss 0.0129 | Valid F1 0.8536 | best F1 0.8678 | LR 1.31e-05\n"
     ]
    },
    {
     "name": "stderr",
     "output_type": "stream",
     "text": [
      "                                                                 "
     ]
    },
    {
     "name": "stdout",
     "output_type": "stream",
     "text": [
      "2025-06-27 18:15:52 | Fold 4 Ep39 |Train loss 0.0114 | Valid F1 0.8543 | best F1 0.8678 | LR 1.12e-05\n"
     ]
    },
    {
     "name": "stderr",
     "output_type": "stream",
     "text": [
      "                                                                 "
     ]
    },
    {
     "name": "stdout",
     "output_type": "stream",
     "text": [
      "2025-06-27 18:16:35 | Fold 4 Ep40 |Train loss 0.0110 | Valid F1 0.8646 | best F1 0.8678 | LR 9.40e-06\n"
     ]
    },
    {
     "name": "stderr",
     "output_type": "stream",
     "text": [
      "                                                                 "
     ]
    },
    {
     "name": "stdout",
     "output_type": "stream",
     "text": [
      "2025-06-27 18:17:19 | Fold 4 Ep41 |Train loss 0.0099 | Valid F1 0.8549 | best F1 0.8678 | LR 7.72e-06\n"
     ]
    },
    {
     "name": "stderr",
     "output_type": "stream",
     "text": [
      "                                                                 "
     ]
    },
    {
     "name": "stdout",
     "output_type": "stream",
     "text": [
      "2025-06-27 18:18:02 | Fold 4 Ep42 |Train loss 0.0101 | Valid F1 0.8659 | best F1 0.8678 | LR 6.17e-06\n"
     ]
    },
    {
     "name": "stderr",
     "output_type": "stream",
     "text": [
      "                                                                 "
     ]
    },
    {
     "name": "stdout",
     "output_type": "stream",
     "text": [
      "2025-06-27 18:18:46 | Fold 4 Ep43 |Train loss 0.0045 | Valid F1 0.8607 | best F1 0.8678 | LR 4.77e-06\n"
     ]
    },
    {
     "name": "stderr",
     "output_type": "stream",
     "text": [
      "                                                                 "
     ]
    },
    {
     "name": "stdout",
     "output_type": "stream",
     "text": [
      "2025-06-27 18:19:29 | Fold 4 Ep44 |Train loss 0.0047 | Valid F1 0.8665 | best F1 0.8678 | LR 3.53e-06\n"
     ]
    },
    {
     "name": "stderr",
     "output_type": "stream",
     "text": [
      "                                                                 "
     ]
    },
    {
     "name": "stdout",
     "output_type": "stream",
     "text": [
      "2025-06-27 18:20:12 | Fold 4 Ep45 |Train loss 0.0055 | Valid F1 0.8659 | best F1 0.8678 | LR 2.47e-06\n",
      "2025-06-27 18:20:12 | early-stop\n",
      "2025-06-27 18:20:12 | \n",
      "=== Fold 5/5 | train 6205 | val 1551 ===\n"
     ]
    },
    {
     "name": "stderr",
     "output_type": "stream",
     "text": [
      "/root/miniconda3/lib/python3.12/site-packages/transformers/configuration_utils.py:311: UserWarning: Passing `gradient_checkpointing` to a config initialization is deprecated and will be removed in v5 Transformers. Using `model.gradient_checkpointing_enable()` instead, or if you are using the `Trainer` API, pass `gradient_checkpointing=True` in your `TrainingArguments`.\n",
      "  warnings.warn(\n",
      "                                                                "
     ]
    },
    {
     "name": "stdout",
     "output_type": "stream",
     "text": [
      "2025-06-27 18:20:56 | Fold 5 Ep01 |Train loss 1.5192 | Valid F1 0.3972 | best F1 0.0000 | LR 2.52e-06\n",
      "2025-06-27 18:20:57 | saved best model of this fold\n"
     ]
    },
    {
     "name": "stderr",
     "output_type": "stream",
     "text": [
      "                                                                "
     ]
    },
    {
     "name": "stdout",
     "output_type": "stream",
     "text": [
      "2025-06-27 18:21:41 | Fold 5 Ep02 |Train loss 1.2716 | Valid F1 0.6254 | best F1 0.3972 | LR 4.08e-06\n",
      "2025-06-27 18:21:41 | saved best model of this fold\n"
     ]
    },
    {
     "name": "stderr",
     "output_type": "stream",
     "text": [
      "                                                                "
     ]
    },
    {
     "name": "stdout",
     "output_type": "stream",
     "text": [
      "2025-06-27 18:22:24 | Fold 5 Ep03 |Train loss 0.9012 | Valid F1 0.6796 | best F1 0.6254 | LR 6.59e-06\n",
      "2025-06-27 18:22:24 | saved best model of this fold\n"
     ]
    },
    {
     "name": "stderr",
     "output_type": "stream",
     "text": [
      "                                                                "
     ]
    },
    {
     "name": "stdout",
     "output_type": "stream",
     "text": [
      "2025-06-27 18:23:07 | Fold 5 Ep04 |Train loss 0.6747 | Valid F1 0.7640 | best F1 0.6796 | LR 9.95e-06\n",
      "2025-06-27 18:23:08 | saved best model of this fold\n"
     ]
    },
    {
     "name": "stderr",
     "output_type": "stream",
     "text": [
      "                                                                "
     ]
    },
    {
     "name": "stdout",
     "output_type": "stream",
     "text": [
      "2025-06-27 18:23:50 | Fold 5 Ep05 |Train loss 0.5294 | Valid F1 0.7834 | best F1 0.7640 | LR 1.40e-05\n",
      "2025-06-27 18:23:51 | saved best model of this fold\n"
     ]
    },
    {
     "name": "stderr",
     "output_type": "stream",
     "text": [
      "                                                                "
     ]
    },
    {
     "name": "stdout",
     "output_type": "stream",
     "text": [
      "2025-06-27 18:24:20 | Fold 5 Ep06 |Train loss 0.4464 | Valid F1 0.8162 | best F1 0.7834 | LR 1.86e-05\n",
      "2025-06-27 18:24:20 | saved best model of this fold\n"
     ]
    },
    {
     "name": "stderr",
     "output_type": "stream",
     "text": [
      "                                                                "
     ]
    },
    {
     "name": "stdout",
     "output_type": "stream",
     "text": [
      "2025-06-27 18:24:49 | Fold 5 Ep07 |Train loss 0.4087 | Valid F1 0.8092 | best F1 0.8162 | LR 2.35e-05\n"
     ]
    },
    {
     "name": "stderr",
     "output_type": "stream",
     "text": [
      "                                                                "
     ]
    },
    {
     "name": "stdout",
     "output_type": "stream",
     "text": [
      "2025-06-27 18:25:18 | Fold 5 Ep08 |Train loss 0.3427 | Valid F1 0.7769 | best F1 0.8162 | LR 2.85e-05\n"
     ]
    },
    {
     "name": "stderr",
     "output_type": "stream",
     "text": [
      "                                                                "
     ]
    },
    {
     "name": "stdout",
     "output_type": "stream",
     "text": [
      "2025-06-27 18:25:48 | Fold 5 Ep09 |Train loss 0.3348 | Valid F1 0.8001 | best F1 0.8162 | LR 3.34e-05\n"
     ]
    },
    {
     "name": "stderr",
     "output_type": "stream",
     "text": [
      "                                                                 "
     ]
    },
    {
     "name": "stdout",
     "output_type": "stream",
     "text": [
      "2025-06-27 18:26:17 | Fold 5 Ep10 |Train loss 0.2796 | Valid F1 0.8124 | best F1 0.8162 | LR 3.80e-05\n"
     ]
    },
    {
     "name": "stderr",
     "output_type": "stream",
     "text": [
      "                                                                 "
     ]
    },
    {
     "name": "stdout",
     "output_type": "stream",
     "text": [
      "2025-06-27 18:26:45 | Fold 5 Ep11 |Train loss 0.2542 | Valid F1 0.8272 | best F1 0.8162 | LR 4.21e-05\n",
      "2025-06-27 18:26:46 | saved best model of this fold\n"
     ]
    },
    {
     "name": "stderr",
     "output_type": "stream",
     "text": [
      "                                                                 "
     ]
    },
    {
     "name": "stdout",
     "output_type": "stream",
     "text": [
      "2025-06-27 18:27:15 | Fold 5 Ep12 |Train loss 0.2325 | Valid F1 0.8317 | best F1 0.8272 | LR 4.54e-05\n",
      "2025-06-27 18:27:16 | saved best model of this fold\n"
     ]
    },
    {
     "name": "stderr",
     "output_type": "stream",
     "text": [
      "                                                                 "
     ]
    },
    {
     "name": "stdout",
     "output_type": "stream",
     "text": [
      "2025-06-27 18:27:45 | Fold 5 Ep13 |Train loss 0.2408 | Valid F1 0.8266 | best F1 0.8317 | LR 4.79e-05\n"
     ]
    },
    {
     "name": "stderr",
     "output_type": "stream",
     "text": [
      "                                                                 "
     ]
    },
    {
     "name": "stdout",
     "output_type": "stream",
     "text": [
      "2025-06-27 18:28:14 | Fold 5 Ep14 |Train loss 0.1978 | Valid F1 0.8221 | best F1 0.8317 | LR 4.95e-05\n"
     ]
    },
    {
     "name": "stderr",
     "output_type": "stream",
     "text": [
      "                                                                 "
     ]
    },
    {
     "name": "stdout",
     "output_type": "stream",
     "text": [
      "2025-06-27 18:28:43 | Fold 5 Ep15 |Train loss 0.1648 | Valid F1 0.8208 | best F1 0.8317 | LR 5.00e-05\n"
     ]
    },
    {
     "name": "stderr",
     "output_type": "stream",
     "text": [
      "                                                                 "
     ]
    },
    {
     "name": "stdout",
     "output_type": "stream",
     "text": [
      "2025-06-27 18:29:12 | Fold 5 Ep16 |Train loss 0.1797 | Valid F1 0.8356 | best F1 0.8317 | LR 4.99e-05\n",
      "2025-06-27 18:29:13 | saved best model of this fold\n"
     ]
    },
    {
     "name": "stderr",
     "output_type": "stream",
     "text": [
      "                                                                 "
     ]
    },
    {
     "name": "stdout",
     "output_type": "stream",
     "text": [
      "2025-06-27 18:29:41 | Fold 5 Ep17 |Train loss 0.1447 | Valid F1 0.8446 | best F1 0.8356 | LR 4.96e-05\n",
      "2025-06-27 18:29:41 | saved best model of this fold\n"
     ]
    },
    {
     "name": "stderr",
     "output_type": "stream",
     "text": [
      "                                                                 "
     ]
    },
    {
     "name": "stdout",
     "output_type": "stream",
     "text": [
      "2025-06-27 18:30:10 | Fold 5 Ep18 |Train loss 0.1168 | Valid F1 0.8279 | best F1 0.8446 | LR 4.91e-05\n"
     ]
    },
    {
     "name": "stderr",
     "output_type": "stream",
     "text": [
      "                                                                 "
     ]
    },
    {
     "name": "stdout",
     "output_type": "stream",
     "text": [
      "2025-06-27 18:30:39 | Fold 5 Ep19 |Train loss 0.1109 | Valid F1 0.8388 | best F1 0.8446 | LR 4.84e-05\n"
     ]
    },
    {
     "name": "stderr",
     "output_type": "stream",
     "text": [
      "                                                                 "
     ]
    },
    {
     "name": "stdout",
     "output_type": "stream",
     "text": [
      "2025-06-27 18:31:08 | Fold 5 Ep20 |Train loss 0.1011 | Valid F1 0.8414 | best F1 0.8446 | LR 4.75e-05\n"
     ]
    },
    {
     "name": "stderr",
     "output_type": "stream",
     "text": [
      "                                                                 "
     ]
    },
    {
     "name": "stdout",
     "output_type": "stream",
     "text": [
      "2025-06-27 18:31:37 | Fold 5 Ep21 |Train loss 0.0842 | Valid F1 0.8317 | best F1 0.8446 | LR 4.65e-05\n"
     ]
    },
    {
     "name": "stderr",
     "output_type": "stream",
     "text": [
      "                                                                 "
     ]
    },
    {
     "name": "stdout",
     "output_type": "stream",
     "text": [
      "2025-06-27 18:32:05 | Fold 5 Ep22 |Train loss 0.0851 | Valid F1 0.8453 | best F1 0.8446 | LR 4.52e-05\n",
      "2025-06-27 18:32:06 | saved best model of this fold\n"
     ]
    },
    {
     "name": "stderr",
     "output_type": "stream",
     "text": [
      "                                                                 "
     ]
    },
    {
     "name": "stdout",
     "output_type": "stream",
     "text": [
      "2025-06-27 18:32:34 | Fold 5 Ep23 |Train loss 0.0927 | Valid F1 0.8407 | best F1 0.8453 | LR 4.38e-05\n"
     ]
    },
    {
     "name": "stderr",
     "output_type": "stream",
     "text": [
      "                                                                 "
     ]
    },
    {
     "name": "stdout",
     "output_type": "stream",
     "text": [
      "2025-06-27 18:33:03 | Fold 5 Ep24 |Train loss 0.0784 | Valid F1 0.8607 | best F1 0.8453 | LR 4.23e-05\n",
      "2025-06-27 18:33:03 | saved best model of this fold\n"
     ]
    },
    {
     "name": "stderr",
     "output_type": "stream",
     "text": [
      "                                                                 "
     ]
    },
    {
     "name": "stdout",
     "output_type": "stream",
     "text": [
      "2025-06-27 18:33:32 | Fold 5 Ep25 |Train loss 0.0696 | Valid F1 0.8517 | best F1 0.8607 | LR 4.06e-05\n"
     ]
    },
    {
     "name": "stderr",
     "output_type": "stream",
     "text": [
      "                                                                 "
     ]
    },
    {
     "name": "stdout",
     "output_type": "stream",
     "text": [
      "2025-06-27 18:34:01 | Fold 5 Ep26 |Train loss 0.0561 | Valid F1 0.8304 | best F1 0.8607 | LR 3.88e-05\n"
     ]
    },
    {
     "name": "stderr",
     "output_type": "stream",
     "text": [
      "                                                                 "
     ]
    },
    {
     "name": "stdout",
     "output_type": "stream",
     "text": [
      "2025-06-27 18:34:30 | Fold 5 Ep27 |Train loss 0.0551 | Valid F1 0.8698 | best F1 0.8607 | LR 3.68e-05\n",
      "2025-06-27 18:34:30 | saved best model of this fold\n"
     ]
    },
    {
     "name": "stderr",
     "output_type": "stream",
     "text": [
      "                                                                 "
     ]
    },
    {
     "name": "stdout",
     "output_type": "stream",
     "text": [
      "2025-06-27 18:34:59 | Fold 5 Ep28 |Train loss 0.0501 | Valid F1 0.8433 | best F1 0.8698 | LR 3.48e-05\n"
     ]
    },
    {
     "name": "stderr",
     "output_type": "stream",
     "text": [
      "                                                                 "
     ]
    },
    {
     "name": "stdout",
     "output_type": "stream",
     "text": [
      "2025-06-27 18:35:29 | Fold 5 Ep29 |Train loss 0.0399 | Valid F1 0.8575 | best F1 0.8698 | LR 3.27e-05\n"
     ]
    },
    {
     "name": "stderr",
     "output_type": "stream",
     "text": [
      "                                                                 "
     ]
    },
    {
     "name": "stdout",
     "output_type": "stream",
     "text": [
      "2025-06-27 18:35:58 | Fold 5 Ep30 |Train loss 0.0327 | Valid F1 0.8453 | best F1 0.8698 | LR 3.06e-05\n"
     ]
    },
    {
     "name": "stderr",
     "output_type": "stream",
     "text": [
      "                                                                 "
     ]
    },
    {
     "name": "stdout",
     "output_type": "stream",
     "text": [
      "2025-06-27 18:36:26 | Fold 5 Ep31 |Train loss 0.0351 | Valid F1 0.8614 | best F1 0.8698 | LR 2.83e-05\n"
     ]
    },
    {
     "name": "stderr",
     "output_type": "stream",
     "text": [
      "                                                                 "
     ]
    },
    {
     "name": "stdout",
     "output_type": "stream",
     "text": [
      "2025-06-27 18:36:55 | Fold 5 Ep32 |Train loss 0.0354 | Valid F1 0.8562 | best F1 0.8698 | LR 2.61e-05\n"
     ]
    },
    {
     "name": "stderr",
     "output_type": "stream",
     "text": [
      "                                                                 "
     ]
    },
    {
     "name": "stdout",
     "output_type": "stream",
     "text": [
      "2025-06-27 18:37:23 | Fold 5 Ep33 |Train loss 0.0293 | Valid F1 0.8672 | best F1 0.8698 | LR 2.39e-05\n"
     ]
    },
    {
     "name": "stderr",
     "output_type": "stream",
     "text": [
      "                                                                 "
     ]
    },
    {
     "name": "stdout",
     "output_type": "stream",
     "text": [
      "2025-06-27 18:37:51 | Fold 5 Ep34 |Train loss 0.0185 | Valid F1 0.8562 | best F1 0.8698 | LR 2.16e-05\n"
     ]
    },
    {
     "name": "stderr",
     "output_type": "stream",
     "text": [
      "                                                                 "
     ]
    },
    {
     "name": "stdout",
     "output_type": "stream",
     "text": [
      "2025-06-27 18:38:19 | Fold 5 Ep35 |Train loss 0.0207 | Valid F1 0.8549 | best F1 0.8698 | LR 1.94e-05\n"
     ]
    },
    {
     "name": "stderr",
     "output_type": "stream",
     "text": [
      "                                                                 "
     ]
    },
    {
     "name": "stdout",
     "output_type": "stream",
     "text": [
      "2025-06-27 18:38:48 | Fold 5 Ep36 |Train loss 0.0162 | Valid F1 0.8640 | best F1 0.8698 | LR 1.73e-05\n"
     ]
    },
    {
     "name": "stderr",
     "output_type": "stream",
     "text": [
      "                                                                 "
     ]
    },
    {
     "name": "stdout",
     "output_type": "stream",
     "text": [
      "2025-06-27 18:39:18 | Fold 5 Ep37 |Train loss 0.0092 | Valid F1 0.8652 | best F1 0.8698 | LR 1.52e-05\n",
      "2025-06-27 18:39:18 | early-stop\n",
      "2025-06-27 18:39:18 | \n",
      " Five-fold overall OOF F1 = 0.8635\n"
     ]
    }
   ],
   "source": [
    "import os, datetime, random, torch, torch.nn.functional as F\n",
    "from torch.utils.data import DataLoader, Subset\n",
    "from sklearn.model_selection import StratifiedKFold\n",
    "from sklearn.metrics import f1_score\n",
    "from tqdm import tqdm\n",
    "import numpy as np\n",
    "\n",
    "train_mode = 'fivefold'\n",
    "if train_mode == 'fivefold':  # 'fivefold' \n",
    "    # ========== 日志 ==========\n",
    "    log_path = \"train_log.txt\"\n",
    "    def log(msg):\n",
    "        ts = datetime.datetime.now().strftime(\"%Y-%m-%d %H:%M:%S\")\n",
    "        line = f\"{ts} | {msg}\"\n",
    "        print(line)\n",
    "        with open(log_path, \"a\") as f:\n",
    "            f.write(line + \"\\n\")\n",
    "    \n",
    "    # ========== 数据 ==========\n",
    "    root      = \"datasets/67fc7ccbb88b01da6626732d-momodel/train/\"\n",
    "    full_ds   = WavDataset(root)\n",
    "    indices   = np.arange(len(full_ds))\n",
    "    labels    = np.array(full_ds.lbl)\n",
    "    \n",
    "    batch_sz  = 32\n",
    "    device    = \"cuda\" if torch.cuda.is_available() else \"cpu\"\n",
    "    n_folds   = 5\n",
    "    max_epochs= 50\n",
    "    patience  = 10\n",
    "    \n",
    "    # OOF 容器\n",
    "    oof_pred  = np.zeros(len(full_ds), dtype=int)\n",
    "    oof_label = labels.copy()\n",
    "    \n",
    "    skf = StratifiedKFold(n_splits=n_folds, shuffle=True, random_state=42)\n",
    "    \n",
    "    log(f\"===== 5-Fold Training start — total samples {len(full_ds)} =====\")\n",
    "    \n",
    "    for fold, (tr_idx, va_idx) in enumerate(skf.split(indices, labels), 1):\n",
    "        log(f\"\\n=== Fold {fold}/{n_folds} | train {len(tr_idx)} | val {len(va_idx)} ===\")\n",
    "    \n",
    "        tr_ds, va_ds = Subset(full_ds, tr_idx), Subset(full_ds, va_idx)\n",
    "        train_loader = DataLoader(tr_ds, batch_sz, True,  num_workers=4,\n",
    "                              collate_fn=collate_hf, drop_last=True)\n",
    "        val_loader   = DataLoader(va_ds, batch_sz, False, num_workers=4,\n",
    "                                  collate_fn=collate_hf)\n",
    "    \n",
    "        model  = HF_Wav2Vec2SER(num_cls=5, freeze_feat=True).to(device)\n",
    "        optim  = torch.optim.AdamW(filter(lambda p: p.requires_grad, model.parameters()),\n",
    "                                   lr=3e-5, weight_decay=1e-4)\n",
    "    \n",
    "        steps_per_epoch = len(train_loader)\n",
    "        sched  = torch.optim.lr_scheduler.OneCycleLR(\n",
    "            optim,\n",
    "            max_lr=5e-5,                 # 峰值 LR\n",
    "            epochs=max_epochs,\n",
    "            steps_per_epoch=steps_per_epoch,\n",
    "            pct_start=0.30,\n",
    "            div_factor=25,\n",
    "            final_div_factor=1e4,\n",
    "            anneal_strategy='cos'\n",
    "        )\n",
    "        scaler = torch.amp.GradScaler()\n",
    "    \n",
    "        best_f1, wait = 0.0, 0\n",
    "        for epoch in range(1, max_epochs + 1):\n",
    "            # -------- Train --------\n",
    "            model.train(); total_loss = 0\n",
    "            for wav, attn, y in tqdm(train_loader,\n",
    "                                     desc=f\"F{fold} E{epoch} [Train]\", leave=False):\n",
    "                wav, attn, y = wav.to(device), attn.to(device), y.to(device)\n",
    "                optim.zero_grad(set_to_none=True)\n",
    "                with torch.amp.autocast(device_type=device):\n",
    "                    loss = F.cross_entropy(model(wav, attn), y)\n",
    "                scaler.scale(loss).backward()\n",
    "                scaler.step(optim); scaler.update()\n",
    "    \n",
    "                sched.step()                     # ← 每个 batch 更新 LR\n",
    "                total_loss += loss.item()\n",
    "    \n",
    "            avg_loss = total_loss / len(train_loader)\n",
    "    \n",
    "            # -------- Eval --------\n",
    "            model.eval(); va_pred = []\n",
    "            with torch.no_grad(), torch.amp.autocast(device_type=device):\n",
    "                for wav, attn, y in val_loader:\n",
    "                    logits = model(wav.to(device), attn.to(device))\n",
    "                    va_pred += logits.argmax(1).cpu().tolist()\n",
    "            f1 = f1_score(labels[va_idx], va_pred, average=\"micro\")\n",
    "            log(f\"Fold {fold} Ep{epoch:02d} |Train loss {avg_loss:.4f} \"\n",
    "                f\"| Valid F1 {f1:.4f} | best F1 {best_f1:.4f} \"\n",
    "                f\"| LR {sched.get_last_lr()[0]:.2e}\")\n",
    "    \n",
    "            # -------- Early-stop & Save --------\n",
    "            if f1 > best_f1:\n",
    "                best_f1, wait = f1, 0\n",
    "                torch.save(model.state_dict(), f\"wav2vec2_fold{fold}.pt\")\n",
    "                log(\"saved best model of this fold\")\n",
    "            else:\n",
    "                wait += 1\n",
    "            if wait >= patience:\n",
    "                log(\"early-stop\")\n",
    "                break\n",
    "    \n",
    "        # 填 OOF\n",
    "        oof_pred[va_idx] = va_pred\n",
    "    \n",
    "    # ===== 计算整体 OOF F1 =====\n",
    "    oof_f1 = f1_score(oof_label, oof_pred, average=\"micro\")\n",
    "    log(f\"\\n Five-fold overall OOF F1 = {oof_f1:.4f}\")"
   ]
  },
  {
   "cell_type": "markdown",
   "id": "52b9351e",
   "metadata": {},
   "source": [
    "## 7. 评分"
   ]
  },
  {
   "cell_type": "code",
   "execution_count": null,
   "id": "195a70e3-ac34-4d08-8605-b54e46ddccd9",
   "metadata": {},
   "outputs": [],
   "source": [
    "import torch, torchaudio, torch.nn.functional as F, random\n",
    "from torch.utils.data import Dataset, DataLoader\n",
    "from transformers import Wav2Vec2FeatureExtractor\n",
    "\n",
    "label_names = ['anger', 'fear', 'happy', 'neutral', 'sad']\n",
    "PRETRAINED_DIR = \"./wav2vec2-base\"\n",
    "feature_extractor = Wav2Vec2FeatureExtractor.from_pretrained(PRETRAINED_DIR)\n",
    "device = torch.device(\"cuda\" if torch.cuda.is_available() else \"cpu\")\n",
    "\n",
    "# ---------- 模型结构 ----------\n",
    "class HF_Wav2Vec2SER(torch.nn.Module):\n",
    "    def __init__(self, num_cls=5, freeze_feat=True, pool=\"mean\"):\n",
    "        super().__init__()\n",
    "        from transformers import Wav2Vec2Model\n",
    "        self.encoder = Wav2Vec2Model.from_pretrained(PRETRAINED_DIR)\n",
    "        if freeze_feat:\n",
    "            self.encoder.feature_extractor.requires_grad_(False)\n",
    "        hid = self.encoder.config.hidden_size\n",
    "        self.pool = (lambda h: h.mean(1)) if pool == \"mean\" else (lambda h: h[:, 0])\n",
    "        self.classifier = torch.nn.Sequential(\n",
    "            torch.nn.Linear(hid, 128),\n",
    "            torch.nn.ReLU(),\n",
    "            torch.nn.Dropout(0.3),\n",
    "            torch.nn.Linear(128, num_cls)\n",
    "        )\n",
    "\n",
    "    def forward(self, wav, attn_mask):\n",
    "        h = self.encoder(wav, attention_mask=attn_mask, return_dict=True\n",
    "                        ).last_hidden_state         # [B,T,C]\n",
    "        x = self.pool(h)                             # [B,C]\n",
    "        return self.classifier(x)                    # [B,num_cls]\n",
    "\n",
    "# ---------- 加载5折模型 ----------\n",
    "models = []\n",
    "for i in tqdm(range(1, 6)):\n",
    "    model = HF_Wav2Vec2SER(num_cls=len(label_names)).to(device)\n",
    "    model.load_state_dict(torch.load(f\"model_fold{i}.pt\", map_location=device), strict=True)\n",
    "    model.eval()\n",
    "    models.append(model)\n",
    "\n",
    "# ---------- 推理用 Dataset ----------\n",
    "class InferenceDataset(Dataset):\n",
    "    def __init__(self, waves, srs, sr_t=44_100, max_sec=3, training=False):\n",
    "        assert len(waves) == len(srs)\n",
    "        self.waves, self.srs = waves, srs\n",
    "        self.sr_t, self.max_len = sr_t, max_sec * sr_t\n",
    "        self.training = training\n",
    "        \n",
    "    def __len__(self): return len(self.waves)\n",
    "\n",
    "    def __getitem__(self, idx):\n",
    "        w, sr = self.waves[idx], self.srs[idx]\n",
    "        if sr != self.sr_t:\n",
    "            w = torchaudio.functional.resample(w, sr, self.sr_t)\n",
    "        if w.dim() == 2 and w.size(0) > 1:\n",
    "            w = w.mean(0)\n",
    "        L = w.numel()\n",
    "        if L > self.max_len:\n",
    "            s = random.randint(0, L - self.max_len) if self.training else 0\n",
    "            w = w[s: s + self.max_len]\n",
    "        else:\n",
    "            w = F.pad(w, (0, self.max_len - L))\n",
    "        return w\n",
    "\n",
    "def collate_fn(batch):\n",
    "    inputs = feature_extractor(\n",
    "        [w.numpy() for w in batch],\n",
    "        sampling_rate=16_000,\n",
    "        padding=True,\n",
    "        return_tensors=\"pt\",\n",
    "        return_attention_mask=True\n",
    "    )\n",
    "    return inputs.input_values, inputs.attention_mask\n",
    "\n",
    "# ---------- 集成推理函数 ----------\n",
    "@torch.no_grad()\n",
    "def predict(audio: torch.Tensor, sr: int) -> str:\n",
    "    if audio.dim() == 2 and audio.size(0) == 1:\n",
    "        audio = audio.squeeze(0)\n",
    "\n",
    "    ds     = InferenceDataset([audio], [sr])\n",
    "    loader = DataLoader(ds, batch_size=1, collate_fn=collate_fn)\n",
    "    wav, attn = next(iter(loader))\n",
    "    wav, attn = wav.to(device), attn.to(device)\n",
    "\n",
    "    logits_sum = torch.zeros((1, len(label_names)), device=device)\n",
    "    for model in models:\n",
    "        logits_sum += model(wav, attn)\n",
    "\n",
    "    pred_idx = logits_sum.argmax(1).item()\n",
    "    return label_names[pred_idx]"
   ]
  },
  {
   "cell_type": "code",
   "execution_count": null,
   "id": "68026a79-6624-4057-a1ab-baf6d481a18f",
   "metadata": {},
   "outputs": [],
   "source": [
    "# ---------- 测试 ----------\n",
    "wav, sr = torchaudio.load('./datasets/67fc7ccbb88b01da6626732d-momodel/train/happy/22.wav')\n",
    "print(\"Pred emotion:\", predict(wav, sr))"
   ]
  }
 ],
 "metadata": {
  "kernelspec": {
   "display_name": "Python 3 (ipykernel)",
   "language": "python",
   "name": "python3"
  },
  "language_info": {
   "codemirror_mode": {
    "name": "ipython",
    "version": 3
   },
   "file_extension": ".py",
   "mimetype": "text/x-python",
   "name": "python",
   "nbconvert_exporter": "python",
   "pygments_lexer": "ipython3",
   "version": "3.12.3"
  }
 },
 "nbformat": 4,
 "nbformat_minor": 5
}
